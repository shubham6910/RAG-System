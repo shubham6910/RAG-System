{
  "nbformat": 4,
  "nbformat_minor": 0,
  "metadata": {
    "colab": {
      "provenance": [],
      "gpuType": "T4",
      "include_colab_link": true
    },
    "kernelspec": {
      "name": "python3",
      "display_name": "Python 3"
    },
    "language_info": {
      "name": "python"
    },
    "widgets": {
      "application/vnd.jupyter.widget-state+json": {
        "449c98d0af1144fbb83b7956f4fa1de4": {
          "model_module": "@jupyter-widgets/controls",
          "model_name": "HBoxModel",
          "model_module_version": "1.5.0",
          "state": {
            "_dom_classes": [],
            "_model_module": "@jupyter-widgets/controls",
            "_model_module_version": "1.5.0",
            "_model_name": "HBoxModel",
            "_view_count": null,
            "_view_module": "@jupyter-widgets/controls",
            "_view_module_version": "1.5.0",
            "_view_name": "HBoxView",
            "box_style": "",
            "children": [
              "IPY_MODEL_9068b348d29c4d40b13fa3cbc5b857ce",
              "IPY_MODEL_59b75665390f4ff6b2ac7114d0a4e6ee",
              "IPY_MODEL_5da709fed0f542c0b5429a711410eebb"
            ],
            "layout": "IPY_MODEL_aeeee7fdcaf24c26be6fc0d6b4453c1c"
          }
        },
        "9068b348d29c4d40b13fa3cbc5b857ce": {
          "model_module": "@jupyter-widgets/controls",
          "model_name": "HTMLModel",
          "model_module_version": "1.5.0",
          "state": {
            "_dom_classes": [],
            "_model_module": "@jupyter-widgets/controls",
            "_model_module_version": "1.5.0",
            "_model_name": "HTMLModel",
            "_view_count": null,
            "_view_module": "@jupyter-widgets/controls",
            "_view_module_version": "1.5.0",
            "_view_name": "HTMLView",
            "description": "",
            "description_tooltip": null,
            "layout": "IPY_MODEL_c2d7c82c5c754022afa4b69736459ebb",
            "placeholder": "​",
            "style": "IPY_MODEL_41bb10f343354304acb4fd2f24bdef87",
            "value": "Loading checkpoint shards: 100%"
          }
        },
        "59b75665390f4ff6b2ac7114d0a4e6ee": {
          "model_module": "@jupyter-widgets/controls",
          "model_name": "FloatProgressModel",
          "model_module_version": "1.5.0",
          "state": {
            "_dom_classes": [],
            "_model_module": "@jupyter-widgets/controls",
            "_model_module_version": "1.5.0",
            "_model_name": "FloatProgressModel",
            "_view_count": null,
            "_view_module": "@jupyter-widgets/controls",
            "_view_module_version": "1.5.0",
            "_view_name": "ProgressView",
            "bar_style": "success",
            "description": "",
            "description_tooltip": null,
            "layout": "IPY_MODEL_3ec080e4326b4550ada9cdc1e438f4f0",
            "max": 2,
            "min": 0,
            "orientation": "horizontal",
            "style": "IPY_MODEL_48a5ccd69eca4380aee4e94176879f0e",
            "value": 2
          }
        },
        "5da709fed0f542c0b5429a711410eebb": {
          "model_module": "@jupyter-widgets/controls",
          "model_name": "HTMLModel",
          "model_module_version": "1.5.0",
          "state": {
            "_dom_classes": [],
            "_model_module": "@jupyter-widgets/controls",
            "_model_module_version": "1.5.0",
            "_model_name": "HTMLModel",
            "_view_count": null,
            "_view_module": "@jupyter-widgets/controls",
            "_view_module_version": "1.5.0",
            "_view_name": "HTMLView",
            "description": "",
            "description_tooltip": null,
            "layout": "IPY_MODEL_4550ea8e38bb4a5589088cb90d5ff0c7",
            "placeholder": "​",
            "style": "IPY_MODEL_66c4f7229cc94923832a1b4a3644e38a",
            "value": " 2/2 [01:01&lt;00:00, 28.11s/it]"
          }
        },
        "aeeee7fdcaf24c26be6fc0d6b4453c1c": {
          "model_module": "@jupyter-widgets/base",
          "model_name": "LayoutModel",
          "model_module_version": "1.2.0",
          "state": {
            "_model_module": "@jupyter-widgets/base",
            "_model_module_version": "1.2.0",
            "_model_name": "LayoutModel",
            "_view_count": null,
            "_view_module": "@jupyter-widgets/base",
            "_view_module_version": "1.2.0",
            "_view_name": "LayoutView",
            "align_content": null,
            "align_items": null,
            "align_self": null,
            "border": null,
            "bottom": null,
            "display": null,
            "flex": null,
            "flex_flow": null,
            "grid_area": null,
            "grid_auto_columns": null,
            "grid_auto_flow": null,
            "grid_auto_rows": null,
            "grid_column": null,
            "grid_gap": null,
            "grid_row": null,
            "grid_template_areas": null,
            "grid_template_columns": null,
            "grid_template_rows": null,
            "height": null,
            "justify_content": null,
            "justify_items": null,
            "left": null,
            "margin": null,
            "max_height": null,
            "max_width": null,
            "min_height": null,
            "min_width": null,
            "object_fit": null,
            "object_position": null,
            "order": null,
            "overflow": null,
            "overflow_x": null,
            "overflow_y": null,
            "padding": null,
            "right": null,
            "top": null,
            "visibility": null,
            "width": null
          }
        },
        "c2d7c82c5c754022afa4b69736459ebb": {
          "model_module": "@jupyter-widgets/base",
          "model_name": "LayoutModel",
          "model_module_version": "1.2.0",
          "state": {
            "_model_module": "@jupyter-widgets/base",
            "_model_module_version": "1.2.0",
            "_model_name": "LayoutModel",
            "_view_count": null,
            "_view_module": "@jupyter-widgets/base",
            "_view_module_version": "1.2.0",
            "_view_name": "LayoutView",
            "align_content": null,
            "align_items": null,
            "align_self": null,
            "border": null,
            "bottom": null,
            "display": null,
            "flex": null,
            "flex_flow": null,
            "grid_area": null,
            "grid_auto_columns": null,
            "grid_auto_flow": null,
            "grid_auto_rows": null,
            "grid_column": null,
            "grid_gap": null,
            "grid_row": null,
            "grid_template_areas": null,
            "grid_template_columns": null,
            "grid_template_rows": null,
            "height": null,
            "justify_content": null,
            "justify_items": null,
            "left": null,
            "margin": null,
            "max_height": null,
            "max_width": null,
            "min_height": null,
            "min_width": null,
            "object_fit": null,
            "object_position": null,
            "order": null,
            "overflow": null,
            "overflow_x": null,
            "overflow_y": null,
            "padding": null,
            "right": null,
            "top": null,
            "visibility": null,
            "width": null
          }
        },
        "41bb10f343354304acb4fd2f24bdef87": {
          "model_module": "@jupyter-widgets/controls",
          "model_name": "DescriptionStyleModel",
          "model_module_version": "1.5.0",
          "state": {
            "_model_module": "@jupyter-widgets/controls",
            "_model_module_version": "1.5.0",
            "_model_name": "DescriptionStyleModel",
            "_view_count": null,
            "_view_module": "@jupyter-widgets/base",
            "_view_module_version": "1.2.0",
            "_view_name": "StyleView",
            "description_width": ""
          }
        },
        "3ec080e4326b4550ada9cdc1e438f4f0": {
          "model_module": "@jupyter-widgets/base",
          "model_name": "LayoutModel",
          "model_module_version": "1.2.0",
          "state": {
            "_model_module": "@jupyter-widgets/base",
            "_model_module_version": "1.2.0",
            "_model_name": "LayoutModel",
            "_view_count": null,
            "_view_module": "@jupyter-widgets/base",
            "_view_module_version": "1.2.0",
            "_view_name": "LayoutView",
            "align_content": null,
            "align_items": null,
            "align_self": null,
            "border": null,
            "bottom": null,
            "display": null,
            "flex": null,
            "flex_flow": null,
            "grid_area": null,
            "grid_auto_columns": null,
            "grid_auto_flow": null,
            "grid_auto_rows": null,
            "grid_column": null,
            "grid_gap": null,
            "grid_row": null,
            "grid_template_areas": null,
            "grid_template_columns": null,
            "grid_template_rows": null,
            "height": null,
            "justify_content": null,
            "justify_items": null,
            "left": null,
            "margin": null,
            "max_height": null,
            "max_width": null,
            "min_height": null,
            "min_width": null,
            "object_fit": null,
            "object_position": null,
            "order": null,
            "overflow": null,
            "overflow_x": null,
            "overflow_y": null,
            "padding": null,
            "right": null,
            "top": null,
            "visibility": null,
            "width": null
          }
        },
        "48a5ccd69eca4380aee4e94176879f0e": {
          "model_module": "@jupyter-widgets/controls",
          "model_name": "ProgressStyleModel",
          "model_module_version": "1.5.0",
          "state": {
            "_model_module": "@jupyter-widgets/controls",
            "_model_module_version": "1.5.0",
            "_model_name": "ProgressStyleModel",
            "_view_count": null,
            "_view_module": "@jupyter-widgets/base",
            "_view_module_version": "1.2.0",
            "_view_name": "StyleView",
            "bar_color": null,
            "description_width": ""
          }
        },
        "4550ea8e38bb4a5589088cb90d5ff0c7": {
          "model_module": "@jupyter-widgets/base",
          "model_name": "LayoutModel",
          "model_module_version": "1.2.0",
          "state": {
            "_model_module": "@jupyter-widgets/base",
            "_model_module_version": "1.2.0",
            "_model_name": "LayoutModel",
            "_view_count": null,
            "_view_module": "@jupyter-widgets/base",
            "_view_module_version": "1.2.0",
            "_view_name": "LayoutView",
            "align_content": null,
            "align_items": null,
            "align_self": null,
            "border": null,
            "bottom": null,
            "display": null,
            "flex": null,
            "flex_flow": null,
            "grid_area": null,
            "grid_auto_columns": null,
            "grid_auto_flow": null,
            "grid_auto_rows": null,
            "grid_column": null,
            "grid_gap": null,
            "grid_row": null,
            "grid_template_areas": null,
            "grid_template_columns": null,
            "grid_template_rows": null,
            "height": null,
            "justify_content": null,
            "justify_items": null,
            "left": null,
            "margin": null,
            "max_height": null,
            "max_width": null,
            "min_height": null,
            "min_width": null,
            "object_fit": null,
            "object_position": null,
            "order": null,
            "overflow": null,
            "overflow_x": null,
            "overflow_y": null,
            "padding": null,
            "right": null,
            "top": null,
            "visibility": null,
            "width": null
          }
        },
        "66c4f7229cc94923832a1b4a3644e38a": {
          "model_module": "@jupyter-widgets/controls",
          "model_name": "DescriptionStyleModel",
          "model_module_version": "1.5.0",
          "state": {
            "_model_module": "@jupyter-widgets/controls",
            "_model_module_version": "1.5.0",
            "_model_name": "DescriptionStyleModel",
            "_view_count": null,
            "_view_module": "@jupyter-widgets/base",
            "_view_module_version": "1.2.0",
            "_view_name": "StyleView",
            "description_width": ""
          }
        }
      }
    },
    "accelerator": "GPU"
  },
  "cells": [
    {
      "cell_type": "markdown",
      "metadata": {
        "id": "view-in-github",
        "colab_type": "text"
      },
      "source": [
        "<a href=\"https://colab.research.google.com/github/shubham6910/RAG-System/blob/main/pdf_rag_Llama2.ipynb\" target=\"_parent\"><img src=\"https://colab.research.google.com/assets/colab-badge.svg\" alt=\"Open In Colab\"/></a>"
      ]
    },
    {
      "cell_type": "markdown",
      "source": [
        "# RAG System Using Llama2 with Hugging **Face**"
      ],
      "metadata": {
        "id": "Guzt8i_GX9Ma"
      }
    },
    {
      "cell_type": "code",
      "execution_count": null,
      "metadata": {
        "id": "pAP68xg2sa6R"
      },
      "outputs": [],
      "source": [
        "!pip install -q transformers einops accelerate langchain bitsandbytes pypdf"
      ]
    },
    {
      "cell_type": "code",
      "source": [
        "!pip install sentence_transformers llama_index llama-index-llms-huggingface-api llama-index-llms-huggingface\n",
        "!pip install PyPDF2\n",
        "!pip install accelerate langchain_community"
      ],
      "metadata": {
        "id": "txL8KMNNC23q",
        "collapsed": true,
        "colab": {
          "base_uri": "https://localhost:8080/"
        },
        "outputId": "0c9e2741-9c2c-4adb-f39c-54b490fad6a2"
      },
      "execution_count": null,
      "outputs": [
        {
          "output_type": "stream",
          "name": "stdout",
          "text": [
            "Requirement already satisfied: sentence_transformers in /usr/local/lib/python3.10/dist-packages (3.2.1)\n",
            "Requirement already satisfied: llama_index in /usr/local/lib/python3.10/dist-packages (0.11.23)\n",
            "Requirement already satisfied: llama-index-llms-huggingface-api in /usr/local/lib/python3.10/dist-packages (0.2.0)\n",
            "Requirement already satisfied: llama-index-llms-huggingface in /usr/local/lib/python3.10/dist-packages (0.3.5)\n",
            "Requirement already satisfied: transformers<5.0.0,>=4.41.0 in /usr/local/lib/python3.10/dist-packages (from sentence_transformers) (4.46.2)\n",
            "Requirement already satisfied: tqdm in /usr/local/lib/python3.10/dist-packages (from sentence_transformers) (4.66.6)\n",
            "Requirement already satisfied: torch>=1.11.0 in /usr/local/lib/python3.10/dist-packages (from sentence_transformers) (2.5.1+cu121)\n",
            "Requirement already satisfied: scikit-learn in /usr/local/lib/python3.10/dist-packages (from sentence_transformers) (1.5.2)\n",
            "Requirement already satisfied: scipy in /usr/local/lib/python3.10/dist-packages (from sentence_transformers) (1.13.1)\n",
            "Requirement already satisfied: huggingface-hub>=0.20.0 in /usr/local/lib/python3.10/dist-packages (from sentence_transformers) (0.23.5)\n",
            "Requirement already satisfied: Pillow in /usr/local/lib/python3.10/dist-packages (from sentence_transformers) (11.0.0)\n",
            "Requirement already satisfied: llama-index-agent-openai<0.4.0,>=0.3.4 in /usr/local/lib/python3.10/dist-packages (from llama_index) (0.3.4)\n",
            "Requirement already satisfied: llama-index-cli<0.4.0,>=0.3.1 in /usr/local/lib/python3.10/dist-packages (from llama_index) (0.3.1)\n",
            "Requirement already satisfied: llama-index-core<0.12.0,>=0.11.23 in /usr/local/lib/python3.10/dist-packages (from llama_index) (0.11.23)\n",
            "Requirement already satisfied: llama-index-embeddings-openai<0.3.0,>=0.2.4 in /usr/local/lib/python3.10/dist-packages (from llama_index) (0.2.5)\n",
            "Requirement already satisfied: llama-index-indices-managed-llama-cloud>=0.3.0 in /usr/local/lib/python3.10/dist-packages (from llama_index) (0.5.0)\n",
            "Requirement already satisfied: llama-index-legacy<0.10.0,>=0.9.48 in /usr/local/lib/python3.10/dist-packages (from llama_index) (0.9.48.post4)\n",
            "Requirement already satisfied: llama-index-llms-openai<0.3.0,>=0.2.10 in /usr/local/lib/python3.10/dist-packages (from llama_index) (0.2.16)\n",
            "Requirement already satisfied: llama-index-multi-modal-llms-openai<0.3.0,>=0.2.0 in /usr/local/lib/python3.10/dist-packages (from llama_index) (0.2.3)\n",
            "Requirement already satisfied: llama-index-program-openai<0.3.0,>=0.2.0 in /usr/local/lib/python3.10/dist-packages (from llama_index) (0.2.0)\n",
            "Requirement already satisfied: llama-index-question-gen-openai<0.3.0,>=0.2.0 in /usr/local/lib/python3.10/dist-packages (from llama_index) (0.2.0)\n",
            "Requirement already satisfied: llama-index-readers-file<0.4.0,>=0.3.0 in /usr/local/lib/python3.10/dist-packages (from llama_index) (0.3.0)\n",
            "Requirement already satisfied: llama-index-readers-llama-parse>=0.3.0 in /usr/local/lib/python3.10/dist-packages (from llama_index) (0.3.0)\n",
            "Requirement already satisfied: nltk>3.8.1 in /usr/local/lib/python3.10/dist-packages (from llama_index) (3.9.1)\n",
            "Requirement already satisfied: text-generation<0.8.0,>=0.7.0 in /usr/local/lib/python3.10/dist-packages (from llama-index-llms-huggingface) (0.7.0)\n",
            "Requirement already satisfied: filelock in /usr/local/lib/python3.10/dist-packages (from huggingface-hub>=0.20.0->sentence_transformers) (3.16.1)\n",
            "Requirement already satisfied: fsspec>=2023.5.0 in /usr/local/lib/python3.10/dist-packages (from huggingface-hub>=0.20.0->sentence_transformers) (2024.10.0)\n",
            "Requirement already satisfied: packaging>=20.9 in /usr/local/lib/python3.10/dist-packages (from huggingface-hub>=0.20.0->sentence_transformers) (24.2)\n",
            "Requirement already satisfied: pyyaml>=5.1 in /usr/local/lib/python3.10/dist-packages (from huggingface-hub>=0.20.0->sentence_transformers) (6.0.2)\n",
            "Requirement already satisfied: requests in /usr/local/lib/python3.10/dist-packages (from huggingface-hub>=0.20.0->sentence_transformers) (2.32.3)\n",
            "Requirement already satisfied: typing-extensions>=3.7.4.3 in /usr/local/lib/python3.10/dist-packages (from huggingface-hub>=0.20.0->sentence_transformers) (4.12.2)\n",
            "Requirement already satisfied: openai>=1.14.0 in /usr/local/lib/python3.10/dist-packages (from llama-index-agent-openai<0.4.0,>=0.3.4->llama_index) (1.54.4)\n",
            "Requirement already satisfied: SQLAlchemy>=1.4.49 in /usr/local/lib/python3.10/dist-packages (from SQLAlchemy[asyncio]>=1.4.49->llama-index-core<0.12.0,>=0.11.23->llama_index) (2.0.35)\n",
            "Requirement already satisfied: aiohttp<4.0.0,>=3.8.6 in /usr/local/lib/python3.10/dist-packages (from llama-index-core<0.12.0,>=0.11.23->llama_index) (3.10.10)\n",
            "Requirement already satisfied: dataclasses-json in /usr/local/lib/python3.10/dist-packages (from llama-index-core<0.12.0,>=0.11.23->llama_index) (0.6.7)\n",
            "Requirement already satisfied: deprecated>=1.2.9.3 in /usr/local/lib/python3.10/dist-packages (from llama-index-core<0.12.0,>=0.11.23->llama_index) (1.2.14)\n",
            "Requirement already satisfied: dirtyjson<2.0.0,>=1.0.8 in /usr/local/lib/python3.10/dist-packages (from llama-index-core<0.12.0,>=0.11.23->llama_index) (1.0.8)\n",
            "Requirement already satisfied: filetype<2.0.0,>=1.2.0 in /usr/local/lib/python3.10/dist-packages (from llama-index-core<0.12.0,>=0.11.23->llama_index) (1.2.0)\n",
            "Requirement already satisfied: httpx in /usr/local/lib/python3.10/dist-packages (from llama-index-core<0.12.0,>=0.11.23->llama_index) (0.27.2)\n",
            "Requirement already satisfied: nest-asyncio<2.0.0,>=1.5.8 in /usr/local/lib/python3.10/dist-packages (from llama-index-core<0.12.0,>=0.11.23->llama_index) (1.6.0)\n",
            "Requirement already satisfied: networkx>=3.0 in /usr/local/lib/python3.10/dist-packages (from llama-index-core<0.12.0,>=0.11.23->llama_index) (3.4.2)\n",
            "Requirement already satisfied: numpy<2.0.0 in /usr/local/lib/python3.10/dist-packages (from llama-index-core<0.12.0,>=0.11.23->llama_index) (1.26.4)\n",
            "Requirement already satisfied: pydantic<3.0.0,>=2.7.0 in /usr/local/lib/python3.10/dist-packages (from llama-index-core<0.12.0,>=0.11.23->llama_index) (2.9.2)\n",
            "Requirement already satisfied: tenacity!=8.4.0,<9.0.0,>=8.2.0 in /usr/local/lib/python3.10/dist-packages (from llama-index-core<0.12.0,>=0.11.23->llama_index) (8.5.0)\n",
            "Requirement already satisfied: tiktoken>=0.3.3 in /usr/local/lib/python3.10/dist-packages (from llama-index-core<0.12.0,>=0.11.23->llama_index) (0.8.0)\n",
            "Requirement already satisfied: typing-inspect>=0.8.0 in /usr/local/lib/python3.10/dist-packages (from llama-index-core<0.12.0,>=0.11.23->llama_index) (0.9.0)\n",
            "Requirement already satisfied: wrapt in /usr/local/lib/python3.10/dist-packages (from llama-index-core<0.12.0,>=0.11.23->llama_index) (1.16.0)\n",
            "Requirement already satisfied: llama-cloud>=0.1.5 in /usr/local/lib/python3.10/dist-packages (from llama-index-indices-managed-llama-cloud>=0.3.0->llama_index) (0.1.5)\n",
            "Requirement already satisfied: pandas in /usr/local/lib/python3.10/dist-packages (from llama-index-legacy<0.10.0,>=0.9.48->llama_index) (2.2.2)\n",
            "Requirement already satisfied: beautifulsoup4<5.0.0,>=4.12.3 in /usr/local/lib/python3.10/dist-packages (from llama-index-readers-file<0.4.0,>=0.3.0->llama_index) (4.12.3)\n",
            "Requirement already satisfied: pypdf<6.0.0,>=5.1.0 in /usr/local/lib/python3.10/dist-packages (from llama-index-readers-file<0.4.0,>=0.3.0->llama_index) (5.1.0)\n",
            "Requirement already satisfied: striprtf<0.0.27,>=0.0.26 in /usr/local/lib/python3.10/dist-packages (from llama-index-readers-file<0.4.0,>=0.3.0->llama_index) (0.0.26)\n",
            "Requirement already satisfied: llama-parse>=0.5.0 in /usr/local/lib/python3.10/dist-packages (from llama-index-readers-llama-parse>=0.3.0->llama_index) (0.5.14)\n",
            "Requirement already satisfied: click in /usr/local/lib/python3.10/dist-packages (from nltk>3.8.1->llama_index) (8.1.7)\n",
            "Requirement already satisfied: joblib in /usr/local/lib/python3.10/dist-packages (from nltk>3.8.1->llama_index) (1.4.2)\n",
            "Requirement already satisfied: regex>=2021.8.3 in /usr/local/lib/python3.10/dist-packages (from nltk>3.8.1->llama_index) (2024.9.11)\n",
            "Requirement already satisfied: jinja2 in /usr/local/lib/python3.10/dist-packages (from torch>=1.11.0->sentence_transformers) (3.1.4)\n",
            "Requirement already satisfied: sympy==1.13.1 in /usr/local/lib/python3.10/dist-packages (from torch>=1.11.0->sentence_transformers) (1.13.1)\n",
            "Requirement already satisfied: mpmath<1.4,>=1.1.0 in /usr/local/lib/python3.10/dist-packages (from sympy==1.13.1->torch>=1.11.0->sentence_transformers) (1.3.0)\n",
            "Requirement already satisfied: safetensors>=0.4.1 in /usr/local/lib/python3.10/dist-packages (from transformers<5.0.0,>=4.41.0->sentence_transformers) (0.4.5)\n",
            "Requirement already satisfied: tokenizers<0.21,>=0.20 in /usr/local/lib/python3.10/dist-packages (from transformers<5.0.0,>=4.41.0->sentence_transformers) (0.20.3)\n",
            "Requirement already satisfied: accelerate>=0.26.0 in /usr/local/lib/python3.10/dist-packages (from transformers[torch]<5.0.0,>=4.37.0->llama-index-llms-huggingface) (1.1.1)\n",
            "Requirement already satisfied: threadpoolctl>=3.1.0 in /usr/local/lib/python3.10/dist-packages (from scikit-learn->sentence_transformers) (3.5.0)\n",
            "Requirement already satisfied: psutil in /usr/local/lib/python3.10/dist-packages (from accelerate>=0.26.0->transformers[torch]<5.0.0,>=4.37.0->llama-index-llms-huggingface) (5.9.5)\n",
            "Requirement already satisfied: aiohappyeyeballs>=2.3.0 in /usr/local/lib/python3.10/dist-packages (from aiohttp<4.0.0,>=3.8.6->llama-index-core<0.12.0,>=0.11.23->llama_index) (2.4.3)\n",
            "Requirement already satisfied: aiosignal>=1.1.2 in /usr/local/lib/python3.10/dist-packages (from aiohttp<4.0.0,>=3.8.6->llama-index-core<0.12.0,>=0.11.23->llama_index) (1.3.1)\n",
            "Requirement already satisfied: attrs>=17.3.0 in /usr/local/lib/python3.10/dist-packages (from aiohttp<4.0.0,>=3.8.6->llama-index-core<0.12.0,>=0.11.23->llama_index) (24.2.0)\n",
            "Requirement already satisfied: frozenlist>=1.1.1 in /usr/local/lib/python3.10/dist-packages (from aiohttp<4.0.0,>=3.8.6->llama-index-core<0.12.0,>=0.11.23->llama_index) (1.5.0)\n",
            "Requirement already satisfied: multidict<7.0,>=4.5 in /usr/local/lib/python3.10/dist-packages (from aiohttp<4.0.0,>=3.8.6->llama-index-core<0.12.0,>=0.11.23->llama_index) (6.1.0)\n",
            "Requirement already satisfied: yarl<2.0,>=1.12.0 in /usr/local/lib/python3.10/dist-packages (from aiohttp<4.0.0,>=3.8.6->llama-index-core<0.12.0,>=0.11.23->llama_index) (1.17.1)\n",
            "Requirement already satisfied: async-timeout<5.0,>=4.0 in /usr/local/lib/python3.10/dist-packages (from aiohttp<4.0.0,>=3.8.6->llama-index-core<0.12.0,>=0.11.23->llama_index) (4.0.3)\n",
            "Requirement already satisfied: soupsieve>1.2 in /usr/local/lib/python3.10/dist-packages (from beautifulsoup4<5.0.0,>=4.12.3->llama-index-readers-file<0.4.0,>=0.3.0->llama_index) (2.6)\n",
            "Requirement already satisfied: anyio in /usr/local/lib/python3.10/dist-packages (from httpx->llama-index-core<0.12.0,>=0.11.23->llama_index) (3.7.1)\n",
            "Requirement already satisfied: certifi in /usr/local/lib/python3.10/dist-packages (from httpx->llama-index-core<0.12.0,>=0.11.23->llama_index) (2024.8.30)\n",
            "Requirement already satisfied: httpcore==1.* in /usr/local/lib/python3.10/dist-packages (from httpx->llama-index-core<0.12.0,>=0.11.23->llama_index) (1.0.6)\n",
            "Requirement already satisfied: idna in /usr/local/lib/python3.10/dist-packages (from httpx->llama-index-core<0.12.0,>=0.11.23->llama_index) (3.10)\n",
            "Requirement already satisfied: sniffio in /usr/local/lib/python3.10/dist-packages (from httpx->llama-index-core<0.12.0,>=0.11.23->llama_index) (1.3.1)\n",
            "Requirement already satisfied: h11<0.15,>=0.13 in /usr/local/lib/python3.10/dist-packages (from httpcore==1.*->httpx->llama-index-core<0.12.0,>=0.11.23->llama_index) (0.14.0)\n",
            "Requirement already satisfied: distro<2,>=1.7.0 in /usr/local/lib/python3.10/dist-packages (from openai>=1.14.0->llama-index-agent-openai<0.4.0,>=0.3.4->llama_index) (1.9.0)\n",
            "Requirement already satisfied: jiter<1,>=0.4.0 in /usr/local/lib/python3.10/dist-packages (from openai>=1.14.0->llama-index-agent-openai<0.4.0,>=0.3.4->llama_index) (0.7.1)\n",
            "Requirement already satisfied: annotated-types>=0.6.0 in /usr/local/lib/python3.10/dist-packages (from pydantic<3.0.0,>=2.7.0->llama-index-core<0.12.0,>=0.11.23->llama_index) (0.7.0)\n",
            "Requirement already satisfied: pydantic-core==2.23.4 in /usr/local/lib/python3.10/dist-packages (from pydantic<3.0.0,>=2.7.0->llama-index-core<0.12.0,>=0.11.23->llama_index) (2.23.4)\n",
            "Requirement already satisfied: charset-normalizer<4,>=2 in /usr/local/lib/python3.10/dist-packages (from requests->huggingface-hub>=0.20.0->sentence_transformers) (3.4.0)\n",
            "Requirement already satisfied: urllib3<3,>=1.21.1 in /usr/local/lib/python3.10/dist-packages (from requests->huggingface-hub>=0.20.0->sentence_transformers) (2.2.3)\n",
            "Requirement already satisfied: greenlet!=0.4.17 in /usr/local/lib/python3.10/dist-packages (from SQLAlchemy>=1.4.49->SQLAlchemy[asyncio]>=1.4.49->llama-index-core<0.12.0,>=0.11.23->llama_index) (3.1.1)\n",
            "Requirement already satisfied: mypy-extensions>=0.3.0 in /usr/local/lib/python3.10/dist-packages (from typing-inspect>=0.8.0->llama-index-core<0.12.0,>=0.11.23->llama_index) (1.0.0)\n",
            "Requirement already satisfied: marshmallow<4.0.0,>=3.18.0 in /usr/local/lib/python3.10/dist-packages (from dataclasses-json->llama-index-core<0.12.0,>=0.11.23->llama_index) (3.23.1)\n",
            "Requirement already satisfied: MarkupSafe>=2.0 in /usr/local/lib/python3.10/dist-packages (from jinja2->torch>=1.11.0->sentence_transformers) (3.0.2)\n",
            "Requirement already satisfied: python-dateutil>=2.8.2 in /usr/local/lib/python3.10/dist-packages (from pandas->llama-index-legacy<0.10.0,>=0.9.48->llama_index) (2.8.2)\n",
            "Requirement already satisfied: pytz>=2020.1 in /usr/local/lib/python3.10/dist-packages (from pandas->llama-index-legacy<0.10.0,>=0.9.48->llama_index) (2024.2)\n",
            "Requirement already satisfied: tzdata>=2022.7 in /usr/local/lib/python3.10/dist-packages (from pandas->llama-index-legacy<0.10.0,>=0.9.48->llama_index) (2024.2)\n",
            "Requirement already satisfied: exceptiongroup in /usr/local/lib/python3.10/dist-packages (from anyio->httpx->llama-index-core<0.12.0,>=0.11.23->llama_index) (1.2.2)\n",
            "Requirement already satisfied: six>=1.5 in /usr/local/lib/python3.10/dist-packages (from python-dateutil>=2.8.2->pandas->llama-index-legacy<0.10.0,>=0.9.48->llama_index) (1.16.0)\n",
            "Requirement already satisfied: propcache>=0.2.0 in /usr/local/lib/python3.10/dist-packages (from yarl<2.0,>=1.12.0->aiohttp<4.0.0,>=3.8.6->llama-index-core<0.12.0,>=0.11.23->llama_index) (0.2.0)\n",
            "Requirement already satisfied: PyPDF2 in /usr/local/lib/python3.10/dist-packages (3.0.1)\n",
            "Requirement already satisfied: accelerate in /usr/local/lib/python3.10/dist-packages (1.1.1)\n",
            "Requirement already satisfied: langchain_community in /usr/local/lib/python3.10/dist-packages (0.3.7)\n",
            "Requirement already satisfied: huggingface-hub>=0.21.0 in /usr/local/lib/python3.10/dist-packages (from accelerate) (0.23.5)\n",
            "Requirement already satisfied: numpy<3.0.0,>=1.17 in /usr/local/lib/python3.10/dist-packages (from accelerate) (1.26.4)\n",
            "Requirement already satisfied: packaging>=20.0 in /usr/local/lib/python3.10/dist-packages (from accelerate) (24.2)\n",
            "Requirement already satisfied: psutil in /usr/local/lib/python3.10/dist-packages (from accelerate) (5.9.5)\n",
            "Requirement already satisfied: pyyaml in /usr/local/lib/python3.10/dist-packages (from accelerate) (6.0.2)\n",
            "Requirement already satisfied: safetensors>=0.4.3 in /usr/local/lib/python3.10/dist-packages (from accelerate) (0.4.5)\n",
            "Requirement already satisfied: torch>=1.10.0 in /usr/local/lib/python3.10/dist-packages (from accelerate) (2.5.1+cu121)\n",
            "Requirement already satisfied: SQLAlchemy<2.0.36,>=1.4 in /usr/local/lib/python3.10/dist-packages (from langchain_community) (2.0.35)\n",
            "Requirement already satisfied: aiohttp<4.0.0,>=3.8.3 in /usr/local/lib/python3.10/dist-packages (from langchain_community) (3.10.10)\n",
            "Requirement already satisfied: dataclasses-json<0.7,>=0.5.7 in /usr/local/lib/python3.10/dist-packages (from langchain_community) (0.6.7)\n",
            "Requirement already satisfied: httpx-sse<0.5.0,>=0.4.0 in /usr/local/lib/python3.10/dist-packages (from langchain_community) (0.4.0)\n",
            "Requirement already satisfied: langchain<0.4.0,>=0.3.7 in /usr/local/lib/python3.10/dist-packages (from langchain_community) (0.3.7)\n",
            "Requirement already satisfied: langchain-core<0.4.0,>=0.3.17 in /usr/local/lib/python3.10/dist-packages (from langchain_community) (0.3.17)\n",
            "Requirement already satisfied: langsmith<0.2.0,>=0.1.125 in /usr/local/lib/python3.10/dist-packages (from langchain_community) (0.1.142)\n",
            "Requirement already satisfied: pydantic-settings<3.0.0,>=2.4.0 in /usr/local/lib/python3.10/dist-packages (from langchain_community) (2.6.1)\n",
            "Requirement already satisfied: requests<3,>=2 in /usr/local/lib/python3.10/dist-packages (from langchain_community) (2.32.3)\n",
            "Requirement already satisfied: tenacity!=8.4.0,<10,>=8.1.0 in /usr/local/lib/python3.10/dist-packages (from langchain_community) (8.5.0)\n",
            "Requirement already satisfied: aiohappyeyeballs>=2.3.0 in /usr/local/lib/python3.10/dist-packages (from aiohttp<4.0.0,>=3.8.3->langchain_community) (2.4.3)\n",
            "Requirement already satisfied: aiosignal>=1.1.2 in /usr/local/lib/python3.10/dist-packages (from aiohttp<4.0.0,>=3.8.3->langchain_community) (1.3.1)\n",
            "Requirement already satisfied: attrs>=17.3.0 in /usr/local/lib/python3.10/dist-packages (from aiohttp<4.0.0,>=3.8.3->langchain_community) (24.2.0)\n",
            "Requirement already satisfied: frozenlist>=1.1.1 in /usr/local/lib/python3.10/dist-packages (from aiohttp<4.0.0,>=3.8.3->langchain_community) (1.5.0)\n",
            "Requirement already satisfied: multidict<7.0,>=4.5 in /usr/local/lib/python3.10/dist-packages (from aiohttp<4.0.0,>=3.8.3->langchain_community) (6.1.0)\n",
            "Requirement already satisfied: yarl<2.0,>=1.12.0 in /usr/local/lib/python3.10/dist-packages (from aiohttp<4.0.0,>=3.8.3->langchain_community) (1.17.1)\n",
            "Requirement already satisfied: async-timeout<5.0,>=4.0 in /usr/local/lib/python3.10/dist-packages (from aiohttp<4.0.0,>=3.8.3->langchain_community) (4.0.3)\n",
            "Requirement already satisfied: marshmallow<4.0.0,>=3.18.0 in /usr/local/lib/python3.10/dist-packages (from dataclasses-json<0.7,>=0.5.7->langchain_community) (3.23.1)\n",
            "Requirement already satisfied: typing-inspect<1,>=0.4.0 in /usr/local/lib/python3.10/dist-packages (from dataclasses-json<0.7,>=0.5.7->langchain_community) (0.9.0)\n",
            "Requirement already satisfied: filelock in /usr/local/lib/python3.10/dist-packages (from huggingface-hub>=0.21.0->accelerate) (3.16.1)\n",
            "Requirement already satisfied: fsspec>=2023.5.0 in /usr/local/lib/python3.10/dist-packages (from huggingface-hub>=0.21.0->accelerate) (2024.10.0)\n",
            "Requirement already satisfied: tqdm>=4.42.1 in /usr/local/lib/python3.10/dist-packages (from huggingface-hub>=0.21.0->accelerate) (4.66.6)\n",
            "Requirement already satisfied: typing-extensions>=3.7.4.3 in /usr/local/lib/python3.10/dist-packages (from huggingface-hub>=0.21.0->accelerate) (4.12.2)\n",
            "Requirement already satisfied: langchain-text-splitters<0.4.0,>=0.3.0 in /usr/local/lib/python3.10/dist-packages (from langchain<0.4.0,>=0.3.7->langchain_community) (0.3.2)\n",
            "Requirement already satisfied: pydantic<3.0.0,>=2.7.4 in /usr/local/lib/python3.10/dist-packages (from langchain<0.4.0,>=0.3.7->langchain_community) (2.9.2)\n",
            "Requirement already satisfied: jsonpatch<2.0,>=1.33 in /usr/local/lib/python3.10/dist-packages (from langchain-core<0.4.0,>=0.3.17->langchain_community) (1.33)\n",
            "Requirement already satisfied: httpx<1,>=0.23.0 in /usr/local/lib/python3.10/dist-packages (from langsmith<0.2.0,>=0.1.125->langchain_community) (0.27.2)\n",
            "Requirement already satisfied: orjson<4.0.0,>=3.9.14 in /usr/local/lib/python3.10/dist-packages (from langsmith<0.2.0,>=0.1.125->langchain_community) (3.10.11)\n",
            "Requirement already satisfied: requests-toolbelt<2.0.0,>=1.0.0 in /usr/local/lib/python3.10/dist-packages (from langsmith<0.2.0,>=0.1.125->langchain_community) (1.0.0)\n",
            "Requirement already satisfied: python-dotenv>=0.21.0 in /usr/local/lib/python3.10/dist-packages (from pydantic-settings<3.0.0,>=2.4.0->langchain_community) (1.0.1)\n",
            "Requirement already satisfied: charset-normalizer<4,>=2 in /usr/local/lib/python3.10/dist-packages (from requests<3,>=2->langchain_community) (3.4.0)\n",
            "Requirement already satisfied: idna<4,>=2.5 in /usr/local/lib/python3.10/dist-packages (from requests<3,>=2->langchain_community) (3.10)\n",
            "Requirement already satisfied: urllib3<3,>=1.21.1 in /usr/local/lib/python3.10/dist-packages (from requests<3,>=2->langchain_community) (2.2.3)\n",
            "Requirement already satisfied: certifi>=2017.4.17 in /usr/local/lib/python3.10/dist-packages (from requests<3,>=2->langchain_community) (2024.8.30)\n",
            "Requirement already satisfied: greenlet!=0.4.17 in /usr/local/lib/python3.10/dist-packages (from SQLAlchemy<2.0.36,>=1.4->langchain_community) (3.1.1)\n",
            "Requirement already satisfied: networkx in /usr/local/lib/python3.10/dist-packages (from torch>=1.10.0->accelerate) (3.4.2)\n",
            "Requirement already satisfied: jinja2 in /usr/local/lib/python3.10/dist-packages (from torch>=1.10.0->accelerate) (3.1.4)\n",
            "Requirement already satisfied: sympy==1.13.1 in /usr/local/lib/python3.10/dist-packages (from torch>=1.10.0->accelerate) (1.13.1)\n",
            "Requirement already satisfied: mpmath<1.4,>=1.1.0 in /usr/local/lib/python3.10/dist-packages (from sympy==1.13.1->torch>=1.10.0->accelerate) (1.3.0)\n",
            "Requirement already satisfied: anyio in /usr/local/lib/python3.10/dist-packages (from httpx<1,>=0.23.0->langsmith<0.2.0,>=0.1.125->langchain_community) (3.7.1)\n",
            "Requirement already satisfied: httpcore==1.* in /usr/local/lib/python3.10/dist-packages (from httpx<1,>=0.23.0->langsmith<0.2.0,>=0.1.125->langchain_community) (1.0.6)\n",
            "Requirement already satisfied: sniffio in /usr/local/lib/python3.10/dist-packages (from httpx<1,>=0.23.0->langsmith<0.2.0,>=0.1.125->langchain_community) (1.3.1)\n",
            "Requirement already satisfied: h11<0.15,>=0.13 in /usr/local/lib/python3.10/dist-packages (from httpcore==1.*->httpx<1,>=0.23.0->langsmith<0.2.0,>=0.1.125->langchain_community) (0.14.0)\n",
            "Requirement already satisfied: jsonpointer>=1.9 in /usr/local/lib/python3.10/dist-packages (from jsonpatch<2.0,>=1.33->langchain-core<0.4.0,>=0.3.17->langchain_community) (3.0.0)\n",
            "Requirement already satisfied: annotated-types>=0.6.0 in /usr/local/lib/python3.10/dist-packages (from pydantic<3.0.0,>=2.7.4->langchain<0.4.0,>=0.3.7->langchain_community) (0.7.0)\n",
            "Requirement already satisfied: pydantic-core==2.23.4 in /usr/local/lib/python3.10/dist-packages (from pydantic<3.0.0,>=2.7.4->langchain<0.4.0,>=0.3.7->langchain_community) (2.23.4)\n",
            "Requirement already satisfied: mypy-extensions>=0.3.0 in /usr/local/lib/python3.10/dist-packages (from typing-inspect<1,>=0.4.0->dataclasses-json<0.7,>=0.5.7->langchain_community) (1.0.0)\n",
            "Requirement already satisfied: propcache>=0.2.0 in /usr/local/lib/python3.10/dist-packages (from yarl<2.0,>=1.12.0->aiohttp<4.0.0,>=3.8.3->langchain_community) (0.2.0)\n",
            "Requirement already satisfied: MarkupSafe>=2.0 in /usr/local/lib/python3.10/dist-packages (from jinja2->torch>=1.10.0->accelerate) (3.0.2)\n",
            "Requirement already satisfied: exceptiongroup in /usr/local/lib/python3.10/dist-packages (from anyio->httpx<1,>=0.23.0->langsmith<0.2.0,>=0.1.125->langchain_community) (1.2.2)\n"
          ]
        }
      ]
    },
    {
      "cell_type": "code",
      "source": [
        "!pip install bitsandbytes==0.41.0"
      ],
      "metadata": {
        "id": "UFhSNoYVc-3T",
        "colab": {
          "base_uri": "https://localhost:8080/"
        },
        "outputId": "946cf70e-56b0-4894-9e69-84490d00c25c"
      },
      "execution_count": null,
      "outputs": [
        {
          "output_type": "stream",
          "name": "stdout",
          "text": [
            "Requirement already satisfied: bitsandbytes==0.41.0 in /usr/local/lib/python3.10/dist-packages (0.41.0)\n"
          ]
        }
      ]
    },
    {
      "cell_type": "code",
      "source": [
        "from llama_index.core import VectorStoreIndex,SimpleDirectoryReader,ServiceContext,PromptTemplate\n",
        "from llama_index.llms.huggingface import HuggingFaceLLM\n",
        "from llama_index.core.prompts.prompts import SimpleInputPrompt\n",
        "from PyPDF2 import PdfReader"
      ],
      "metadata": {
        "id": "AuGEvNkDQXZo",
        "colab": {
          "base_uri": "https://localhost:8080/"
        },
        "outputId": "2be6cd1c-3082-4253-f78e-057211d43ce1"
      },
      "execution_count": null,
      "outputs": [
        {
          "output_type": "stream",
          "name": "stderr",
          "text": [
            "/usr/local/lib/python3.10/dist-packages/pydantic/_internal/_fields.py:132: UserWarning: Field \"model_id\" in DeployedModel has conflict with protected namespace \"model_\".\n",
            "\n",
            "You may be able to resolve this warning by setting `model_config['protected_namespaces'] = ()`.\n",
            "  warnings.warn(\n",
            "/usr/local/lib/python3.10/dist-packages/pydantic/_internal/_fields.py:132: UserWarning: Field \"model_name\" in HuggingFaceLLM has conflict with protected namespace \"model_\".\n",
            "\n",
            "You may be able to resolve this warning by setting `model_config['protected_namespaces'] = ()`.\n",
            "  warnings.warn(\n",
            "/usr/local/lib/python3.10/dist-packages/pydantic/_internal/_fields.py:132: UserWarning: Field \"model_kwargs\" in HuggingFaceLLM has conflict with protected namespace \"model_\".\n",
            "\n",
            "You may be able to resolve this warning by setting `model_config['protected_namespaces'] = ()`.\n",
            "  warnings.warn(\n",
            "/usr/local/lib/python3.10/dist-packages/pydantic/_internal/_fields.py:132: UserWarning: Field \"model_name\" in HuggingFaceInferenceAPI has conflict with protected namespace \"model_\".\n",
            "\n",
            "You may be able to resolve this warning by setting `model_config['protected_namespaces'] = ()`.\n",
            "  warnings.warn(\n",
            "/usr/local/lib/python3.10/dist-packages/pydantic/_internal/_fields.py:132: UserWarning: Field \"model_name\" in TextGenerationInference has conflict with protected namespace \"model_\".\n",
            "\n",
            "You may be able to resolve this warning by setting `model_config['protected_namespaces'] = ()`.\n",
            "  warnings.warn(\n"
          ]
        }
      ]
    },
    {
      "cell_type": "code",
      "source": [
        "pdf_path = \"/content/SJS Transcript Call.pdf\"\n",
        "reader = PdfReader(pdf_path)\n",
        "documents = [page.extract_text() for page in reader.pages]\n",
        "print(documents)"
      ],
      "metadata": {
        "id": "almuPpdEOLf_",
        "colab": {
          "base_uri": "https://localhost:8080/"
        },
        "outputId": "f360671f-d492-4bce-bcf5-3fc5988d3469"
      },
      "execution_count": null,
      "outputs": [
        {
          "output_type": "stream",
          "name": "stdout",
          "text": [
            "[' \\n \\nAugust 03, 2023 \\nTo, \\nNational Stock Exchange of India Limited  \\nExchange Plaza, 5th Floor, \\nPlot No. C/1, G Block, \\nBandra – Kurla Complex, \\nBandra (E), Mumbai -400 051 \\n \\nSymbol: SJS  BSE Limited  \\nCorporate Relationship Department, \\n2nd Floor, New Trading Wing, \\nRotunda Building, P.J. Towers, \\nDalal Street, Mumbai – 400 001 \\n \\nScrip Code: 543387  \\n \\nISIN: INE284S01014 \\n \\nDear Sir/Madam,   \\n \\nSubject: Transcripts of Analysts/Investor Meet/ Earnings Call of the Company pertaining to Q1 of FY \\n2023-24 \\nPlease find enclosed the transcripts of the Analysts/Investor Meet/ Earnings Call of Q1 FY 2023-24 held \\non July 27, 2023. \\n \\nYou are requested to kindly take the same on record. \\n \\nThanking you. \\nYours faithfully, \\nFor S.J.S. Enterprises Limited \\n \\n \\n \\n_______________________ \\nThabraz Hushain W.  \\nCompany Secretary and Compliance Officer \\nMembership No.: A51119 \\n \\nEncl: As above \\n ', ' \\n \\nSJS Enterprises Limited  \\nQ1 FY202 4 Earnings Conference Call  \\n \\nJuly 27, 202 3 \\n \\n \\n \\n \\n \\n \\n \\n \\n \\n \\n \\n \\n \\n \\n \\nANALYST : MR. RONAK MEHTA  – JM FINANCIAL  \\n \\nMANAGEMENT : MR. K.A.  JOSEPH – MANAGING DIRECTOR  & CO-FOUNDER  \\nMR. SANJAY THAPAR – CEO  & EXECUTIVE DIRECTOR  \\nMR. MAHENDRA NAREDI – CHIEF FINANCIAL OFFICER  \\nMS. DEV ANSHI DHRUV A – HEAD – INVESTOR  RELATIONS  \\n \\n  \\n', \" SJS Enterprises  \\nJuly 27, 2023  \\n \\nModerator:  Ladies and gentlemen, good day and welcome to the SJS Enterprises 1Q FY24 Earnings \\nConference Call hosted by JM Financial.  \\nAs a reminder, all participant lines will be in the listen -only mode and there will be an \\nopportunity for you to ask questions after the presentation concludes . Should you need assistance \\nduring the conference call, please signal an operator by pressing ‘*’ then ‘0’on a touc htone \\nphone. Please note that this conference is being recorded.  \\nI now hand the conference over to Mr. Ronak Mehta from JM Financial. Thank you and over to \\nyou, Mr. Mehta.  \\nRonak Mehta:  From JM  Financial Institutional Securities , I welcome you all to 1Q FY2 4 Earnings Call of SJS \\nEnterprises. From the Management Team , we have with us today, Mr. K  A Joseph  – Managing \\nDirector and Co-Founder ; Mr. Sanjay Thapar - CEO and Executive Director ; Mr. Mahendra \\nNaredi  - Chief Financial Officer and Ms . Devanshi Dhruva  – Head , Investor Relations.  \\nSo as we do always, we will start the call  with b rief opening remarks from the management \\nfollowed by a Q&A session. So with that over to you Devanshi. Thank you.  \\nDevanshi Dhruva:  Thank you, Ronak . Good morning, ladies and gentlemen, and thank you for being with us over \\nthe call today. We appreciate it.  \\nMoving on, this is how we intend to take today's conference call forward. I will pass on the dais \\nto Mr. K A Joseph  – our M .D. and Co-Founder, who will make the opening remar ks and brief \\nyou all about our latest acquisition, Walter Pack India's Performance . Then he will hand it over \\nto Mr. Sanjay Thapar  – our CEO and Executive Director, who will take you through some of the \\nslides of our presentation that have been uploaded on the stock exchange as well as on our \\nwebsite.  \\nSanjay will take you all through the industry view , our business performance and also give a \\nstrategic outloo k for the future growth of the company at the end. And Mr. Mahendra Naredi  – \\nour CFO , will update you on our financial highlights  and post which we will open it up for Q&A . \\nThe duration of this call will be around 60 minutes and we will try to wrap up our comments in \\nabout 20 minutes so that we leave enough time for you guys to ask questions. If time is not \\nenough, please feel free to reach out to us through e -mail and I will try to answer all your \\nquestions to the best of my abilities.  \\nThank you once again and I will now hand it over to Mr. Joseph t o make his opening comment . \\nOver to you, Joe.  \\nK.A. Joseph : Thank you , Devanshi for the introduction. Hello and good morning , everyone. I trust you had a \\nchance to look at our Investor Presentation  and the Results  published yesterday.  \", \" SJS Enterprises  \\nJuly 27, 2023  \\n \\nWhile Sanjay and Mah endra will take you all through the presentation later, I'm happy to inform \\nthat we have completed the transformative acquisit ion of Walter Pack India within the set \\ntimeline . \\nAfter the  successful acquisition of Exot ech and the robust performance we delivered there in the \\nlast two years, we have gained more confidence in our execution capabilities of acquiring and \\nintegrating com panies that could take SJS to the next  level of growth. We now strongly believe \\nthat to strengthen our market leadership in the aesthetic business , inorganic acquisitions will \\ncontinue to be our core strategy going forward.  \\nWalter Pack  acquisition has ope ned up a plethora of new opportunities for us. With this \\nacquisition, we have penetrated deeper in passenger vehicles and consumer appliances segment, \\nthereby further reducing our two wheeler dependence. According to SJ S Q1 F Y24 pro forma  \\nnumbers, which includes Walter  Pack  India , 36% revenue contribution would be from two \\nwheelers, 36% from passenger vehicles and 28% from consumer appliances and others. Both \\nExotech and Walter Pack  acquisition have helped us to balance our portfolio conce ntration from \\na large two wheeler  player to an overall automotive and consumer appliances player . \\nWith Walter Pack acquisition, we have not only acquired a very large growth and high margin \\nbusiness at a good valuation, but at the same time achieved many k ey strategic objectives in \\nterms of addition of new and emerging technologies, new customers, manufacturing capabilities \\nand increase management bandwidth.  \\nI would also like to highlight that Roy Mathew , one of the founders of Walter Pack India will \\ncontin ue to spearhead Walter Pack with 10% stake. This will ensure seamless integration in the \\nshort term and harnessing optimum  revenue synergies in the medium  term. I am excited and \\neagerly looking forward to see how SJ S grows multi -folds in the future with al l the synergies \\nand cross -selling opportunities playing out amongst the three companies.  \\nWe have seen a good start for Walter Pack India this quarter. Walter Pack Q1 witnessed a strong \\nrevenue growth of 21% YoY and a robust margin performance with EBITDA  margins around \\n31.5%. Please note that for FY24 only nine months financials  of Walter P ack India will be \\nconsolidated with SJS financials.  \\nWith that said, I would like to now hand over t he call to Sanjay to take you ’ll through some of \\nthe business and indus try highlights for the quarter. Thank you. Over to you, Sanjay.  \\nSanjay  Thapar : Yes. Thank you, Joe, for updating our investors and analysts on W alter P ack. Very  good morning \\neveryone.  \\nStarting with our Q1 highlights : \", \" SJS Enterprises  \\nJuly 27, 2023  \\n \\nWe have seen a robust start to FY 24 financial year as we yet again outperformed the automotive \\nindustry for the 15th consecutive quarter. Consolidated revenues, that is SJS plus Exotech \\ntogether grew  by 13.6% Y oY on the back of strong 18.6% Y oY growth in the automotive segment \\nfor us , that is the two wheeler and passenger  vehicles combined . The automotive segment has \\ngrown well for us both in the domestic market at 14.2% Y oY and exports market at about 120.7% \\nYoY. \\nIn Q1 FY24, we generated Rs.77.1 million in cash flows, taking total cash and cash equivalents \\nto Rs.2,849.7 million, as of 30th June. However, post the completion of our Walter Pack \\nacquisition recently , our cash and cash equivalent stand s at 461.7 million a nd the net debt stands \\nat 539.8 million.  \\nWe added two marquee customers to our already  large portfolio, Toyota Tsusho  and Auto liv. \\nAuto liv is the world's largest automotive safety supplier with sales to all major car manufacturers \\nin the world and we have bagged  a large order of IML parts from them.  \\nSJS has been consistently growing ahead of the industry and this quarter  is no different. In Q1, \\nthe two wheeler industry production grew 1.3% Y oY while SJS consolidated two wheeler sales \\ngrew by 15% Y oY. The company witnessed passenger vehicle segment growth of 24.6% on YoY \\nbasis while the industry production volume grew by 7%. Automotive that is two wheeler plus \\npassenger vehicle industry production grew only 2.3% Y oY , while S JS witnessed a robust growt h \\nof 18 .6% Y oY on account of new business wins and increasing share of business in the \\nautomotive segment. Overall consolidated S JS sales grew by 13.6% year -on-year, partially \\nimpacted on account of slow recovery in the consumer appliances  segment and some  degrowth \\nin the farm equipment segment.  \\nHowever, I would like to inform you that we are seeing improvement in the export markets and \\nour export revenue almost doubled for the quarter compared to last year  same quarter  which was \\nimpacted due to geopolitic al issues in Europe and also macroeconomic slowdown in North \\nAmerica.  \\nThe increase in export revenue this quarter is largely due to winning new businesses with our \\nexisting customers in South America and EMEA . Our exports initiatives are playing out steadi ly. \\nAppointing sales agents in South America, is helping us to strengthen our presence in that region. \\nWe intend to hire more such agents in North America and Europe as well to grow exports. We \\nare seeing gradual pickup in demand in North America and Europe . This bounce back in export \\nrevenue will defini tely help us grow  further and it reinstates our belief that exports will be one \\nof the core growth drivers for our company in the future.  \\nApart from adding two new customers like Autoliv  and Toyota Tsusho  as I mentioned earlier, \\nwe continue to expand our wallet share by winning new businesses from key customers like \\nMahindra , TVS, Visteon, Hyundai, Bajaj Auto Continental, Honda Motorcycles  & Scooters \\namongst others.  \", \" SJS Enterprises  \\nJuly 27, 2023  \\n \\nBefore I hand over to Mahendr a, I would like to share one more update with you . On the CSR \\nfront , we've been supporting the paraplegic climber , Mr. Manikandan, since the past seven years \\nand year -after-year, he's been winning medals and laurels  in this field, making India proud. This \\nquarter too, we sponsored him for the IF SC Para Climbing World Cup held in June '23 at \\nSwitzerland and he won a bronze medal for our country. So we are very. proud of him.  \\nWe also extended coverage of our Swach h Bharat initiative of garbage cleanup to 5 more \\nsurrounding villages, taking the total  count to 12 villages. Our aim is to provide a cleaner and \\nhygienic environment for people to live in. These initiatives make us feel very proud that our \\nCSR initiatives are bringing about a definitive change and creating a positive impact in the \\nsociety, be it in healthcare , sanitation, sports education, rural development around the \\ncommunity.  \\nI would now like to hand over the call to Mahendra  – our CFO to update  you on the S JS’ financial \\nperformance  before I talk to you about the future growth. Over to you Mahendr a. \\nMahendr a Naredi : Thank you, Mr. Thapar. Good morning, everyone. Moving to slide 12, which talks about our \\nfinancial performance in detail. As you all know, consolidated revenue at Rs.1,172.5 million has \\ngrown at 13.6% YoY on the back of strong growth in automotive segment and export s. \\nOn the domestic front, SJS witnessed 14.2% Y oY growth in automotive segment ; however, a  \\ndegrowth of around 10% in consumer appliance and other segment result ed in 8.4% YoY growth \\nin domestic sales , yet domestic sales outperform ed the underlying automotive industry growth . \\nExport s during this quarter grew by 90.8% on YoY basis on account of new business wins and \\ngradual export market recovery. Export performance was due to a strong growth in the PV \\nsegment and some recovery in consumer appliance segment. Q1 FY24 export constitute 11% of \\nconsolidated sales compared to 6% o f the sales last year , that was impacted due to external \\ngeopolitical and macroeconomic factors. EBITDA at Rs.313.8 million g rew 12.8% Y oY on a \\nmargin of 26.1%. This has impact of 30 b ps on a YoY basis and that was due to one -off expenses \\nunder other expen ses to the tune of Rs.8 million  for interest on GST . PAT at Rs.180 million grew \\n11.1% Y oY and PAT margin stood at 15.4% . Our ROC E during the quarter stand s at 38.6% and \\nROE at 14.5%.  \\nAs Mr. T hapar mentioned earlier, our cash and cash equivalent were at Rs.2,849.7 million at the \\nend of June '23. However , post Walter Pack India acquisition, it was at Rs.461.7 million , and our \\nnet debt post-acquisition  has increased to Rs.539.8 million and equity share capital has increased \\nto Rs.310.38 million post preferential allotment to our promoter Mr. Joseph. Now his overall \\nshareholding has increased from 15.5 % to 16.9%.  \\nMoving on to slide 13, that shows the quarterly financial in a  snapshot. I would like to bring to \\nyour notice the proforma financial of SJS for Q1 FY24 by including Walter Pack India numbers  \\nfor Q1. Although  Walter Pack India numbers are not reflected in that consolidated financial \", \" SJS Enterprises  \\nJuly 27, 2023  \\n \\nreported for this quarter , but from  Q2 onwards, WPI financial will be consolidated with the SJS \\nnumbers , basis our 90.1% holding in Walter Pack  India.  \\nAs Mr. Joseph mentioned earlier, Walter Pack has kicked off the year with a great start in Q1 \\nFY24. P ro forma revenue for Q1 FY24 would have been Rs.1,528.7 million, a YoY growth of \\n48.2%. Pro forma EBITDA  margin were at 27.3% , witnessing 120 bps margin expansion as \\ncompared to Q1  FY24  reported margin. This would result in a PAT growth of 52.1% and EPS \\ngrowth of 5 1.8% Y oY. Even after considering the impact of lower other income and higher \\ninterest costs on loan taken for Walter Pack acquisition , then also our pro forma EPS would have \\nbeen 21% higher than reported Q1 FY24 EPS, thereby highlighting the fact that Walt er Pack  \\nIndia business will be EPS accretive for us. And this reinforce our conviction in Walter Pack  \\nbusiness and we are confident of achieving our growth target in the medium term on back of \\nvarious cross selling opportunities, synergies between all the three businesses and growing \\neconomi es of scale . \\nI would now like to hand over the call back to Mr. Tha par to talk about our future plans and \\ngrowth outlook.  \\nSanjay Thapar:  Thank you, Mahendra. Moving ahead, we are absolutely on track in executing our orga nic \\ngrowth strategy by addressing the aesthetic  requirements of multiple end industry segments, \\nincreasing our global presence, introduction of new technology products and building mega \\ncustomer accounts. This is consistently helping us outperform the unde rlying industry growth \\nrates . \\nOn the Exotech capacity expansion front, we would like to update everyone that post the Wa lter \\nPack acquisition, we see many synergies between the two companies, Exotech and Wa lter Pack . \\nBoth plants are in close proximity at Ranjangaon, Pune. Hence the company has deferred its \\nchrome plating capacity expansion CAPEX plan by a year to calendar ye ar '24. We are revising \\nthe expansion plans to align more effectively with the evolving business requirements of both \\nWalter Pack and Exotech . \\nThis rework  aims to create a more conducive strategy that can accommodate the changing needs \\nand demands of both companies. In the interim, we have chartered out an alternate plan so that \\nExotech growth does not get hampered in the short run . We are increasing capacity at Exotech \\nby de bottlenecking, utilizing o ur underutilized capacities in painting, etc. , We have re cently \\nbagged a large order for painting as well a t Exotech  from a large passenger vehicle OEM. \\nSimultaneously , we are also partnering with external chrome plating suppliers to utilize the \\nexcess  capacity creating a win -win situation for both  parties .  \\nHence , for the period FY24 to 26, we maintain our stance of 20% to 25% organic growth.  \\nAs a company, we've always focused on introduction of new premium products and technologies \\nthat are complex to manufacture and that will enable us to increas e our addressable market quite \", ' SJS Enterprises  \\nJuly 27, 2023  \\n \\nsignificantly. It is our consistent focus on innovation that has enabled us to stay ahead of the \\ncurve and be a preferred supplier  to most of our customers . \\nSJS has already started accelerating its efforts to increase its val ue in both two-wheeler , \\npassenger vehicle and consumer segments with the addition of new technology premium \\nproducts . We can see that growth playing out with the addition of chrome  plated  parts through \\nExotech  and IML, IMD and IMF parts through the recent Walter Pack acquisition. SJS is also \\nworking on a few new age products like optical plastics and cover  glass, which will further drive \\nup the kit value that we supply to customers . \\nOur organic and inorganic strategies have helped us make S JS a significant player in the \\nautomotive interior space. We are confident that even in the future, any acquisition we do , will \\nopen up a new possibility for us to achieve higher business growth and wi ll be complementary \\nor an extension to our existing businesses. Hence, we believe we will continue to outperform the \\nunderlying industry growth , recovery in the consumer sector in the export markets will help us \\naccelerate this momentum of our growth traje ctory even further . Our inorganic growth through \\nWalter Pack will be over and above the 20 % - 25% organic growth that we have guided.  \\nSJS will continue to deliver on its robust financial and operational guidance of FY24 with 50% \\nYoY growth in the SJS conso lidated revenues and a consolidated PAT growth of about 40%  YoY \\nwith the addition of Walter Pack revenues and robust margin profile in our existing businesses. \\nThis of course will be post consolidating at 90.1% stake in Walter P ack for a nine month period \\nin this financial year.  \\nWith that said, I come to an end of my quarterly updates. Thank you and we are now open to \\nanswer any questions that you would have.  \\nModerator:  Thank you very much. We will now begin the question -and-answer session. Our first question \\nis from the line of Amit Hiranandani from SMIFS Limited. Please go ahead.  \\nAmit Hiranandani:  My first question is basically what was the contribution from new products in the consolidated \\nrevenue and what was it in FY23?  \\nMahendra Naredi : So Amit, a good question and our contribution for this quarter was around 10% and it was around \\nthe same in the last year.  \\nAmit Hiranandani:  And sir, we understand that Exotech margins on Q oQ has slightly dropped , possibly we \\nunderstand tha t due to the new products development, trial runs and etc ., So wanted to \\nunderstand, what could be the sustainable annual margin and where do you see it in the next \\nthree years?  \\nMahendra Naredi : So Amit, as we already guided in the past, there was a small blip in this quarter, but , however \\nExotech will continue to perform 14 % to 15% sustainable margin.  ', \" SJS Enterprises  \\nJuly 27, 2023  \\n \\nAmit Hiranandani:  And sir, where do you see it in the next three years … any chance to improve it further?  \\nSanj ay Thapar:  So as I have said earlier in our previous  calls, we had inherited a legacy of existing customers. \\nSo the margins that are there are largely what are agreed with Exotech in the past and in the \\nfuture we hope to increase our exposure to export cus tomers where margins would be higher, \\nbut to be conservative, we are still maintaining our guidance about 14 % - 15% EBITDA  margins \\non a sustainable basis for the next 2 -3 years. Beyond that, of course, we feel that this could \\nimprove.  \\nDevanshi Dhruva : So see , definitely in the last two years as you know once we've acquired it, this business was \\nactually traditionally doing margins of arou nd 11 % - 12%. And in the last two years itself, \\nbecause of the operational efficiencies, economies of scale and all the efforts that we've put in, \\nwe've already improved margins by around 300 b ps and last year it was around 15% . We hope \\nto continue this an d 14% to 15% right now we feel would be sustainable margins at least in the \\nmedium term.  \\nAmit Hiranandani:  Next on the Exotech's  new plant capacity expansion, I just missed the initial comment. Can you \\nplease brief me a little more on this thing because wh at we're expecting is by FY24  end, the plan t \\nshould be ready, but I think it is delayed by one year.  \\nSanjay Thapar:  No, it's not delayed , it's a conscious decision on our  part, because when we guided you on \\nexpansion , we see a very robust demand coming in by cross selling Exotech  products to existing \\nSJS customers. To meet that demand we planned a CAPEX . Now , what we found is a more \\ninnovative frugal way to increase capacity by debottlenecking . Now, when Walter Pack  was \\nacquired, there's a lot of synergy between Walter Pack and Exotech in terms of injection molding, \\nfor example , amongst other things . And o now we are planning a comprehensive plan which \\nwould address the needs of both these plants. So we just deferred th at investment by one year as \\nI said in my commentary and we will now try and grow this. In the short term  we'll be using \\ncapacities of our suppliers and debottlenecking as I said. Our paint shop at Exotech was \\nunderutilized, which we are now using and we  have  also w on businesses so that will increase \\nsales without the need for chrome plating capacity specifically a t Exotech . \\nDevanshi Dhruva:  Basically , we would just want to be more effective and be very frugal with our investment . If \\nthis investment can a ctually help both the businesses, then it would be better to chart out a new \\nplan for us so that both Exot ech and WPI requirements are met . \\nAmit Hiranandani:  Then, sir, you must be having some revised CAPEX guidance, right for Exotech and standalone \\nsepara tely? \\nDevanshi Dhruva:  Yes. So for this year FY24, SJS would be somewhere around 1 0-12 crores and Exotech would \\nbe another 10 -12 crores and Walter Pack for the next nine months would be around 10 crores. \\nSo overall CAPEX for this year would be somewhere  around Rs 34 - 35 crores.  \", \" SJS Enterprises  \\nJuly 27, 2023  \\n \\nModerator:  Our next question is from the line of Joseph George from I IFL. Please go ahead.  \\nJoseph Geor ge: Just one question on the postponement of the Exotech capacity. You mentioned that in the interim \\nyou would be using chrome plating capacity of your suppliers. So when you take that service \\nfrom a third -party, how do we see the margins of Exotech moving  in the coming year or so, \\nbecause if you're  outsourcing the process, it will be negative for margins ? \\nMahendra Naredi:  Yes, Mr. Joseph, we believe that it will not impact our margins. Yes, in an outsourcing model, \\nthe raw material cost  Is going up.  But at the same time, the manufacturing , the admin and \\nemployee cost will not increase to that extent . So overall at EBITDA level we believe that it will \\nnot have any impact , and in fact at the PAT level, we believe that our PAT will go up because we \\nwill not have depreciation.  \\nSanjay Thapar:  And just to add to this, so it is not that we are postponing the CAPEX , we are only doing it more \\nintelligently to make sure that our investments are as frugal as possible to make sure that we \\nextract the maximum ROC from this business.  \\nDevanshi Dhruva:  Moreover, if you will look at a consolidated basis, we will try and maintain our 25% to 27% \\nmargins that we have guided for and that will not get impacted.  \\nAmit Hiranandani:  And the second question was when you say that the CAPEX has been postponed, our  old \\nunderstanding was that last year revenues of Rs.130 crores in Exotech with the new capacity, \\nthe potential for revenues would have been closer to 300 crores or so . So in te rms of the scale of \\ncapacity expansion, are those numbers still holding even though it's postponed by a year or is \\nthe scale of revenues and CAPEX also likely to be change?  \\nSanjay Thapar:  No, nothing . Absolutely , we are on track. We are still holding those  numbers. It's only a smarter \\nway of doing things. And we already have a very, very strong trajectory of customer demand for \\nExotech . So everything goes as per plan and we are very, very bullish on growth at Exotech . \\nModerator:  Our next question is from th e line of Piyush Parag from Nuvama Wealth. Please go ahead.  \\nPiyush Parag : So my questions would be more on the WPI label . If you can just throw some light in terms of \\nthe actual performance of the WPI in the quarter and how is it expected to over the next couple \\nof years , what cash positions of the business will be , more outlook on the revenue and EBITDA  \\nfor this particular company and what is the capacity currently and how is the revenue potential \\nand how do we expect it to grow?  \\nDevanshi Dhruva:  Could you just be a little louder ? \\nPiyush Parag:  My question was more on the WPI performance. How has  it been  during the quarter and how do \\nwe see its revenue and EBITDA  outlook over the next 2 -3 years , and currently, what is the \", \" SJS Enterprises  \\nJuly 27, 2023  \\n \\ncapacity and how do you ex pect this capacity and revenue potential to improve in the medium \\nterm?  \\nMahendra Naredi:  So Walter Pack  India has done  this quarter 356 million  sales turnover with an EBITDA  of 31.5% . \\nWe are always referring that we will maintain our growth rate of 20% to 25% and Walter Pack \\nwill be part of that. On the capacity side , company is currently working on 75%. They have two \\nplants ; one is in Pune and second  is the Manesar . One plant is working on 75 % and another is \\nworking on 65% , so average you can say 70 % to 73% . That was the current capacity as of now \\nfor the current  financial year . \\nSanjay Thapar:  So let me supplement that by giving you an outlook on Walter Pack . It just puts SJS into another \\ntrajectory. The in -mold forming technology that Walter Pack has, they have very strong \\nknowledge on tooling and in fact there are very few companies in the world which has that \\nexpertise. So Walter Pack Spain, which was the parent of Walter Pack India is amongst the global \\nbenchmarks for in -mold f orming and IML technologies . There is a trend of using IME and there \\nis a trend  to use also electronics and inside the ambient lighting of the car . So there are some \\nvery innovative technologies in place and there is a very strong demand from customers. In fact, \\nin this year you will see , I will not name the customers because these p rojects are under \\ndevelopment, but we will see a lot of cars from mega passenger vehicle OEMs in India which \\nwill have these new generation technologies coming in. So while on a n overall consolidated \\nlevel, we have guided that we will grow at about 20 % to 25% organically. And Walter Pack also \\nwill grow at that . This year they'll grow a little faster because they address also a consumer \\ndurable segment. And overall, I would like you to think of us as a n entity that has an end -to-end \\nsolution for all aestheti c parts and Walter Pack is going to actually help us introduce a lot of new \\ntechnologies to the customers in India and overseas. So, I think the growth path is extremely \\npositive for Walter Pack . \\nDevanshi Dhruva:  So for F Y24, as we have guided last time also , overall consol growth including WP I will be \\n50%. So you can interpret the growth with that because organic growth of SJS and Exotech \\ntogether, as Sanjay mentioned will be 20 % to 25%.  \\nModerator:  Our next question is from the line of Mr. Ronak Mehta from JM Financial. Please go ahead with \\nyour question.  \\nRonak Mehta:  So continuing on WPI, wanted to check so what are the opportunity areas for cross selling from \\nthe existing business? I believe some of the PV OEM s for whom SJS was a tier-2 supplier earlier , \\nnow becomes tier -1 post WPI acquisition. So how has been the response from the customers and \\nin terms of awarding new business after the acquisition, if you can throw some color on that?  \\nK.A. Joseph:  One is we have a cross selling opportuni ty between two companies. They also make some dial , \\noverlays, etc. , So that SJS will gain more on all of that business. And also Walter Pack has won \\na lot of new order . We don't want to name the customer here , worth about 30 to 40 crores for \\nFY25. So this year maybe we would get about  Rs 12 to 13 c rores  out of that . And consumer \", \" SJS Enterprises  \\nJuly 27, 2023  \\n \\nbusiness will also grow by almost about 50% for F Y24. And  because of that, the content per \\nvehicle is also increasing, which will impact our overall sales as well for SJS. \\nSanjay Thapar:  Just to supplement what Joe just said. So as I said, large in -mold forming parts are the forte of \\nWalter Pack India . Now Walter Pack does not su pply to any two Wheeler OEMs. So companies \\nlike Bajaj , Royal Enfield , Honda etc we are in the process of telling them what we could do with \\nIML technology that could improve aesthetics, especially for the plastic s forming assemblies of \\nthese  bikes . So both for the EV segment and for the conventional IC engines, I think the IML \\nand IMD technology that we have to offer, IME will piggyback on this , will find a lot of demand \\nwhen the customer sees this. So at the moment we are working on some developme nt projects \\nwhich I think are very exciting technologies. So c ross selling to t wo wheeler  customers and c ross \\nselling to our large consumer appliance customers. So Whirlpools of the world , Samsung s of the \\nworld, they use a lot of large IML parts which requ ire deep forming which at SJS we could not \\ndo, now with Walter Pack t hose markets are within reach for us and we already enjoy a very \\nstrong customer relationship. So I see th e synergy playing out extremely well in terms of how \\ngrowth a t Walter Pack will c ome plus how is the whole entity, all these three companies working \\ntogether could offer some solutions which are truly  innovative . \\nDevanshi Dhruva:  Especially, on the Exotech and on the Walter Pack side, both the places we have added new \\npassenger vehicle  customers. So in fact, there will be a lot of cross selling opportunities between \\nExotech and Walter Pack also because both of them have customers which can be used for cross \\nselling opportunities like Mahindra  is there,  Exotech , we have Maruti and Tata M otors with \\nWalter Pack . So, a lot of cross  - selling opportunities between these two companies will also be \\npossible.  \\nRonak Mehta:  On the recent addition of the new clients, Autoliv and Toyota  Tsusho, so just wanted to clarify , \\nwill this be only for the India business or you will also export to their global plants?  \\nSanjay Thapar : Our strategy always has been that we take customers and we grow them into mega  counts . So \\nour focus as I said earlier is to prove our credentials with these global companies in the Indian \\nmarket and then use the goodwill that we've generated in terms of capability demonstration to \\npenetrate to the global  network. So these are let's say starting steps . With Autoliv , we won a large \\norder of course  for the India market. But then once we deliver these parts to their satisfaction, \\nwe will certainly be having a conversation with them to let's take it to global. So luckily for SJS, \\nwe've grown because customers wanted us to grow. So the guy come to us and  say, why don't \\nyou come and supply to me at this location . So I think we are comp etitive in terms of quality , \\ncost and  deliver y, and that helps us win customer confidence to introduce us in more and more \\nplants globally. So that has been the theme and tha t will be the theme for both these customers \\nas well.  \\nRonak Mehta:  One more housekeeping question to Mah endra. So Mah endra on the consol financials, other \\nexpenses have seen a sharp jump both on YoY and QoQ  basis. So is that only because of the \\noutsourcing  in the Exotech business or if you can throw some  color on that ? \", \" SJS Enterprises  \\nJuly 27, 2023  \\n \\nDevanshi Dhruva:  So other expenses have increased on account of two reasons. One is that there has been a n \\nincrease in subcontracting employees which comes under our other expenses and the o ther \\nreason is there is a one -time expense in terms of a provision made for interest on GST to the \\ntune of Rs 8 million. So that's the two reasons because of which the othe r expenses for this \\nquarter looks a little high.  \\nModerator:  Our next question is from the line of Karn Bhargava from We althB ridge Capital Advisors. Please \\ngo ahead.  \\nKarn Bhargava : I have two questions . I think I misheard the number for the WPI revenue. If you could just clarify \\non that for the quarter ? \\nDevanshi Dhruva:  WPI revenue for this quarter grew 21% YoY to Rs 356 million.  \\nKarn Bhargava:  There's been a lot of talk on the IME side , that's the In-Mold Electronics . And I think last we \\nspoke you had mentioned that the product is still under development. So is there any update on \\nthat and what kind of a market are you looking at in there?  \\nSanjay Thapar : So the applications are quite diverse, so we are looking at the two wheelers , we're looking at \\nfour Wheelers. Since this is a new technology that the OEMs themselves are now trying to \\nevaluate. So we have some prototype build requirements or projects going on with a few \\ncustomers. It will take time . Typically , what it involves is there's a decorat ive layer, and then a \\nfunctional layer which has the electronic parts. LEDs are going to be implanted in the functional \\nlayer and that is going to be molded together , making it, let's say, phase -I of IM E you may. The \\nnext phase  is there is going to be electronic components like IC E also form the part of the \\nfunctional layer which can reduce the size of the underlying PCB or connectivity with the body \\ncontrol modules used in a car. So all that functionality will build in. But since this is a new \\ntechnology, it will take time. So my expectation is that it would be another 2 -3 years before you \\ncould see real life IME part coming in.  The other part is that  Walter Pack has  IME tech nology . \\nWe have a technology support agreement with Walter Pack Spain and Walter Pack Spain will be \\nour technology partner really in terms of advising us how to implement IME in the  listing IML \\nand IMF products that we  have in India.  \\nKarn Bhargava:  Walter Pack , Spain  will be helping you out with the development of the  product as well ? \\nK.A. Joseph:  Absolutely.  \\nModerator:  Our next question is from the line of Sh rinjan a Mitta l from Ratn aTraya Capital. Please go ahead.  \\nShrinjana Mittal:  Sir, two questions from my side. One is on Exotech  sales quarter -on-quarter was also slightly \\ndone. So what could be the reason for that ? \", \" SJS Enterprises  \\nJuly 27, 2023  \\n \\nDevanshi Dhruva:  So generally also if you will see Q2 and Q4 are usually stronger quarters for us due to festive \\nseason and seasonality. Y ou can't compare the Q oQ growth in terms of Q4 and Q1 . \\nSanjay Thapar : Exotech this year grew a little  lower  because the farm equipment demand was soft . So John \\nDeere is a n important customer. They export parts to North America and that demand was  \\nsubdued  plus of course there was some delays in launching of a new product by the sanitaryware \\nsegment , we supply to Geberit . So these two areas impacted a little bit the sales for  this quarter, \\nbut the demand for Q2 remains robust and we hope to achieve our sales  growth  trajectory at \\nExotech which of course is very, very strong demand.  \\nShrinjana Mittal:  Second question is on exports . Like you mentioned, I think around 11 % is the co ntribution. Just \\nwanted to see like what was it last quarter because you mentioned that the exports have grown \\nin this quarter ? \\nMahendra Naredi:  Last quarter our export was 7.9 % which has now gone up to  11%. \\nDevanshi Dhruva:  In fact the entire last year, if you will see because of the geopolitical issues in Europe as well as \\nmacroeconomic issues in North America, exports had been impacted. And overall for the year \\nin fact exports took a dip of almost 32% degrowth, but this year w e are seeing the demand \\ncoming back in Europe as well as we are winning new businesses on our export front . So that's \\nwhy we are seeing the growth coming back and export revenue has almost doubled this quarter \\nas compared to last year same quarter.  \\nShrinja na Mittal:  So like going forward like for the year organically we are guiding for around 20 %, 25% only for \\nexport business . Like what are we targeting on the growth plan?  \\nSanjay Thapar : We don't provide guidance specifically, but as I said earlier in my co mmentary , on QoQ basis, \\nexports has jumped up double , about 90% growth overall , this last quarter versus the quarter a \\nyear before. And moving forward, we feel that this momentum should continue. We expect \\ngrowth to return. So for us, Asia, EMEA  and South America have grown well. North America \\nand Europe still continue to be in the recovery mode. So it's a wait-and-watch  situation there. \\nBut overall we feel that we should come back to the  pre-disruption levels that were there last \\nyear… so we should come back to what we were a year ago.  \\nModerator:  Our next question is from the line of Ridhima Goyal from Acquaintbee  Ventures. Please go \\nahead.  \\nRidhima Goyal : Hi, Sanjay and hi Devanshi. Just one question from my end is what is the consumer durable on \\nthe overall revenue and what is the growth profile in this quarter for consumer durable  segment ? \\nDevanshi Dhruva:  Sorry, can you repeat the second part of  your question ? \\nRidhima Goyal:  What was the growth for this quarter in the consume r durables part?  \", \" SJS Enterprises  \\nJuly 27, 2023  \\n \\nDevanshi Dhruva:  So consumer durables was a little muted growth ; I would say almost about 2% - 3% and overall \\nas a percent of sales, it was somewhere around 15 % - 16% of our  sales.  \\nRidhima Goyal:  I know that you guys don't disclose your order book as such.  \\nDevanshi Dhruva:  Can you be a little louder ? \\nRidhima Goyal:  I know that you guys don't disclose your order book as such, but it would be great if you can \\ngive some  broader clarity like what is the overall order book in terms of val ue and also the \\nexecution time like is it executable in two, three  years or maybe five years ? \\nSanjay Thapar:  So consumer durables is a very important segment for us and we have made further inroads  by \\nthis Walter Pack acquisition where we've added a new co nsumer product line t o our portfolio \\nwhich is the Fa scia Plate that you have for mod ular switches.  So Walter Pack is a large supplier \\nof these  to, Legrand, which is a leader in the business and the demand is not just in India but \\nalso overseas. Also, on one hand, the SJS product portfolio has very bright potential because we \\nare underpenetrated in North America as I mentioned  earlier . So we are mak ing inroads . In South \\nAmerica we've already seen the results. We will add to our feet on the ground in North America \\nand Europe to accelerate that further. Plus, this new technology areas both in terms of the \\nLegrand business for mod ular switch plates , tha t's also consumer business and the IML \\nbusinesses that we could do with the likes of Whirlpool and the other appliance manufacturers . \\nSo that in the long or the medium to long term would be very large growth drivers for our \\nconsumer appliance business. Look at this company as a consolidated entity. That's what I would \\nencourage everybody to see. So our dependence on two wheelers have  come down . Two \\nwheeler s and four wheelers now are largely similar , thanks to the addition of Walter Pack  to our \\nbusiness and the consumer appliance business also will be significantly higher , thanks to a large \\nproportion of Walter Pack revenues going to the consumer businesses. So overall, I think we will \\ngrow at about 20 % - 25% as we  guided earlier in terms of the mi d-term growth guidance that \\nwe have given . \\nDevanshi Dhruva:  Also, if you'll notice, last year we added Mabe group and even I FB on our consumer appliances \\nfront. And those will also grow over a period of time because initially as we said that whenever \\nwe ac quire new customers, we have a smaller chunk of their sales. But going forward, maybe \\nafter a year or two , we'll start getting more business from them as well. So we'll keep on \\nincreasing our global presence as well as customer spread also in consumer appl iances .  \\nRidhima Goyal:  I understand your point, but my question was related to the order book. It would be great if you \\ncan disclose the value … what is your current order book overall ? \\nDevanshi Dhruva:  We do not give order book segment wise or anything. Overall , what we have guided for is 20 % \\nto 25% organic growth and of that almost 90% of our order book is confirmed for FY24  overall \\nSJS plus Exot ech consol business . \", \" SJS Enterprises  \\nJuly 27, 2023  \\n \\nRidhima Goyal:  Including WPI? \\nDevanshi Dhruva:  No, not including WP I, but on th e WP I front also , almost around 90% of the order book is \\nconfirmed for F Y24. \\nRidhima Goyal:  I need to understand was, do we have some common customers between WPI and SJS as a \\nwhole ? \\nSanjay Thapar:  Yes, we do.  But a very small overlap. So WPI supplies to Tata Motors  and we supply to Tata \\nMotors as well. But our content is much smaller. W PI are very large parts contributing almost \\nabout Rs.2,500 to Rs.3,500 content per vehicle . Our current supply from SJS just these dials  that \\nwe supply , and of course the optical plastic s part that we will do , will increase that quite well, \\nplus we do chrome plating , so that is some of it. So the common customers are Tata Motors, \\nMahindra for example, they don't supply too much. We have a large presence in Mahind ra. So \\nthere are lot of cross selling opportunities that exist because we will not cannibalize the business  \\nif that is the question.  \\nModerator:  Our next question is from the line of Rohan Ad vant from Multi Act. Please go ahead.  \\nRohan Advant:  My first question was on the technical support fees that Walter Pack pays to its parents. What \\nwas it earlier and what will it be now, now that we own it? And when you  calculated the pro \\nforma numbers, what h ave you considered there , if you can talk about in terms of say percentage \\nof sales ? \\nMahendra Naredi:  Earlier the technical fees paid by Walter Pack  was in the range of 3 .5% of the sales value. We \\nhave agreed for a fixed amount over a period of time. That was not a percentage of sales, but if \\nI say broadly on the sales, it will be around 1%.  \\nRohan Advant:  When you've done the pro forma calculation, you've considered 1% because that is what  has to \\nbe paid ? \\nMahendra Naredi:  That has been considered, yes.  \\nRoha n Advant:  Secondly, our guidance of 50% revenue growth and 40% profit growth, but Walter Pack is a \\nhigher margin business , so it is margin -accretive. So why would the profit growth be lower than \\nrevenue growth , what am I missing here?  \\nSanjay Thapar : As I mentioned earlier, so we are in a transformation stage. Think of it as the whole entity. So \\nthis guidance for 40% PAT is on the consolidated level of all these three businesses put together \\nfor us. As I said, we are entering many new exciting areas li ke optical plastics , cover glass, which \\nwe will do for the first time. In our last earnings call, I mentioned that we will be accelerating \\nour growth footprint . We are not so worried about EBITDA because we have a very consistent \\ntrack record. So typically  what happens is that when you start a new product or product line \", \" SJS Enterprises  \\nJuly 27, 2023  \\n \\nbefore you offer to a customer, you do a lot of trials internally. So there's a larger consumption \\nof raw materials, manpower, which is not billed to the customer. So that impacts the EBITD A to \\na certain extent in the short term. Also when we launch a product, we are extra careful in terms \\nof quality. So any efficiency improvement that comes in is once that  stabilizes . So our past track \\nrecord if you see SJS standalone we do close to about 3 0% 32% of the EBITDA  over the last \\nfive to six years and we've been steady in maintaining that. So these are new generation products \\nrequiring in the short term , additional materials, additional testing requirement , new manpower \\nbeing hired to create , to handle or to create competency in those areas. So these are the short \\nterm costs that may impact margins in the short term. That is what is behind the 40% guidance \\nthat we've done.  \\nMahendra Naredi:  And just to supplement here, one is the business side. Anot her is when we made the acquisition \\nof Walter Pack, we have taken the loans for that. So there will be interest cost on that plus our \\ninternal accrual or our cash balance has been used to fund this acquisition which was earlier \\ngenerating income and now th is income will be very negligible income in FY24. So all three \\nfacts will make the PAT a t 40% growth over last year.  \\nModerator:  Our next question is from the line of Amit Hiranandani from SMIFS Limited. Please go ahead.  \\nAmit Hiranandani : Just continuing with the WP I side, if you sir can  tell us more about going forward strategy in \\ndomestic and exports ? I understand export is almost zero for WPI. Is there any restriction from \\nWPI Spain that we can't go in certain countries or we can't acquire an y customer s. And on the \\nWPI side, on the revenue target if you can give for FY24 - FY25, please ? \\nSanjay Thapar : So as I said, the WPI is a great acquisition for us. There is a technology support agreement that \\nis available to us. There is a very clear understanding between us and the parent company that \\nwe are allowed to service the existing customers that we have. An d there are some areas that we \\nwere missing out earlier. I mentioned the cases of large IML, IMF parts to W hirlpool  and to \\nSamsung. These are very large companies globally and we don't do any IML part with them . So \\nthat is a great growth opportunity for us  moving forward. We are also, as I mentioned earlier, the \\nIME technology that we will ri de on that is something that we will do. So primarily , growth, I \\nthink we are very, very clear that there is going to be huge length of growth for the Walter P ack \\nbusin ess going forward. Wa lter Pack is not existent in many of the customers that SJS already \\nhas a strong relationship with. So this just adds some additional  opportunity for Wa lter Pack \\ntechnology to be used for these customers. So cross selling , exports and penetrating the Indian \\nmarket faster with new technology products like IME. So those are the growth vectors for Walter \\nPack.  \\nDevanshi Dhruva:  Overall, as a company for S JS and Exotech put together organic ally, we have mentioned that it \\nwill be growing at a  CAGR of 20 % to 25% and inorganic acquisitions will add to this growth \\nabove this 20 % to 25%. However, we won't be able to give any guidance in terms of Walter Pack \\ncurrently because the acquisition has just got completed. And we will work out the details on \", \" SJS Enterprises  \\nJuly 27, 2023  \\n \\nour strategy at least for the next three to five years and probably then we'll be able to  take your \\nquestion and give details later.  \\nAmit Hiranandani:  I'll just rephrase it. So at the optimum utilization capacity of WPI, how much revenue we can \\ngenerate?  \\nDevanshi Dhruva:  Currently , we are at a capacity utilization of 60 % to 70% and we can generate revenue close to \\nRs.200 crores.  \\nAmit Hiranandani:  Rs.200 crores you are saying at full utilization?  \\nDevanshi Dhruva:  Yes. \\nAmit Hiranandani:  One last qu estion from my side on the standalone side , so SJS I understand is trying to acquire \\nsome strategic customers which will of course benefit in the mid to long term. Can you please \\ntell us these customers are from domestic or international markets ? And secon dly, are we going \\nto see some impact on the margins due to the strategic step and sustainability of the margin if \\nyou can tell us on the annual basis for S JS stand alone please ? \\nSanjay Thapar : So these customers are both domestic and export customers and it is for the existing customers \\nit is new technologies. So I talked of optical plastic , optical glass where we are adding to our \\nmanagement bandwidth in terms of having some subject matter expert s who will support this  \\nprogram . We will of course have costs associated with that. So that is what is going to impact . \\nBut what customers that we are talking about are existing customers because our universe of \\ncustomers is very large. But we are opening new doors in terms of new technologies with them, \\nwhich is increasing the addressable market very, very quickly.  \\nAmit Hiranandani:  Just one request , from Q2 FY24, we are going to incorporate WPI in the consolidated numbers. \\nSo it's a request if the team ca n provide WP I's financials separately, please ? \\nModerator:  Our next question is from the line of Vishal Khurana, who's an investor. Please go ahead.  \\nVishal Khurana : My first question is, so we are almost  providing the aesthetics to almost every two wheeler OEM, \\nexcept for Hero . So what is really stopping us to onboard Hero with S JS? And who is the current \\nsupplier to Hero in aesthetics ? \\nSanjay Thapar : So Hero is a company that we've been pursuing. They li ke us, they visited and audited us . The \\nball is not in my court, it is in Hero 's court. So they have to take a call as to when to start buying \\nfrom us . They know  SJS very well, they understand that we have a strong capability. So just \\nwait-and-watch . So it  should happen sooner than later, that's  our hope . \\nDevanshi Dhruva:  Their current supplier is Classic Stripes . \", \" SJS Enterprises  \\nJuly 27, 2023  \\n \\nVishal Khurana:  Second question is in the previous quarter investor presentation, we had mentioned that we had \\nonboarded Foxconn, who will be making electric vehicles in India and we'll be supplying \\naesthetics to them. So may I know when they are going to put up that facil ity for this contract \\nmanufacturing of EVs  that they'll do ? \\nSanjay Thapar : No, no, Foxconn  is not going to make EV , Foxconn  is going to supply parts to EV. And we \\nannounced last quarter that we had won a business from Foxconn, which was in the area of the \\ndisplay screen of the EV . So they supplied to a company. I will not name it because the product \\nis still u nder development, but it should start production in Q2.  \\nVishal Khurana:  We also discussed about that we'll be entering into television and medical dev ices aesthetic \\nsegment. Is that correct?  \\nSanjay Thapar : We w on a business for some decorative deca ls for the television industry , so that we've done . \\nMedical devices , of course, the possibilit y is in terms of displays and in terms of overlays and \\nmaybe IML parts . So that is the market that we are mining. So we are in touch with customers \\nand we hope to grow that business as well.  \\nVishal Khurana:  How big can this TV opportunity be since we are manu facturing a lot of television and other \\nelectronic items in India now ? \\nSanjay Thapar : It is wait-and-watch . Our specialty is make long lasting durable aesthetic parts. So the \\nopportunity in other areas is larger. So television, while that's an opportunity , we have still not \\nsized to be honest, to say how large it could be. So at the moment , we just entered this last \\nquarter. So we will examine as we have discussions with the customers to see what more is  \\npossible . \\nModerator:  Ladies and gentlemen, that was t he last question of our question -and-answer session. I would \\nnow like to hand the conference over to the management for closing comments.  \\nDevanshi Dhruva:  Thank you everyone for joining us on this call. If any of the questions were left unanswered, \\nplease feel free to reach out to us and we'll answer it to the best of our abilities. Thank you.  \\nModerator:  On behalf of JM Financial, that concludes this conference. Thank you for joining us and you \\nmay now disconnect your lines.  \"]\n"
          ]
        }
      ]
    },
    {
      "cell_type": "code",
      "source": [
        "system_prompt=\"\"\"\n",
        "You are a Q&A assistant. Your goal is to answer questions as\n",
        "accurately as possible based on the instructions and context provided.\n",
        "\"\"\"\n",
        "## Default format of LLama2\n",
        "query_wrapper_prompt=SimpleInputPrompt(\"<|USER|>{query_str}<|ASSISTANT|>\")"
      ],
      "metadata": {
        "id": "n0Hk_smAXWWw"
      },
      "execution_count": null,
      "outputs": []
    },
    {
      "cell_type": "code",
      "source": [
        "!huggingface-cli login"
      ],
      "metadata": {
        "colab": {
          "base_uri": "https://localhost:8080/"
        },
        "id": "RWbBgKLbXu00",
        "outputId": "1426956a-bb35-4db1-da65-d561340c748c"
      },
      "execution_count": null,
      "outputs": [
        {
          "output_type": "stream",
          "name": "stdout",
          "text": [
            "\n",
            "    _|    _|  _|    _|    _|_|_|    _|_|_|  _|_|_|  _|      _|    _|_|_|      _|_|_|_|    _|_|      _|_|_|  _|_|_|_|\n",
            "    _|    _|  _|    _|  _|        _|          _|    _|_|    _|  _|            _|        _|    _|  _|        _|\n",
            "    _|_|_|_|  _|    _|  _|  _|_|  _|  _|_|    _|    _|  _|  _|  _|  _|_|      _|_|_|    _|_|_|_|  _|        _|_|_|\n",
            "    _|    _|  _|    _|  _|    _|  _|    _|    _|    _|    _|_|  _|    _|      _|        _|    _|  _|        _|\n",
            "    _|    _|    _|_|      _|_|_|    _|_|_|  _|_|_|  _|      _|    _|_|_|      _|        _|    _|    _|_|_|  _|_|_|_|\n",
            "\n",
            "    A token is already saved on your machine. Run `huggingface-cli whoami` to get more information or `huggingface-cli logout` if you want to log out.\n",
            "    Setting a new token will erase the existing one.\n",
            "    To login, `huggingface_hub` requires a token generated from https://huggingface.co/settings/tokens .\n",
            "Enter your token (input will not be visible): \n",
            "Add token as git credential? (Y/n) n\n",
            "Token is valid (permission: read).\n",
            "Your token has been saved to /root/.cache/huggingface/token\n",
            "Login successful\n"
          ]
        }
      ]
    },
    {
      "cell_type": "code",
      "source": [
        "%pip install llama-index-llms-huggingface\n",
        "!pip install llama-index"
      ],
      "metadata": {
        "colab": {
          "base_uri": "https://localhost:8080/"
        },
        "collapsed": true,
        "id": "f26GorIz8dt1",
        "outputId": "01a64803-1d24-4ea1-ecc5-1da395f9e41e"
      },
      "execution_count": null,
      "outputs": [
        {
          "output_type": "stream",
          "name": "stdout",
          "text": [
            "Requirement already satisfied: llama-index-llms-huggingface in /usr/local/lib/python3.10/dist-packages (0.3.5)\n",
            "Requirement already satisfied: huggingface-hub<0.24.0,>=0.23.0 in /usr/local/lib/python3.10/dist-packages (from llama-index-llms-huggingface) (0.23.5)\n",
            "Requirement already satisfied: llama-index-core<0.12.0,>=0.11.0 in /usr/local/lib/python3.10/dist-packages (from llama-index-llms-huggingface) (0.11.23)\n",
            "Requirement already satisfied: text-generation<0.8.0,>=0.7.0 in /usr/local/lib/python3.10/dist-packages (from llama-index-llms-huggingface) (0.7.0)\n",
            "Requirement already satisfied: torch<3.0.0,>=2.1.2 in /usr/local/lib/python3.10/dist-packages (from llama-index-llms-huggingface) (2.5.1+cu121)\n",
            "Requirement already satisfied: transformers<5.0.0,>=4.37.0 in /usr/local/lib/python3.10/dist-packages (from transformers[torch]<5.0.0,>=4.37.0->llama-index-llms-huggingface) (4.46.2)\n",
            "Requirement already satisfied: filelock in /usr/local/lib/python3.10/dist-packages (from huggingface-hub<0.24.0,>=0.23.0->llama-index-llms-huggingface) (3.16.1)\n",
            "Requirement already satisfied: fsspec>=2023.5.0 in /usr/local/lib/python3.10/dist-packages (from huggingface-hub<0.24.0,>=0.23.0->llama-index-llms-huggingface) (2024.10.0)\n",
            "Requirement already satisfied: packaging>=20.9 in /usr/local/lib/python3.10/dist-packages (from huggingface-hub<0.24.0,>=0.23.0->llama-index-llms-huggingface) (24.2)\n",
            "Requirement already satisfied: pyyaml>=5.1 in /usr/local/lib/python3.10/dist-packages (from huggingface-hub<0.24.0,>=0.23.0->llama-index-llms-huggingface) (6.0.2)\n",
            "Requirement already satisfied: requests in /usr/local/lib/python3.10/dist-packages (from huggingface-hub<0.24.0,>=0.23.0->llama-index-llms-huggingface) (2.32.3)\n",
            "Requirement already satisfied: tqdm>=4.42.1 in /usr/local/lib/python3.10/dist-packages (from huggingface-hub<0.24.0,>=0.23.0->llama-index-llms-huggingface) (4.66.6)\n",
            "Requirement already satisfied: typing-extensions>=3.7.4.3 in /usr/local/lib/python3.10/dist-packages (from huggingface-hub<0.24.0,>=0.23.0->llama-index-llms-huggingface) (4.12.2)\n",
            "Requirement already satisfied: SQLAlchemy>=1.4.49 in /usr/local/lib/python3.10/dist-packages (from SQLAlchemy[asyncio]>=1.4.49->llama-index-core<0.12.0,>=0.11.0->llama-index-llms-huggingface) (2.0.35)\n",
            "Requirement already satisfied: aiohttp<4.0.0,>=3.8.6 in /usr/local/lib/python3.10/dist-packages (from llama-index-core<0.12.0,>=0.11.0->llama-index-llms-huggingface) (3.10.10)\n",
            "Requirement already satisfied: dataclasses-json in /usr/local/lib/python3.10/dist-packages (from llama-index-core<0.12.0,>=0.11.0->llama-index-llms-huggingface) (0.6.7)\n",
            "Requirement already satisfied: deprecated>=1.2.9.3 in /usr/local/lib/python3.10/dist-packages (from llama-index-core<0.12.0,>=0.11.0->llama-index-llms-huggingface) (1.2.14)\n",
            "Requirement already satisfied: dirtyjson<2.0.0,>=1.0.8 in /usr/local/lib/python3.10/dist-packages (from llama-index-core<0.12.0,>=0.11.0->llama-index-llms-huggingface) (1.0.8)\n",
            "Requirement already satisfied: filetype<2.0.0,>=1.2.0 in /usr/local/lib/python3.10/dist-packages (from llama-index-core<0.12.0,>=0.11.0->llama-index-llms-huggingface) (1.2.0)\n",
            "Requirement already satisfied: httpx in /usr/local/lib/python3.10/dist-packages (from llama-index-core<0.12.0,>=0.11.0->llama-index-llms-huggingface) (0.27.2)\n",
            "Requirement already satisfied: nest-asyncio<2.0.0,>=1.5.8 in /usr/local/lib/python3.10/dist-packages (from llama-index-core<0.12.0,>=0.11.0->llama-index-llms-huggingface) (1.6.0)\n",
            "Requirement already satisfied: networkx>=3.0 in /usr/local/lib/python3.10/dist-packages (from llama-index-core<0.12.0,>=0.11.0->llama-index-llms-huggingface) (3.4.2)\n",
            "Requirement already satisfied: nltk>3.8.1 in /usr/local/lib/python3.10/dist-packages (from llama-index-core<0.12.0,>=0.11.0->llama-index-llms-huggingface) (3.9.1)\n",
            "Requirement already satisfied: numpy<2.0.0 in /usr/local/lib/python3.10/dist-packages (from llama-index-core<0.12.0,>=0.11.0->llama-index-llms-huggingface) (1.26.4)\n",
            "Requirement already satisfied: pillow>=9.0.0 in /usr/local/lib/python3.10/dist-packages (from llama-index-core<0.12.0,>=0.11.0->llama-index-llms-huggingface) (11.0.0)\n",
            "Requirement already satisfied: pydantic<3.0.0,>=2.7.0 in /usr/local/lib/python3.10/dist-packages (from llama-index-core<0.12.0,>=0.11.0->llama-index-llms-huggingface) (2.9.2)\n",
            "Requirement already satisfied: tenacity!=8.4.0,<9.0.0,>=8.2.0 in /usr/local/lib/python3.10/dist-packages (from llama-index-core<0.12.0,>=0.11.0->llama-index-llms-huggingface) (8.5.0)\n",
            "Requirement already satisfied: tiktoken>=0.3.3 in /usr/local/lib/python3.10/dist-packages (from llama-index-core<0.12.0,>=0.11.0->llama-index-llms-huggingface) (0.8.0)\n",
            "Requirement already satisfied: typing-inspect>=0.8.0 in /usr/local/lib/python3.10/dist-packages (from llama-index-core<0.12.0,>=0.11.0->llama-index-llms-huggingface) (0.9.0)\n",
            "Requirement already satisfied: wrapt in /usr/local/lib/python3.10/dist-packages (from llama-index-core<0.12.0,>=0.11.0->llama-index-llms-huggingface) (1.16.0)\n",
            "Requirement already satisfied: jinja2 in /usr/local/lib/python3.10/dist-packages (from torch<3.0.0,>=2.1.2->llama-index-llms-huggingface) (3.1.4)\n",
            "Requirement already satisfied: sympy==1.13.1 in /usr/local/lib/python3.10/dist-packages (from torch<3.0.0,>=2.1.2->llama-index-llms-huggingface) (1.13.1)\n",
            "Requirement already satisfied: mpmath<1.4,>=1.1.0 in /usr/local/lib/python3.10/dist-packages (from sympy==1.13.1->torch<3.0.0,>=2.1.2->llama-index-llms-huggingface) (1.3.0)\n",
            "Requirement already satisfied: regex!=2019.12.17 in /usr/local/lib/python3.10/dist-packages (from transformers<5.0.0,>=4.37.0->transformers[torch]<5.0.0,>=4.37.0->llama-index-llms-huggingface) (2024.9.11)\n",
            "Requirement already satisfied: safetensors>=0.4.1 in /usr/local/lib/python3.10/dist-packages (from transformers<5.0.0,>=4.37.0->transformers[torch]<5.0.0,>=4.37.0->llama-index-llms-huggingface) (0.4.5)\n",
            "Requirement already satisfied: tokenizers<0.21,>=0.20 in /usr/local/lib/python3.10/dist-packages (from transformers<5.0.0,>=4.37.0->transformers[torch]<5.0.0,>=4.37.0->llama-index-llms-huggingface) (0.20.3)\n",
            "Requirement already satisfied: accelerate>=0.26.0 in /usr/local/lib/python3.10/dist-packages (from transformers[torch]<5.0.0,>=4.37.0->llama-index-llms-huggingface) (1.1.1)\n",
            "Requirement already satisfied: psutil in /usr/local/lib/python3.10/dist-packages (from accelerate>=0.26.0->transformers[torch]<5.0.0,>=4.37.0->llama-index-llms-huggingface) (5.9.5)\n",
            "Requirement already satisfied: aiohappyeyeballs>=2.3.0 in /usr/local/lib/python3.10/dist-packages (from aiohttp<4.0.0,>=3.8.6->llama-index-core<0.12.0,>=0.11.0->llama-index-llms-huggingface) (2.4.3)\n",
            "Requirement already satisfied: aiosignal>=1.1.2 in /usr/local/lib/python3.10/dist-packages (from aiohttp<4.0.0,>=3.8.6->llama-index-core<0.12.0,>=0.11.0->llama-index-llms-huggingface) (1.3.1)\n",
            "Requirement already satisfied: attrs>=17.3.0 in /usr/local/lib/python3.10/dist-packages (from aiohttp<4.0.0,>=3.8.6->llama-index-core<0.12.0,>=0.11.0->llama-index-llms-huggingface) (24.2.0)\n",
            "Requirement already satisfied: frozenlist>=1.1.1 in /usr/local/lib/python3.10/dist-packages (from aiohttp<4.0.0,>=3.8.6->llama-index-core<0.12.0,>=0.11.0->llama-index-llms-huggingface) (1.5.0)\n",
            "Requirement already satisfied: multidict<7.0,>=4.5 in /usr/local/lib/python3.10/dist-packages (from aiohttp<4.0.0,>=3.8.6->llama-index-core<0.12.0,>=0.11.0->llama-index-llms-huggingface) (6.1.0)\n",
            "Requirement already satisfied: yarl<2.0,>=1.12.0 in /usr/local/lib/python3.10/dist-packages (from aiohttp<4.0.0,>=3.8.6->llama-index-core<0.12.0,>=0.11.0->llama-index-llms-huggingface) (1.17.1)\n",
            "Requirement already satisfied: async-timeout<5.0,>=4.0 in /usr/local/lib/python3.10/dist-packages (from aiohttp<4.0.0,>=3.8.6->llama-index-core<0.12.0,>=0.11.0->llama-index-llms-huggingface) (4.0.3)\n",
            "Requirement already satisfied: click in /usr/local/lib/python3.10/dist-packages (from nltk>3.8.1->llama-index-core<0.12.0,>=0.11.0->llama-index-llms-huggingface) (8.1.7)\n",
            "Requirement already satisfied: joblib in /usr/local/lib/python3.10/dist-packages (from nltk>3.8.1->llama-index-core<0.12.0,>=0.11.0->llama-index-llms-huggingface) (1.4.2)\n",
            "Requirement already satisfied: annotated-types>=0.6.0 in /usr/local/lib/python3.10/dist-packages (from pydantic<3.0.0,>=2.7.0->llama-index-core<0.12.0,>=0.11.0->llama-index-llms-huggingface) (0.7.0)\n",
            "Requirement already satisfied: pydantic-core==2.23.4 in /usr/local/lib/python3.10/dist-packages (from pydantic<3.0.0,>=2.7.0->llama-index-core<0.12.0,>=0.11.0->llama-index-llms-huggingface) (2.23.4)\n",
            "Requirement already satisfied: charset-normalizer<4,>=2 in /usr/local/lib/python3.10/dist-packages (from requests->huggingface-hub<0.24.0,>=0.23.0->llama-index-llms-huggingface) (3.4.0)\n",
            "Requirement already satisfied: idna<4,>=2.5 in /usr/local/lib/python3.10/dist-packages (from requests->huggingface-hub<0.24.0,>=0.23.0->llama-index-llms-huggingface) (3.10)\n",
            "Requirement already satisfied: urllib3<3,>=1.21.1 in /usr/local/lib/python3.10/dist-packages (from requests->huggingface-hub<0.24.0,>=0.23.0->llama-index-llms-huggingface) (2.2.3)\n",
            "Requirement already satisfied: certifi>=2017.4.17 in /usr/local/lib/python3.10/dist-packages (from requests->huggingface-hub<0.24.0,>=0.23.0->llama-index-llms-huggingface) (2024.8.30)\n",
            "Requirement already satisfied: greenlet!=0.4.17 in /usr/local/lib/python3.10/dist-packages (from SQLAlchemy>=1.4.49->SQLAlchemy[asyncio]>=1.4.49->llama-index-core<0.12.0,>=0.11.0->llama-index-llms-huggingface) (3.1.1)\n",
            "Requirement already satisfied: mypy-extensions>=0.3.0 in /usr/local/lib/python3.10/dist-packages (from typing-inspect>=0.8.0->llama-index-core<0.12.0,>=0.11.0->llama-index-llms-huggingface) (1.0.0)\n",
            "Requirement already satisfied: marshmallow<4.0.0,>=3.18.0 in /usr/local/lib/python3.10/dist-packages (from dataclasses-json->llama-index-core<0.12.0,>=0.11.0->llama-index-llms-huggingface) (3.23.1)\n",
            "Requirement already satisfied: anyio in /usr/local/lib/python3.10/dist-packages (from httpx->llama-index-core<0.12.0,>=0.11.0->llama-index-llms-huggingface) (3.7.1)\n",
            "Requirement already satisfied: httpcore==1.* in /usr/local/lib/python3.10/dist-packages (from httpx->llama-index-core<0.12.0,>=0.11.0->llama-index-llms-huggingface) (1.0.6)\n",
            "Requirement already satisfied: sniffio in /usr/local/lib/python3.10/dist-packages (from httpx->llama-index-core<0.12.0,>=0.11.0->llama-index-llms-huggingface) (1.3.1)\n",
            "Requirement already satisfied: h11<0.15,>=0.13 in /usr/local/lib/python3.10/dist-packages (from httpcore==1.*->httpx->llama-index-core<0.12.0,>=0.11.0->llama-index-llms-huggingface) (0.14.0)\n",
            "Requirement already satisfied: MarkupSafe>=2.0 in /usr/local/lib/python3.10/dist-packages (from jinja2->torch<3.0.0,>=2.1.2->llama-index-llms-huggingface) (3.0.2)\n",
            "Requirement already satisfied: propcache>=0.2.0 in /usr/local/lib/python3.10/dist-packages (from yarl<2.0,>=1.12.0->aiohttp<4.0.0,>=3.8.6->llama-index-core<0.12.0,>=0.11.0->llama-index-llms-huggingface) (0.2.0)\n",
            "Requirement already satisfied: exceptiongroup in /usr/local/lib/python3.10/dist-packages (from anyio->httpx->llama-index-core<0.12.0,>=0.11.0->llama-index-llms-huggingface) (1.2.2)\n",
            "Requirement already satisfied: llama-index in /usr/local/lib/python3.10/dist-packages (0.11.23)\n",
            "Requirement already satisfied: llama-index-agent-openai<0.4.0,>=0.3.4 in /usr/local/lib/python3.10/dist-packages (from llama-index) (0.3.4)\n",
            "Requirement already satisfied: llama-index-cli<0.4.0,>=0.3.1 in /usr/local/lib/python3.10/dist-packages (from llama-index) (0.3.1)\n",
            "Requirement already satisfied: llama-index-core<0.12.0,>=0.11.23 in /usr/local/lib/python3.10/dist-packages (from llama-index) (0.11.23)\n",
            "Requirement already satisfied: llama-index-embeddings-openai<0.3.0,>=0.2.4 in /usr/local/lib/python3.10/dist-packages (from llama-index) (0.2.5)\n",
            "Requirement already satisfied: llama-index-indices-managed-llama-cloud>=0.3.0 in /usr/local/lib/python3.10/dist-packages (from llama-index) (0.5.0)\n",
            "Requirement already satisfied: llama-index-legacy<0.10.0,>=0.9.48 in /usr/local/lib/python3.10/dist-packages (from llama-index) (0.9.48.post4)\n",
            "Requirement already satisfied: llama-index-llms-openai<0.3.0,>=0.2.10 in /usr/local/lib/python3.10/dist-packages (from llama-index) (0.2.16)\n",
            "Requirement already satisfied: llama-index-multi-modal-llms-openai<0.3.0,>=0.2.0 in /usr/local/lib/python3.10/dist-packages (from llama-index) (0.2.3)\n",
            "Requirement already satisfied: llama-index-program-openai<0.3.0,>=0.2.0 in /usr/local/lib/python3.10/dist-packages (from llama-index) (0.2.0)\n",
            "Requirement already satisfied: llama-index-question-gen-openai<0.3.0,>=0.2.0 in /usr/local/lib/python3.10/dist-packages (from llama-index) (0.2.0)\n",
            "Requirement already satisfied: llama-index-readers-file<0.4.0,>=0.3.0 in /usr/local/lib/python3.10/dist-packages (from llama-index) (0.3.0)\n",
            "Requirement already satisfied: llama-index-readers-llama-parse>=0.3.0 in /usr/local/lib/python3.10/dist-packages (from llama-index) (0.3.0)\n",
            "Requirement already satisfied: nltk>3.8.1 in /usr/local/lib/python3.10/dist-packages (from llama-index) (3.9.1)\n",
            "Requirement already satisfied: openai>=1.14.0 in /usr/local/lib/python3.10/dist-packages (from llama-index-agent-openai<0.4.0,>=0.3.4->llama-index) (1.54.4)\n",
            "Requirement already satisfied: PyYAML>=6.0.1 in /usr/local/lib/python3.10/dist-packages (from llama-index-core<0.12.0,>=0.11.23->llama-index) (6.0.2)\n",
            "Requirement already satisfied: SQLAlchemy>=1.4.49 in /usr/local/lib/python3.10/dist-packages (from SQLAlchemy[asyncio]>=1.4.49->llama-index-core<0.12.0,>=0.11.23->llama-index) (2.0.35)\n",
            "Requirement already satisfied: aiohttp<4.0.0,>=3.8.6 in /usr/local/lib/python3.10/dist-packages (from llama-index-core<0.12.0,>=0.11.23->llama-index) (3.10.10)\n",
            "Requirement already satisfied: dataclasses-json in /usr/local/lib/python3.10/dist-packages (from llama-index-core<0.12.0,>=0.11.23->llama-index) (0.6.7)\n",
            "Requirement already satisfied: deprecated>=1.2.9.3 in /usr/local/lib/python3.10/dist-packages (from llama-index-core<0.12.0,>=0.11.23->llama-index) (1.2.14)\n",
            "Requirement already satisfied: dirtyjson<2.0.0,>=1.0.8 in /usr/local/lib/python3.10/dist-packages (from llama-index-core<0.12.0,>=0.11.23->llama-index) (1.0.8)\n",
            "Requirement already satisfied: filetype<2.0.0,>=1.2.0 in /usr/local/lib/python3.10/dist-packages (from llama-index-core<0.12.0,>=0.11.23->llama-index) (1.2.0)\n",
            "Requirement already satisfied: fsspec>=2023.5.0 in /usr/local/lib/python3.10/dist-packages (from llama-index-core<0.12.0,>=0.11.23->llama-index) (2024.10.0)\n",
            "Requirement already satisfied: httpx in /usr/local/lib/python3.10/dist-packages (from llama-index-core<0.12.0,>=0.11.23->llama-index) (0.27.2)\n",
            "Requirement already satisfied: nest-asyncio<2.0.0,>=1.5.8 in /usr/local/lib/python3.10/dist-packages (from llama-index-core<0.12.0,>=0.11.23->llama-index) (1.6.0)\n",
            "Requirement already satisfied: networkx>=3.0 in /usr/local/lib/python3.10/dist-packages (from llama-index-core<0.12.0,>=0.11.23->llama-index) (3.4.2)\n",
            "Requirement already satisfied: numpy<2.0.0 in /usr/local/lib/python3.10/dist-packages (from llama-index-core<0.12.0,>=0.11.23->llama-index) (1.26.4)\n",
            "Requirement already satisfied: pillow>=9.0.0 in /usr/local/lib/python3.10/dist-packages (from llama-index-core<0.12.0,>=0.11.23->llama-index) (11.0.0)\n",
            "Requirement already satisfied: pydantic<3.0.0,>=2.7.0 in /usr/local/lib/python3.10/dist-packages (from llama-index-core<0.12.0,>=0.11.23->llama-index) (2.9.2)\n",
            "Requirement already satisfied: requests>=2.31.0 in /usr/local/lib/python3.10/dist-packages (from llama-index-core<0.12.0,>=0.11.23->llama-index) (2.32.3)\n",
            "Requirement already satisfied: tenacity!=8.4.0,<9.0.0,>=8.2.0 in /usr/local/lib/python3.10/dist-packages (from llama-index-core<0.12.0,>=0.11.23->llama-index) (8.5.0)\n",
            "Requirement already satisfied: tiktoken>=0.3.3 in /usr/local/lib/python3.10/dist-packages (from llama-index-core<0.12.0,>=0.11.23->llama-index) (0.8.0)\n",
            "Requirement already satisfied: tqdm<5.0.0,>=4.66.1 in /usr/local/lib/python3.10/dist-packages (from llama-index-core<0.12.0,>=0.11.23->llama-index) (4.66.6)\n",
            "Requirement already satisfied: typing-extensions>=4.5.0 in /usr/local/lib/python3.10/dist-packages (from llama-index-core<0.12.0,>=0.11.23->llama-index) (4.12.2)\n",
            "Requirement already satisfied: typing-inspect>=0.8.0 in /usr/local/lib/python3.10/dist-packages (from llama-index-core<0.12.0,>=0.11.23->llama-index) (0.9.0)\n",
            "Requirement already satisfied: wrapt in /usr/local/lib/python3.10/dist-packages (from llama-index-core<0.12.0,>=0.11.23->llama-index) (1.16.0)\n",
            "Requirement already satisfied: llama-cloud>=0.1.5 in /usr/local/lib/python3.10/dist-packages (from llama-index-indices-managed-llama-cloud>=0.3.0->llama-index) (0.1.5)\n",
            "Requirement already satisfied: pandas in /usr/local/lib/python3.10/dist-packages (from llama-index-legacy<0.10.0,>=0.9.48->llama-index) (2.2.2)\n",
            "Requirement already satisfied: beautifulsoup4<5.0.0,>=4.12.3 in /usr/local/lib/python3.10/dist-packages (from llama-index-readers-file<0.4.0,>=0.3.0->llama-index) (4.12.3)\n",
            "Requirement already satisfied: pypdf<6.0.0,>=5.1.0 in /usr/local/lib/python3.10/dist-packages (from llama-index-readers-file<0.4.0,>=0.3.0->llama-index) (5.1.0)\n",
            "Requirement already satisfied: striprtf<0.0.27,>=0.0.26 in /usr/local/lib/python3.10/dist-packages (from llama-index-readers-file<0.4.0,>=0.3.0->llama-index) (0.0.26)\n",
            "Requirement already satisfied: llama-parse>=0.5.0 in /usr/local/lib/python3.10/dist-packages (from llama-index-readers-llama-parse>=0.3.0->llama-index) (0.5.14)\n",
            "Requirement already satisfied: click in /usr/local/lib/python3.10/dist-packages (from nltk>3.8.1->llama-index) (8.1.7)\n",
            "Requirement already satisfied: joblib in /usr/local/lib/python3.10/dist-packages (from nltk>3.8.1->llama-index) (1.4.2)\n",
            "Requirement already satisfied: regex>=2021.8.3 in /usr/local/lib/python3.10/dist-packages (from nltk>3.8.1->llama-index) (2024.9.11)\n",
            "Requirement already satisfied: aiohappyeyeballs>=2.3.0 in /usr/local/lib/python3.10/dist-packages (from aiohttp<4.0.0,>=3.8.6->llama-index-core<0.12.0,>=0.11.23->llama-index) (2.4.3)\n",
            "Requirement already satisfied: aiosignal>=1.1.2 in /usr/local/lib/python3.10/dist-packages (from aiohttp<4.0.0,>=3.8.6->llama-index-core<0.12.0,>=0.11.23->llama-index) (1.3.1)\n",
            "Requirement already satisfied: attrs>=17.3.0 in /usr/local/lib/python3.10/dist-packages (from aiohttp<4.0.0,>=3.8.6->llama-index-core<0.12.0,>=0.11.23->llama-index) (24.2.0)\n",
            "Requirement already satisfied: frozenlist>=1.1.1 in /usr/local/lib/python3.10/dist-packages (from aiohttp<4.0.0,>=3.8.6->llama-index-core<0.12.0,>=0.11.23->llama-index) (1.5.0)\n",
            "Requirement already satisfied: multidict<7.0,>=4.5 in /usr/local/lib/python3.10/dist-packages (from aiohttp<4.0.0,>=3.8.6->llama-index-core<0.12.0,>=0.11.23->llama-index) (6.1.0)\n",
            "Requirement already satisfied: yarl<2.0,>=1.12.0 in /usr/local/lib/python3.10/dist-packages (from aiohttp<4.0.0,>=3.8.6->llama-index-core<0.12.0,>=0.11.23->llama-index) (1.17.1)\n",
            "Requirement already satisfied: async-timeout<5.0,>=4.0 in /usr/local/lib/python3.10/dist-packages (from aiohttp<4.0.0,>=3.8.6->llama-index-core<0.12.0,>=0.11.23->llama-index) (4.0.3)\n",
            "Requirement already satisfied: soupsieve>1.2 in /usr/local/lib/python3.10/dist-packages (from beautifulsoup4<5.0.0,>=4.12.3->llama-index-readers-file<0.4.0,>=0.3.0->llama-index) (2.6)\n",
            "Requirement already satisfied: anyio in /usr/local/lib/python3.10/dist-packages (from httpx->llama-index-core<0.12.0,>=0.11.23->llama-index) (3.7.1)\n",
            "Requirement already satisfied: certifi in /usr/local/lib/python3.10/dist-packages (from httpx->llama-index-core<0.12.0,>=0.11.23->llama-index) (2024.8.30)\n",
            "Requirement already satisfied: httpcore==1.* in /usr/local/lib/python3.10/dist-packages (from httpx->llama-index-core<0.12.0,>=0.11.23->llama-index) (1.0.6)\n",
            "Requirement already satisfied: idna in /usr/local/lib/python3.10/dist-packages (from httpx->llama-index-core<0.12.0,>=0.11.23->llama-index) (3.10)\n",
            "Requirement already satisfied: sniffio in /usr/local/lib/python3.10/dist-packages (from httpx->llama-index-core<0.12.0,>=0.11.23->llama-index) (1.3.1)\n",
            "Requirement already satisfied: h11<0.15,>=0.13 in /usr/local/lib/python3.10/dist-packages (from httpcore==1.*->httpx->llama-index-core<0.12.0,>=0.11.23->llama-index) (0.14.0)\n",
            "Requirement already satisfied: distro<2,>=1.7.0 in /usr/local/lib/python3.10/dist-packages (from openai>=1.14.0->llama-index-agent-openai<0.4.0,>=0.3.4->llama-index) (1.9.0)\n",
            "Requirement already satisfied: jiter<1,>=0.4.0 in /usr/local/lib/python3.10/dist-packages (from openai>=1.14.0->llama-index-agent-openai<0.4.0,>=0.3.4->llama-index) (0.7.1)\n",
            "Requirement already satisfied: annotated-types>=0.6.0 in /usr/local/lib/python3.10/dist-packages (from pydantic<3.0.0,>=2.7.0->llama-index-core<0.12.0,>=0.11.23->llama-index) (0.7.0)\n",
            "Requirement already satisfied: pydantic-core==2.23.4 in /usr/local/lib/python3.10/dist-packages (from pydantic<3.0.0,>=2.7.0->llama-index-core<0.12.0,>=0.11.23->llama-index) (2.23.4)\n",
            "Requirement already satisfied: charset-normalizer<4,>=2 in /usr/local/lib/python3.10/dist-packages (from requests>=2.31.0->llama-index-core<0.12.0,>=0.11.23->llama-index) (3.4.0)\n",
            "Requirement already satisfied: urllib3<3,>=1.21.1 in /usr/local/lib/python3.10/dist-packages (from requests>=2.31.0->llama-index-core<0.12.0,>=0.11.23->llama-index) (2.2.3)\n",
            "Requirement already satisfied: greenlet!=0.4.17 in /usr/local/lib/python3.10/dist-packages (from SQLAlchemy>=1.4.49->SQLAlchemy[asyncio]>=1.4.49->llama-index-core<0.12.0,>=0.11.23->llama-index) (3.1.1)\n",
            "Requirement already satisfied: mypy-extensions>=0.3.0 in /usr/local/lib/python3.10/dist-packages (from typing-inspect>=0.8.0->llama-index-core<0.12.0,>=0.11.23->llama-index) (1.0.0)\n",
            "Requirement already satisfied: marshmallow<4.0.0,>=3.18.0 in /usr/local/lib/python3.10/dist-packages (from dataclasses-json->llama-index-core<0.12.0,>=0.11.23->llama-index) (3.23.1)\n",
            "Requirement already satisfied: python-dateutil>=2.8.2 in /usr/local/lib/python3.10/dist-packages (from pandas->llama-index-legacy<0.10.0,>=0.9.48->llama-index) (2.8.2)\n",
            "Requirement already satisfied: pytz>=2020.1 in /usr/local/lib/python3.10/dist-packages (from pandas->llama-index-legacy<0.10.0,>=0.9.48->llama-index) (2024.2)\n",
            "Requirement already satisfied: tzdata>=2022.7 in /usr/local/lib/python3.10/dist-packages (from pandas->llama-index-legacy<0.10.0,>=0.9.48->llama-index) (2024.2)\n",
            "Requirement already satisfied: exceptiongroup in /usr/local/lib/python3.10/dist-packages (from anyio->httpx->llama-index-core<0.12.0,>=0.11.23->llama-index) (1.2.2)\n",
            "Requirement already satisfied: packaging>=17.0 in /usr/local/lib/python3.10/dist-packages (from marshmallow<4.0.0,>=3.18.0->dataclasses-json->llama-index-core<0.12.0,>=0.11.23->llama-index) (24.2)\n",
            "Requirement already satisfied: six>=1.5 in /usr/local/lib/python3.10/dist-packages (from python-dateutil>=2.8.2->pandas->llama-index-legacy<0.10.0,>=0.9.48->llama-index) (1.16.0)\n",
            "Requirement already satisfied: propcache>=0.2.0 in /usr/local/lib/python3.10/dist-packages (from yarl<2.0,>=1.12.0->aiohttp<4.0.0,>=3.8.6->llama-index-core<0.12.0,>=0.11.23->llama-index) (0.2.0)\n"
          ]
        }
      ]
    },
    {
      "cell_type": "code",
      "source": [
        "import bitsandbytes\n",
        "import torch\n",
        "llm = HuggingFaceLLM(\n",
        "    context_window=4096,\n",
        "    max_new_tokens=256,\n",
        "    generate_kwargs={\"temperature\": 0.0, \"do_sample\": False},\n",
        "    system_prompt=system_prompt,\n",
        "    query_wrapper_prompt=query_wrapper_prompt,\n",
        "    tokenizer_name=\"meta-llama/Llama-2-7b-chat-hf\",\n",
        "    model_name=\"meta-llama/Llama-2-7b-chat-hf\",\n",
        "    device_map=\"auto\",\n",
        "    # uncomment this if using CUDA to reduce memory usage\n",
        "    model_kwargs={\"torch_dtype\": torch.float16 , \"load_in_8bit\":True}\n",
        ")"
      ],
      "metadata": {
        "id": "FMXxh5HCX8CH",
        "colab": {
          "base_uri": "https://localhost:8080/",
          "height": 190,
          "referenced_widgets": [
            "449c98d0af1144fbb83b7956f4fa1de4",
            "9068b348d29c4d40b13fa3cbc5b857ce",
            "59b75665390f4ff6b2ac7114d0a4e6ee",
            "5da709fed0f542c0b5429a711410eebb",
            "aeeee7fdcaf24c26be6fc0d6b4453c1c",
            "c2d7c82c5c754022afa4b69736459ebb",
            "41bb10f343354304acb4fd2f24bdef87",
            "3ec080e4326b4550ada9cdc1e438f4f0",
            "48a5ccd69eca4380aee4e94176879f0e",
            "4550ea8e38bb4a5589088cb90d5ff0c7",
            "66c4f7229cc94923832a1b4a3644e38a"
          ]
        },
        "outputId": "e1be11f5-4e6a-47cb-ad9b-ab49cb569a33"
      },
      "execution_count": null,
      "outputs": [
        {
          "output_type": "stream",
          "name": "stderr",
          "text": [
            "/usr/local/lib/python3.10/dist-packages/huggingface_hub/utils/_token.py:89: UserWarning: \n",
            "The secret `HF_TOKEN` does not exist in your Colab secrets.\n",
            "To authenticate with the Hugging Face Hub, create a token in your settings tab (https://huggingface.co/settings/tokens), set it as secret in your Google Colab and restart your session.\n",
            "You will be able to reuse this secret in all of your notebooks.\n",
            "Please note that authentication is recommended but still optional to access public models or datasets.\n",
            "  warnings.warn(\n",
            "The `load_in_4bit` and `load_in_8bit` arguments are deprecated and will be removed in the future versions. Please, pass a `BitsAndBytesConfig` object in `quantization_config` argument instead.\n"
          ]
        },
        {
          "output_type": "display_data",
          "data": {
            "text/plain": [
              "Loading checkpoint shards:   0%|          | 0/2 [00:00<?, ?it/s]"
            ],
            "application/vnd.jupyter.widget-view+json": {
              "version_major": 2,
              "version_minor": 0,
              "model_id": "449c98d0af1144fbb83b7956f4fa1de4"
            }
          },
          "metadata": {}
        }
      ]
    },
    {
      "cell_type": "code",
      "source": [
        "!pip install llama-index-embeddings-langchain\n",
        "from langchain.embeddings.huggingface import HuggingFaceEmbeddings\n",
        "from llama_index.core import Settings\n",
        "from llama_index.embeddings.langchain import LangchainEmbedding\n",
        "\n",
        "embed_model=LangchainEmbedding(\n",
        "    HuggingFaceEmbeddings(model_name=\"sentence-transformers/all-mpnet-base-v2\"))"
      ],
      "metadata": {
        "id": "JCUIi8ZPg_Yo",
        "colab": {
          "base_uri": "https://localhost:8080/"
        },
        "outputId": "e6950e8f-1501-4db0-e92d-21ea6a2aaabc"
      },
      "execution_count": null,
      "outputs": [
        {
          "output_type": "stream",
          "name": "stdout",
          "text": [
            "Requirement already satisfied: llama-index-embeddings-langchain in /usr/local/lib/python3.10/dist-packages (0.2.1)\n",
            "Requirement already satisfied: llama-index-core<0.12.0,>=0.11.0 in /usr/local/lib/python3.10/dist-packages (from llama-index-embeddings-langchain) (0.11.23)\n",
            "Requirement already satisfied: PyYAML>=6.0.1 in /usr/local/lib/python3.10/dist-packages (from llama-index-core<0.12.0,>=0.11.0->llama-index-embeddings-langchain) (6.0.2)\n",
            "Requirement already satisfied: SQLAlchemy>=1.4.49 in /usr/local/lib/python3.10/dist-packages (from SQLAlchemy[asyncio]>=1.4.49->llama-index-core<0.12.0,>=0.11.0->llama-index-embeddings-langchain) (2.0.35)\n",
            "Requirement already satisfied: aiohttp<4.0.0,>=3.8.6 in /usr/local/lib/python3.10/dist-packages (from llama-index-core<0.12.0,>=0.11.0->llama-index-embeddings-langchain) (3.10.10)\n",
            "Requirement already satisfied: dataclasses-json in /usr/local/lib/python3.10/dist-packages (from llama-index-core<0.12.0,>=0.11.0->llama-index-embeddings-langchain) (0.6.7)\n",
            "Requirement already satisfied: deprecated>=1.2.9.3 in /usr/local/lib/python3.10/dist-packages (from llama-index-core<0.12.0,>=0.11.0->llama-index-embeddings-langchain) (1.2.14)\n",
            "Requirement already satisfied: dirtyjson<2.0.0,>=1.0.8 in /usr/local/lib/python3.10/dist-packages (from llama-index-core<0.12.0,>=0.11.0->llama-index-embeddings-langchain) (1.0.8)\n",
            "Requirement already satisfied: filetype<2.0.0,>=1.2.0 in /usr/local/lib/python3.10/dist-packages (from llama-index-core<0.12.0,>=0.11.0->llama-index-embeddings-langchain) (1.2.0)\n",
            "Requirement already satisfied: fsspec>=2023.5.0 in /usr/local/lib/python3.10/dist-packages (from llama-index-core<0.12.0,>=0.11.0->llama-index-embeddings-langchain) (2024.10.0)\n",
            "Requirement already satisfied: httpx in /usr/local/lib/python3.10/dist-packages (from llama-index-core<0.12.0,>=0.11.0->llama-index-embeddings-langchain) (0.27.2)\n",
            "Requirement already satisfied: nest-asyncio<2.0.0,>=1.5.8 in /usr/local/lib/python3.10/dist-packages (from llama-index-core<0.12.0,>=0.11.0->llama-index-embeddings-langchain) (1.6.0)\n",
            "Requirement already satisfied: networkx>=3.0 in /usr/local/lib/python3.10/dist-packages (from llama-index-core<0.12.0,>=0.11.0->llama-index-embeddings-langchain) (3.4.2)\n",
            "Requirement already satisfied: nltk>3.8.1 in /usr/local/lib/python3.10/dist-packages (from llama-index-core<0.12.0,>=0.11.0->llama-index-embeddings-langchain) (3.9.1)\n",
            "Requirement already satisfied: numpy<2.0.0 in /usr/local/lib/python3.10/dist-packages (from llama-index-core<0.12.0,>=0.11.0->llama-index-embeddings-langchain) (1.26.4)\n",
            "Requirement already satisfied: pillow>=9.0.0 in /usr/local/lib/python3.10/dist-packages (from llama-index-core<0.12.0,>=0.11.0->llama-index-embeddings-langchain) (11.0.0)\n",
            "Requirement already satisfied: pydantic<3.0.0,>=2.7.0 in /usr/local/lib/python3.10/dist-packages (from llama-index-core<0.12.0,>=0.11.0->llama-index-embeddings-langchain) (2.9.2)\n",
            "Requirement already satisfied: requests>=2.31.0 in /usr/local/lib/python3.10/dist-packages (from llama-index-core<0.12.0,>=0.11.0->llama-index-embeddings-langchain) (2.32.3)\n",
            "Requirement already satisfied: tenacity!=8.4.0,<9.0.0,>=8.2.0 in /usr/local/lib/python3.10/dist-packages (from llama-index-core<0.12.0,>=0.11.0->llama-index-embeddings-langchain) (8.5.0)\n",
            "Requirement already satisfied: tiktoken>=0.3.3 in /usr/local/lib/python3.10/dist-packages (from llama-index-core<0.12.0,>=0.11.0->llama-index-embeddings-langchain) (0.8.0)\n",
            "Requirement already satisfied: tqdm<5.0.0,>=4.66.1 in /usr/local/lib/python3.10/dist-packages (from llama-index-core<0.12.0,>=0.11.0->llama-index-embeddings-langchain) (4.66.6)\n",
            "Requirement already satisfied: typing-extensions>=4.5.0 in /usr/local/lib/python3.10/dist-packages (from llama-index-core<0.12.0,>=0.11.0->llama-index-embeddings-langchain) (4.12.2)\n",
            "Requirement already satisfied: typing-inspect>=0.8.0 in /usr/local/lib/python3.10/dist-packages (from llama-index-core<0.12.0,>=0.11.0->llama-index-embeddings-langchain) (0.9.0)\n",
            "Requirement already satisfied: wrapt in /usr/local/lib/python3.10/dist-packages (from llama-index-core<0.12.0,>=0.11.0->llama-index-embeddings-langchain) (1.16.0)\n",
            "Requirement already satisfied: aiohappyeyeballs>=2.3.0 in /usr/local/lib/python3.10/dist-packages (from aiohttp<4.0.0,>=3.8.6->llama-index-core<0.12.0,>=0.11.0->llama-index-embeddings-langchain) (2.4.3)\n",
            "Requirement already satisfied: aiosignal>=1.1.2 in /usr/local/lib/python3.10/dist-packages (from aiohttp<4.0.0,>=3.8.6->llama-index-core<0.12.0,>=0.11.0->llama-index-embeddings-langchain) (1.3.1)\n",
            "Requirement already satisfied: attrs>=17.3.0 in /usr/local/lib/python3.10/dist-packages (from aiohttp<4.0.0,>=3.8.6->llama-index-core<0.12.0,>=0.11.0->llama-index-embeddings-langchain) (24.2.0)\n",
            "Requirement already satisfied: frozenlist>=1.1.1 in /usr/local/lib/python3.10/dist-packages (from aiohttp<4.0.0,>=3.8.6->llama-index-core<0.12.0,>=0.11.0->llama-index-embeddings-langchain) (1.5.0)\n",
            "Requirement already satisfied: multidict<7.0,>=4.5 in /usr/local/lib/python3.10/dist-packages (from aiohttp<4.0.0,>=3.8.6->llama-index-core<0.12.0,>=0.11.0->llama-index-embeddings-langchain) (6.1.0)\n",
            "Requirement already satisfied: yarl<2.0,>=1.12.0 in /usr/local/lib/python3.10/dist-packages (from aiohttp<4.0.0,>=3.8.6->llama-index-core<0.12.0,>=0.11.0->llama-index-embeddings-langchain) (1.17.1)\n",
            "Requirement already satisfied: async-timeout<5.0,>=4.0 in /usr/local/lib/python3.10/dist-packages (from aiohttp<4.0.0,>=3.8.6->llama-index-core<0.12.0,>=0.11.0->llama-index-embeddings-langchain) (4.0.3)\n",
            "Requirement already satisfied: click in /usr/local/lib/python3.10/dist-packages (from nltk>3.8.1->llama-index-core<0.12.0,>=0.11.0->llama-index-embeddings-langchain) (8.1.7)\n",
            "Requirement already satisfied: joblib in /usr/local/lib/python3.10/dist-packages (from nltk>3.8.1->llama-index-core<0.12.0,>=0.11.0->llama-index-embeddings-langchain) (1.4.2)\n",
            "Requirement already satisfied: regex>=2021.8.3 in /usr/local/lib/python3.10/dist-packages (from nltk>3.8.1->llama-index-core<0.12.0,>=0.11.0->llama-index-embeddings-langchain) (2024.9.11)\n",
            "Requirement already satisfied: annotated-types>=0.6.0 in /usr/local/lib/python3.10/dist-packages (from pydantic<3.0.0,>=2.7.0->llama-index-core<0.12.0,>=0.11.0->llama-index-embeddings-langchain) (0.7.0)\n",
            "Requirement already satisfied: pydantic-core==2.23.4 in /usr/local/lib/python3.10/dist-packages (from pydantic<3.0.0,>=2.7.0->llama-index-core<0.12.0,>=0.11.0->llama-index-embeddings-langchain) (2.23.4)\n",
            "Requirement already satisfied: charset-normalizer<4,>=2 in /usr/local/lib/python3.10/dist-packages (from requests>=2.31.0->llama-index-core<0.12.0,>=0.11.0->llama-index-embeddings-langchain) (3.4.0)\n",
            "Requirement already satisfied: idna<4,>=2.5 in /usr/local/lib/python3.10/dist-packages (from requests>=2.31.0->llama-index-core<0.12.0,>=0.11.0->llama-index-embeddings-langchain) (3.10)\n",
            "Requirement already satisfied: urllib3<3,>=1.21.1 in /usr/local/lib/python3.10/dist-packages (from requests>=2.31.0->llama-index-core<0.12.0,>=0.11.0->llama-index-embeddings-langchain) (2.2.3)\n",
            "Requirement already satisfied: certifi>=2017.4.17 in /usr/local/lib/python3.10/dist-packages (from requests>=2.31.0->llama-index-core<0.12.0,>=0.11.0->llama-index-embeddings-langchain) (2024.8.30)\n",
            "Requirement already satisfied: greenlet!=0.4.17 in /usr/local/lib/python3.10/dist-packages (from SQLAlchemy>=1.4.49->SQLAlchemy[asyncio]>=1.4.49->llama-index-core<0.12.0,>=0.11.0->llama-index-embeddings-langchain) (3.1.1)\n",
            "Requirement already satisfied: mypy-extensions>=0.3.0 in /usr/local/lib/python3.10/dist-packages (from typing-inspect>=0.8.0->llama-index-core<0.12.0,>=0.11.0->llama-index-embeddings-langchain) (1.0.0)\n",
            "Requirement already satisfied: marshmallow<4.0.0,>=3.18.0 in /usr/local/lib/python3.10/dist-packages (from dataclasses-json->llama-index-core<0.12.0,>=0.11.0->llama-index-embeddings-langchain) (3.23.1)\n",
            "Requirement already satisfied: anyio in /usr/local/lib/python3.10/dist-packages (from httpx->llama-index-core<0.12.0,>=0.11.0->llama-index-embeddings-langchain) (3.7.1)\n",
            "Requirement already satisfied: httpcore==1.* in /usr/local/lib/python3.10/dist-packages (from httpx->llama-index-core<0.12.0,>=0.11.0->llama-index-embeddings-langchain) (1.0.6)\n",
            "Requirement already satisfied: sniffio in /usr/local/lib/python3.10/dist-packages (from httpx->llama-index-core<0.12.0,>=0.11.0->llama-index-embeddings-langchain) (1.3.1)\n",
            "Requirement already satisfied: h11<0.15,>=0.13 in /usr/local/lib/python3.10/dist-packages (from httpcore==1.*->httpx->llama-index-core<0.12.0,>=0.11.0->llama-index-embeddings-langchain) (0.14.0)\n",
            "Requirement already satisfied: packaging>=17.0 in /usr/local/lib/python3.10/dist-packages (from marshmallow<4.0.0,>=3.18.0->dataclasses-json->llama-index-core<0.12.0,>=0.11.0->llama-index-embeddings-langchain) (24.2)\n",
            "Requirement already satisfied: propcache>=0.2.0 in /usr/local/lib/python3.10/dist-packages (from yarl<2.0,>=1.12.0->aiohttp<4.0.0,>=3.8.6->llama-index-core<0.12.0,>=0.11.0->llama-index-embeddings-langchain) (0.2.0)\n",
            "Requirement already satisfied: exceptiongroup in /usr/local/lib/python3.10/dist-packages (from anyio->httpx->llama-index-core<0.12.0,>=0.11.0->llama-index-embeddings-langchain) (1.2.2)\n"
          ]
        },
        {
          "output_type": "stream",
          "name": "stderr",
          "text": [
            "<ipython-input-10-a5554add831c>:7: LangChainDeprecationWarning: The class `HuggingFaceEmbeddings` was deprecated in LangChain 0.2.2 and will be removed in 1.0. An updated version of the class exists in the :class:`~langchain-huggingface package and should be used instead. To use it run `pip install -U :class:`~langchain-huggingface` and import as `from :class:`~langchain_huggingface import HuggingFaceEmbeddings``.\n",
            "  HuggingFaceEmbeddings(model_name=\"sentence-transformers/all-mpnet-base-v2\"))\n"
          ]
        }
      ]
    },
    {
      "cell_type": "code",
      "source": [
        "from llama_index.core import Settings\n",
        "\n",
        "Settings.llm=llm\n",
        "Settings.chunk_size=1024\n",
        "Settings.embed_model=embed_model"
      ],
      "metadata": {
        "id": "tM-DlN8DoPiK"
      },
      "execution_count": null,
      "outputs": []
    },
    {
      "cell_type": "code",
      "source": [
        "print(documents)"
      ],
      "metadata": {
        "id": "qfgygy3soSC1",
        "colab": {
          "base_uri": "https://localhost:8080/"
        },
        "outputId": "33a67d03-959a-43e4-e834-7251e053a016"
      },
      "execution_count": null,
      "outputs": [
        {
          "output_type": "stream",
          "name": "stdout",
          "text": [
            "[' \\n \\nAugust 03, 2023 \\nTo, \\nNational Stock Exchange of India Limited  \\nExchange Plaza, 5th Floor, \\nPlot No. C/1, G Block, \\nBandra – Kurla Complex, \\nBandra (E), Mumbai -400 051 \\n \\nSymbol: SJS  BSE Limited  \\nCorporate Relationship Department, \\n2nd Floor, New Trading Wing, \\nRotunda Building, P.J. Towers, \\nDalal Street, Mumbai – 400 001 \\n \\nScrip Code: 543387  \\n \\nISIN: INE284S01014 \\n \\nDear Sir/Madam,   \\n \\nSubject: Transcripts of Analysts/Investor Meet/ Earnings Call of the Company pertaining to Q1 of FY \\n2023-24 \\nPlease find enclosed the transcripts of the Analysts/Investor Meet/ Earnings Call of Q1 FY 2023-24 held \\non July 27, 2023. \\n \\nYou are requested to kindly take the same on record. \\n \\nThanking you. \\nYours faithfully, \\nFor S.J.S. Enterprises Limited \\n \\n \\n \\n_______________________ \\nThabraz Hushain W.  \\nCompany Secretary and Compliance Officer \\nMembership No.: A51119 \\n \\nEncl: As above \\n ', ' \\n \\nSJS Enterprises Limited  \\nQ1 FY202 4 Earnings Conference Call  \\n \\nJuly 27, 202 3 \\n \\n \\n \\n \\n \\n \\n \\n \\n \\n \\n \\n \\n \\n \\n \\nANALYST : MR. RONAK MEHTA  – JM FINANCIAL  \\n \\nMANAGEMENT : MR. K.A.  JOSEPH – MANAGING DIRECTOR  & CO-FOUNDER  \\nMR. SANJAY THAPAR – CEO  & EXECUTIVE DIRECTOR  \\nMR. MAHENDRA NAREDI – CHIEF FINANCIAL OFFICER  \\nMS. DEV ANSHI DHRUV A – HEAD – INVESTOR  RELATIONS  \\n \\n  \\n', \" SJS Enterprises  \\nJuly 27, 2023  \\n \\nModerator:  Ladies and gentlemen, good day and welcome to the SJS Enterprises 1Q FY24 Earnings \\nConference Call hosted by JM Financial.  \\nAs a reminder, all participant lines will be in the listen -only mode and there will be an \\nopportunity for you to ask questions after the presentation concludes . Should you need assistance \\nduring the conference call, please signal an operator by pressing ‘*’ then ‘0’on a touc htone \\nphone. Please note that this conference is being recorded.  \\nI now hand the conference over to Mr. Ronak Mehta from JM Financial. Thank you and over to \\nyou, Mr. Mehta.  \\nRonak Mehta:  From JM  Financial Institutional Securities , I welcome you all to 1Q FY2 4 Earnings Call of SJS \\nEnterprises. From the Management Team , we have with us today, Mr. K  A Joseph  – Managing \\nDirector and Co-Founder ; Mr. Sanjay Thapar - CEO and Executive Director ; Mr. Mahendra \\nNaredi  - Chief Financial Officer and Ms . Devanshi Dhruva  – Head , Investor Relations.  \\nSo as we do always, we will start the call  with b rief opening remarks from the management \\nfollowed by a Q&A session. So with that over to you Devanshi. Thank you.  \\nDevanshi Dhruva:  Thank you, Ronak . Good morning, ladies and gentlemen, and thank you for being with us over \\nthe call today. We appreciate it.  \\nMoving on, this is how we intend to take today's conference call forward. I will pass on the dais \\nto Mr. K A Joseph  – our M .D. and Co-Founder, who will make the opening remar ks and brief \\nyou all about our latest acquisition, Walter Pack India's Performance . Then he will hand it over \\nto Mr. Sanjay Thapar  – our CEO and Executive Director, who will take you through some of the \\nslides of our presentation that have been uploaded on the stock exchange as well as on our \\nwebsite.  \\nSanjay will take you all through the industry view , our business performance and also give a \\nstrategic outloo k for the future growth of the company at the end. And Mr. Mahendra Naredi  – \\nour CFO , will update you on our financial highlights  and post which we will open it up for Q&A . \\nThe duration of this call will be around 60 minutes and we will try to wrap up our comments in \\nabout 20 minutes so that we leave enough time for you guys to ask questions. If time is not \\nenough, please feel free to reach out to us through e -mail and I will try to answer all your \\nquestions to the best of my abilities.  \\nThank you once again and I will now hand it over to Mr. Joseph t o make his opening comment . \\nOver to you, Joe.  \\nK.A. Joseph : Thank you , Devanshi for the introduction. Hello and good morning , everyone. I trust you had a \\nchance to look at our Investor Presentation  and the Results  published yesterday.  \", \" SJS Enterprises  \\nJuly 27, 2023  \\n \\nWhile Sanjay and Mah endra will take you all through the presentation later, I'm happy to inform \\nthat we have completed the transformative acquisit ion of Walter Pack India within the set \\ntimeline . \\nAfter the  successful acquisition of Exot ech and the robust performance we delivered there in the \\nlast two years, we have gained more confidence in our execution capabilities of acquiring and \\nintegrating com panies that could take SJS to the next  level of growth. We now strongly believe \\nthat to strengthen our market leadership in the aesthetic business , inorganic acquisitions will \\ncontinue to be our core strategy going forward.  \\nWalter Pack  acquisition has ope ned up a plethora of new opportunities for us. With this \\nacquisition, we have penetrated deeper in passenger vehicles and consumer appliances segment, \\nthereby further reducing our two wheeler dependence. According to SJ S Q1 F Y24 pro forma  \\nnumbers, which includes Walter  Pack  India , 36% revenue contribution would be from two \\nwheelers, 36% from passenger vehicles and 28% from consumer appliances and others. Both \\nExotech and Walter Pack  acquisition have helped us to balance our portfolio conce ntration from \\na large two wheeler  player to an overall automotive and consumer appliances player . \\nWith Walter Pack acquisition, we have not only acquired a very large growth and high margin \\nbusiness at a good valuation, but at the same time achieved many k ey strategic objectives in \\nterms of addition of new and emerging technologies, new customers, manufacturing capabilities \\nand increase management bandwidth.  \\nI would also like to highlight that Roy Mathew , one of the founders of Walter Pack India will \\ncontin ue to spearhead Walter Pack with 10% stake. This will ensure seamless integration in the \\nshort term and harnessing optimum  revenue synergies in the medium  term. I am excited and \\neagerly looking forward to see how SJ S grows multi -folds in the future with al l the synergies \\nand cross -selling opportunities playing out amongst the three companies.  \\nWe have seen a good start for Walter Pack India this quarter. Walter Pack Q1 witnessed a strong \\nrevenue growth of 21% YoY and a robust margin performance with EBITDA  margins around \\n31.5%. Please note that for FY24 only nine months financials  of Walter P ack India will be \\nconsolidated with SJS financials.  \\nWith that said, I would like to now hand over t he call to Sanjay to take you ’ll through some of \\nthe business and indus try highlights for the quarter. Thank you. Over to you, Sanjay.  \\nSanjay  Thapar : Yes. Thank you, Joe, for updating our investors and analysts on W alter P ack. Very  good morning \\neveryone.  \\nStarting with our Q1 highlights : \", \" SJS Enterprises  \\nJuly 27, 2023  \\n \\nWe have seen a robust start to FY 24 financial year as we yet again outperformed the automotive \\nindustry for the 15th consecutive quarter. Consolidated revenues, that is SJS plus Exotech \\ntogether grew  by 13.6% Y oY on the back of strong 18.6% Y oY growth in the automotive segment \\nfor us , that is the two wheeler and passenger  vehicles combined . The automotive segment has \\ngrown well for us both in the domestic market at 14.2% Y oY and exports market at about 120.7% \\nYoY. \\nIn Q1 FY24, we generated Rs.77.1 million in cash flows, taking total cash and cash equivalents \\nto Rs.2,849.7 million, as of 30th June. However, post the completion of our Walter Pack \\nacquisition recently , our cash and cash equivalent stand s at 461.7 million a nd the net debt stands \\nat 539.8 million.  \\nWe added two marquee customers to our already  large portfolio, Toyota Tsusho  and Auto liv. \\nAuto liv is the world's largest automotive safety supplier with sales to all major car manufacturers \\nin the world and we have bagged  a large order of IML parts from them.  \\nSJS has been consistently growing ahead of the industry and this quarter  is no different. In Q1, \\nthe two wheeler industry production grew 1.3% Y oY while SJS consolidated two wheeler sales \\ngrew by 15% Y oY. The company witnessed passenger vehicle segment growth of 24.6% on YoY \\nbasis while the industry production volume grew by 7%. Automotive that is two wheeler plus \\npassenger vehicle industry production grew only 2.3% Y oY , while S JS witnessed a robust growt h \\nof 18 .6% Y oY on account of new business wins and increasing share of business in the \\nautomotive segment. Overall consolidated S JS sales grew by 13.6% year -on-year, partially \\nimpacted on account of slow recovery in the consumer appliances  segment and some  degrowth \\nin the farm equipment segment.  \\nHowever, I would like to inform you that we are seeing improvement in the export markets and \\nour export revenue almost doubled for the quarter compared to last year  same quarter  which was \\nimpacted due to geopolitic al issues in Europe and also macroeconomic slowdown in North \\nAmerica.  \\nThe increase in export revenue this quarter is largely due to winning new businesses with our \\nexisting customers in South America and EMEA . Our exports initiatives are playing out steadi ly. \\nAppointing sales agents in South America, is helping us to strengthen our presence in that region. \\nWe intend to hire more such agents in North America and Europe as well to grow exports. We \\nare seeing gradual pickup in demand in North America and Europe . This bounce back in export \\nrevenue will defini tely help us grow  further and it reinstates our belief that exports will be one \\nof the core growth drivers for our company in the future.  \\nApart from adding two new customers like Autoliv  and Toyota Tsusho  as I mentioned earlier, \\nwe continue to expand our wallet share by winning new businesses from key customers like \\nMahindra , TVS, Visteon, Hyundai, Bajaj Auto Continental, Honda Motorcycles  & Scooters \\namongst others.  \", \" SJS Enterprises  \\nJuly 27, 2023  \\n \\nBefore I hand over to Mahendr a, I would like to share one more update with you . On the CSR \\nfront , we've been supporting the paraplegic climber , Mr. Manikandan, since the past seven years \\nand year -after-year, he's been winning medals and laurels  in this field, making India proud. This \\nquarter too, we sponsored him for the IF SC Para Climbing World Cup held in June '23 at \\nSwitzerland and he won a bronze medal for our country. So we are very. proud of him.  \\nWe also extended coverage of our Swach h Bharat initiative of garbage cleanup to 5 more \\nsurrounding villages, taking the total  count to 12 villages. Our aim is to provide a cleaner and \\nhygienic environment for people to live in. These initiatives make us feel very proud that our \\nCSR initiatives are bringing about a definitive change and creating a positive impact in the \\nsociety, be it in healthcare , sanitation, sports education, rural development around the \\ncommunity.  \\nI would now like to hand over the call to Mahendra  – our CFO to update  you on the S JS’ financial \\nperformance  before I talk to you about the future growth. Over to you Mahendr a. \\nMahendr a Naredi : Thank you, Mr. Thapar. Good morning, everyone. Moving to slide 12, which talks about our \\nfinancial performance in detail. As you all know, consolidated revenue at Rs.1,172.5 million has \\ngrown at 13.6% YoY on the back of strong growth in automotive segment and export s. \\nOn the domestic front, SJS witnessed 14.2% Y oY growth in automotive segment ; however, a  \\ndegrowth of around 10% in consumer appliance and other segment result ed in 8.4% YoY growth \\nin domestic sales , yet domestic sales outperform ed the underlying automotive industry growth . \\nExport s during this quarter grew by 90.8% on YoY basis on account of new business wins and \\ngradual export market recovery. Export performance was due to a strong growth in the PV \\nsegment and some recovery in consumer appliance segment. Q1 FY24 export constitute 11% of \\nconsolidated sales compared to 6% o f the sales last year , that was impacted due to external \\ngeopolitical and macroeconomic factors. EBITDA at Rs.313.8 million g rew 12.8% Y oY on a \\nmargin of 26.1%. This has impact of 30 b ps on a YoY basis and that was due to one -off expenses \\nunder other expen ses to the tune of Rs.8 million  for interest on GST . PAT at Rs.180 million grew \\n11.1% Y oY and PAT margin stood at 15.4% . Our ROC E during the quarter stand s at 38.6% and \\nROE at 14.5%.  \\nAs Mr. T hapar mentioned earlier, our cash and cash equivalent were at Rs.2,849.7 million at the \\nend of June '23. However , post Walter Pack India acquisition, it was at Rs.461.7 million , and our \\nnet debt post-acquisition  has increased to Rs.539.8 million and equity share capital has increased \\nto Rs.310.38 million post preferential allotment to our promoter Mr. Joseph. Now his overall \\nshareholding has increased from 15.5 % to 16.9%.  \\nMoving on to slide 13, that shows the quarterly financial in a  snapshot. I would like to bring to \\nyour notice the proforma financial of SJS for Q1 FY24 by including Walter Pack India numbers  \\nfor Q1. Although  Walter Pack India numbers are not reflected in that consolidated financial \", \" SJS Enterprises  \\nJuly 27, 2023  \\n \\nreported for this quarter , but from  Q2 onwards, WPI financial will be consolidated with the SJS \\nnumbers , basis our 90.1% holding in Walter Pack  India.  \\nAs Mr. Joseph mentioned earlier, Walter Pack has kicked off the year with a great start in Q1 \\nFY24. P ro forma revenue for Q1 FY24 would have been Rs.1,528.7 million, a YoY growth of \\n48.2%. Pro forma EBITDA  margin were at 27.3% , witnessing 120 bps margin expansion as \\ncompared to Q1  FY24  reported margin. This would result in a PAT growth of 52.1% and EPS \\ngrowth of 5 1.8% Y oY. Even after considering the impact of lower other income and higher \\ninterest costs on loan taken for Walter Pack acquisition , then also our pro forma EPS would have \\nbeen 21% higher than reported Q1 FY24 EPS, thereby highlighting the fact that Walt er Pack  \\nIndia business will be EPS accretive for us. And this reinforce our conviction in Walter Pack  \\nbusiness and we are confident of achieving our growth target in the medium term on back of \\nvarious cross selling opportunities, synergies between all the three businesses and growing \\neconomi es of scale . \\nI would now like to hand over the call back to Mr. Tha par to talk about our future plans and \\ngrowth outlook.  \\nSanjay Thapar:  Thank you, Mahendra. Moving ahead, we are absolutely on track in executing our orga nic \\ngrowth strategy by addressing the aesthetic  requirements of multiple end industry segments, \\nincreasing our global presence, introduction of new technology products and building mega \\ncustomer accounts. This is consistently helping us outperform the unde rlying industry growth \\nrates . \\nOn the Exotech capacity expansion front, we would like to update everyone that post the Wa lter \\nPack acquisition, we see many synergies between the two companies, Exotech and Wa lter Pack . \\nBoth plants are in close proximity at Ranjangaon, Pune. Hence the company has deferred its \\nchrome plating capacity expansion CAPEX plan by a year to calendar ye ar '24. We are revising \\nthe expansion plans to align more effectively with the evolving business requirements of both \\nWalter Pack and Exotech . \\nThis rework  aims to create a more conducive strategy that can accommodate the changing needs \\nand demands of both companies. In the interim, we have chartered out an alternate plan so that \\nExotech growth does not get hampered in the short run . We are increasing capacity at Exotech \\nby de bottlenecking, utilizing o ur underutilized capacities in painting, etc. , We have re cently \\nbagged a large order for painting as well a t Exotech  from a large passenger vehicle OEM. \\nSimultaneously , we are also partnering with external chrome plating suppliers to utilize the \\nexcess  capacity creating a win -win situation for both  parties .  \\nHence , for the period FY24 to 26, we maintain our stance of 20% to 25% organic growth.  \\nAs a company, we've always focused on introduction of new premium products and technologies \\nthat are complex to manufacture and that will enable us to increas e our addressable market quite \", ' SJS Enterprises  \\nJuly 27, 2023  \\n \\nsignificantly. It is our consistent focus on innovation that has enabled us to stay ahead of the \\ncurve and be a preferred supplier  to most of our customers . \\nSJS has already started accelerating its efforts to increase its val ue in both two-wheeler , \\npassenger vehicle and consumer segments with the addition of new technology premium \\nproducts . We can see that growth playing out with the addition of chrome  plated  parts through \\nExotech  and IML, IMD and IMF parts through the recent Walter Pack acquisition. SJS is also \\nworking on a few new age products like optical plastics and cover  glass, which will further drive \\nup the kit value that we supply to customers . \\nOur organic and inorganic strategies have helped us make S JS a significant player in the \\nautomotive interior space. We are confident that even in the future, any acquisition we do , will \\nopen up a new possibility for us to achieve higher business growth and wi ll be complementary \\nor an extension to our existing businesses. Hence, we believe we will continue to outperform the \\nunderlying industry growth , recovery in the consumer sector in the export markets will help us \\naccelerate this momentum of our growth traje ctory even further . Our inorganic growth through \\nWalter Pack will be over and above the 20 % - 25% organic growth that we have guided.  \\nSJS will continue to deliver on its robust financial and operational guidance of FY24 with 50% \\nYoY growth in the SJS conso lidated revenues and a consolidated PAT growth of about 40%  YoY \\nwith the addition of Walter Pack revenues and robust margin profile in our existing businesses. \\nThis of course will be post consolidating at 90.1% stake in Walter P ack for a nine month period \\nin this financial year.  \\nWith that said, I come to an end of my quarterly updates. Thank you and we are now open to \\nanswer any questions that you would have.  \\nModerator:  Thank you very much. We will now begin the question -and-answer session. Our first question \\nis from the line of Amit Hiranandani from SMIFS Limited. Please go ahead.  \\nAmit Hiranandani:  My first question is basically what was the contribution from new products in the consolidated \\nrevenue and what was it in FY23?  \\nMahendra Naredi : So Amit, a good question and our contribution for this quarter was around 10% and it was around \\nthe same in the last year.  \\nAmit Hiranandani:  And sir, we understand that Exotech margins on Q oQ has slightly dropped , possibly we \\nunderstand tha t due to the new products development, trial runs and etc ., So wanted to \\nunderstand, what could be the sustainable annual margin and where do you see it in the next \\nthree years?  \\nMahendra Naredi : So Amit, as we already guided in the past, there was a small blip in this quarter, but , however \\nExotech will continue to perform 14 % to 15% sustainable margin.  ', \" SJS Enterprises  \\nJuly 27, 2023  \\n \\nAmit Hiranandani:  And sir, where do you see it in the next three years … any chance to improve it further?  \\nSanj ay Thapar:  So as I have said earlier in our previous  calls, we had inherited a legacy of existing customers. \\nSo the margins that are there are largely what are agreed with Exotech in the past and in the \\nfuture we hope to increase our exposure to export cus tomers where margins would be higher, \\nbut to be conservative, we are still maintaining our guidance about 14 % - 15% EBITDA  margins \\non a sustainable basis for the next 2 -3 years. Beyond that, of course, we feel that this could \\nimprove.  \\nDevanshi Dhruva : So see , definitely in the last two years as you know once we've acquired it, this business was \\nactually traditionally doing margins of arou nd 11 % - 12%. And in the last two years itself, \\nbecause of the operational efficiencies, economies of scale and all the efforts that we've put in, \\nwe've already improved margins by around 300 b ps and last year it was around 15% . We hope \\nto continue this an d 14% to 15% right now we feel would be sustainable margins at least in the \\nmedium term.  \\nAmit Hiranandani:  Next on the Exotech's  new plant capacity expansion, I just missed the initial comment. Can you \\nplease brief me a little more on this thing because wh at we're expecting is by FY24  end, the plan t \\nshould be ready, but I think it is delayed by one year.  \\nSanjay Thapar:  No, it's not delayed , it's a conscious decision on our  part, because when we guided you on \\nexpansion , we see a very robust demand coming in by cross selling Exotech  products to existing \\nSJS customers. To meet that demand we planned a CAPEX . Now , what we found is a more \\ninnovative frugal way to increase capacity by debottlenecking . Now, when Walter Pack  was \\nacquired, there's a lot of synergy between Walter Pack and Exotech in terms of injection molding, \\nfor example , amongst other things . And o now we are planning a comprehensive plan which \\nwould address the needs of both these plants. So we just deferred th at investment by one year as \\nI said in my commentary and we will now try and grow this. In the short term  we'll be using \\ncapacities of our suppliers and debottlenecking as I said. Our paint shop at Exotech was \\nunderutilized, which we are now using and we  have  also w on businesses so that will increase \\nsales without the need for chrome plating capacity specifically a t Exotech . \\nDevanshi Dhruva:  Basically , we would just want to be more effective and be very frugal with our investment . If \\nthis investment can a ctually help both the businesses, then it would be better to chart out a new \\nplan for us so that both Exot ech and WPI requirements are met . \\nAmit Hiranandani:  Then, sir, you must be having some revised CAPEX guidance, right for Exotech and standalone \\nsepara tely? \\nDevanshi Dhruva:  Yes. So for this year FY24, SJS would be somewhere around 1 0-12 crores and Exotech would \\nbe another 10 -12 crores and Walter Pack for the next nine months would be around 10 crores. \\nSo overall CAPEX for this year would be somewhere  around Rs 34 - 35 crores.  \", \" SJS Enterprises  \\nJuly 27, 2023  \\n \\nModerator:  Our next question is from the line of Joseph George from I IFL. Please go ahead.  \\nJoseph Geor ge: Just one question on the postponement of the Exotech capacity. You mentioned that in the interim \\nyou would be using chrome plating capacity of your suppliers. So when you take that service \\nfrom a third -party, how do we see the margins of Exotech moving  in the coming year or so, \\nbecause if you're  outsourcing the process, it will be negative for margins ? \\nMahendra Naredi:  Yes, Mr. Joseph, we believe that it will not impact our margins. Yes, in an outsourcing model, \\nthe raw material cost  Is going up.  But at the same time, the manufacturing , the admin and \\nemployee cost will not increase to that extent . So overall at EBITDA level we believe that it will \\nnot have any impact , and in fact at the PAT level, we believe that our PAT will go up because we \\nwill not have depreciation.  \\nSanjay Thapar:  And just to add to this, so it is not that we are postponing the CAPEX , we are only doing it more \\nintelligently to make sure that our investments are as frugal as possible to make sure that we \\nextract the maximum ROC from this business.  \\nDevanshi Dhruva:  Moreover, if you will look at a consolidated basis, we will try and maintain our 25% to 27% \\nmargins that we have guided for and that will not get impacted.  \\nAmit Hiranandani:  And the second question was when you say that the CAPEX has been postponed, our  old \\nunderstanding was that last year revenues of Rs.130 crores in Exotech with the new capacity, \\nthe potential for revenues would have been closer to 300 crores or so . So in te rms of the scale of \\ncapacity expansion, are those numbers still holding even though it's postponed by a year or is \\nthe scale of revenues and CAPEX also likely to be change?  \\nSanjay Thapar:  No, nothing . Absolutely , we are on track. We are still holding those  numbers. It's only a smarter \\nway of doing things. And we already have a very, very strong trajectory of customer demand for \\nExotech . So everything goes as per plan and we are very, very bullish on growth at Exotech . \\nModerator:  Our next question is from th e line of Piyush Parag from Nuvama Wealth. Please go ahead.  \\nPiyush Parag : So my questions would be more on the WPI label . If you can just throw some light in terms of \\nthe actual performance of the WPI in the quarter and how is it expected to over the next couple \\nof years , what cash positions of the business will be , more outlook on the revenue and EBITDA  \\nfor this particular company and what is the capacity currently and how is the revenue potential \\nand how do we expect it to grow?  \\nDevanshi Dhruva:  Could you just be a little louder ? \\nPiyush Parag:  My question was more on the WPI performance. How has  it been  during the quarter and how do \\nwe see its revenue and EBITDA  outlook over the next 2 -3 years , and currently, what is the \", \" SJS Enterprises  \\nJuly 27, 2023  \\n \\ncapacity and how do you ex pect this capacity and revenue potential to improve in the medium \\nterm?  \\nMahendra Naredi:  So Walter Pack  India has done  this quarter 356 million  sales turnover with an EBITDA  of 31.5% . \\nWe are always referring that we will maintain our growth rate of 20% to 25% and Walter Pack \\nwill be part of that. On the capacity side , company is currently working on 75%. They have two \\nplants ; one is in Pune and second  is the Manesar . One plant is working on 75 % and another is \\nworking on 65% , so average you can say 70 % to 73% . That was the current capacity as of now \\nfor the current  financial year . \\nSanjay Thapar:  So let me supplement that by giving you an outlook on Walter Pack . It just puts SJS into another \\ntrajectory. The in -mold forming technology that Walter Pack has, they have very strong \\nknowledge on tooling and in fact there are very few companies in the world which has that \\nexpertise. So Walter Pack Spain, which was the parent of Walter Pack India is amongst the global \\nbenchmarks for in -mold f orming and IML technologies . There is a trend of using IME and there \\nis a trend  to use also electronics and inside the ambient lighting of the car . So there are some \\nvery innovative technologies in place and there is a very strong demand from customers. In fact, \\nin this year you will see , I will not name the customers because these p rojects are under \\ndevelopment, but we will see a lot of cars from mega passenger vehicle OEMs in India which \\nwill have these new generation technologies coming in. So while on a n overall consolidated \\nlevel, we have guided that we will grow at about 20 % to 25% organically. And Walter Pack also \\nwill grow at that . This year they'll grow a little faster because they address also a consumer \\ndurable segment. And overall, I would like you to think of us as a n entity that has an end -to-end \\nsolution for all aestheti c parts and Walter Pack is going to actually help us introduce a lot of new \\ntechnologies to the customers in India and overseas. So, I think the growth path is extremely \\npositive for Walter Pack . \\nDevanshi Dhruva:  So for F Y24, as we have guided last time also , overall consol growth including WP I will be \\n50%. So you can interpret the growth with that because organic growth of SJS and Exotech \\ntogether, as Sanjay mentioned will be 20 % to 25%.  \\nModerator:  Our next question is from the line of Mr. Ronak Mehta from JM Financial. Please go ahead with \\nyour question.  \\nRonak Mehta:  So continuing on WPI, wanted to check so what are the opportunity areas for cross selling from \\nthe existing business? I believe some of the PV OEM s for whom SJS was a tier-2 supplier earlier , \\nnow becomes tier -1 post WPI acquisition. So how has been the response from the customers and \\nin terms of awarding new business after the acquisition, if you can throw some color on that?  \\nK.A. Joseph:  One is we have a cross selling opportuni ty between two companies. They also make some dial , \\noverlays, etc. , So that SJS will gain more on all of that business. And also Walter Pack has won \\na lot of new order . We don't want to name the customer here , worth about 30 to 40 crores for \\nFY25. So this year maybe we would get about  Rs 12 to 13 c rores  out of that . And consumer \", \" SJS Enterprises  \\nJuly 27, 2023  \\n \\nbusiness will also grow by almost about 50% for F Y24. And  because of that, the content per \\nvehicle is also increasing, which will impact our overall sales as well for SJS. \\nSanjay Thapar:  Just to supplement what Joe just said. So as I said, large in -mold forming parts are the forte of \\nWalter Pack India . Now Walter Pack does not su pply to any two Wheeler OEMs. So companies \\nlike Bajaj , Royal Enfield , Honda etc we are in the process of telling them what we could do with \\nIML technology that could improve aesthetics, especially for the plastic s forming assemblies of \\nthese  bikes . So both for the EV segment and for the conventional IC engines, I think the IML \\nand IMD technology that we have to offer, IME will piggyback on this , will find a lot of demand \\nwhen the customer sees this. So at the moment we are working on some developme nt projects \\nwhich I think are very exciting technologies. So c ross selling to t wo wheeler  customers and c ross \\nselling to our large consumer appliance customers. So Whirlpools of the world , Samsung s of the \\nworld, they use a lot of large IML parts which requ ire deep forming which at SJS we could not \\ndo, now with Walter Pack t hose markets are within reach for us and we already enjoy a very \\nstrong customer relationship. So I see th e synergy playing out extremely well in terms of how \\ngrowth a t Walter Pack will c ome plus how is the whole entity, all these three companies working \\ntogether could offer some solutions which are truly  innovative . \\nDevanshi Dhruva:  Especially, on the Exotech and on the Walter Pack side, both the places we have added new \\npassenger vehicle  customers. So in fact, there will be a lot of cross selling opportunities between \\nExotech and Walter Pack also because both of them have customers which can be used for cross \\nselling opportunities like Mahindra  is there,  Exotech , we have Maruti and Tata M otors with \\nWalter Pack . So, a lot of cross  - selling opportunities between these two companies will also be \\npossible.  \\nRonak Mehta:  On the recent addition of the new clients, Autoliv and Toyota  Tsusho, so just wanted to clarify , \\nwill this be only for the India business or you will also export to their global plants?  \\nSanjay Thapar : Our strategy always has been that we take customers and we grow them into mega  counts . So \\nour focus as I said earlier is to prove our credentials with these global companies in the Indian \\nmarket and then use the goodwill that we've generated in terms of capability demonstration to \\npenetrate to the global  network. So these are let's say starting steps . With Autoliv , we won a large \\norder of course  for the India market. But then once we deliver these parts to their satisfaction, \\nwe will certainly be having a conversation with them to let's take it to global. So luckily for SJS, \\nwe've grown because customers wanted us to grow. So the guy come to us and  say, why don't \\nyou come and supply to me at this location . So I think we are comp etitive in terms of quality , \\ncost and  deliver y, and that helps us win customer confidence to introduce us in more and more \\nplants globally. So that has been the theme and tha t will be the theme for both these customers \\nas well.  \\nRonak Mehta:  One more housekeeping question to Mah endra. So Mah endra on the consol financials, other \\nexpenses have seen a sharp jump both on YoY and QoQ  basis. So is that only because of the \\noutsourcing  in the Exotech business or if you can throw some  color on that ? \", \" SJS Enterprises  \\nJuly 27, 2023  \\n \\nDevanshi Dhruva:  So other expenses have increased on account of two reasons. One is that there has been a n \\nincrease in subcontracting employees which comes under our other expenses and the o ther \\nreason is there is a one -time expense in terms of a provision made for interest on GST to the \\ntune of Rs 8 million. So that's the two reasons because of which the othe r expenses for this \\nquarter looks a little high.  \\nModerator:  Our next question is from the line of Karn Bhargava from We althB ridge Capital Advisors. Please \\ngo ahead.  \\nKarn Bhargava : I have two questions . I think I misheard the number for the WPI revenue. If you could just clarify \\non that for the quarter ? \\nDevanshi Dhruva:  WPI revenue for this quarter grew 21% YoY to Rs 356 million.  \\nKarn Bhargava:  There's been a lot of talk on the IME side , that's the In-Mold Electronics . And I think last we \\nspoke you had mentioned that the product is still under development. So is there any update on \\nthat and what kind of a market are you looking at in there?  \\nSanjay Thapar : So the applications are quite diverse, so we are looking at the two wheelers , we're looking at \\nfour Wheelers. Since this is a new technology that the OEMs themselves are now trying to \\nevaluate. So we have some prototype build requirements or projects going on with a few \\ncustomers. It will take time . Typically , what it involves is there's a decorat ive layer, and then a \\nfunctional layer which has the electronic parts. LEDs are going to be implanted in the functional \\nlayer and that is going to be molded together , making it, let's say, phase -I of IM E you may. The \\nnext phase  is there is going to be electronic components like IC E also form the part of the \\nfunctional layer which can reduce the size of the underlying PCB or connectivity with the body \\ncontrol modules used in a car. So all that functionality will build in. But since this is a new \\ntechnology, it will take time. So my expectation is that it would be another 2 -3 years before you \\ncould see real life IME part coming in.  The other part is that  Walter Pack has  IME tech nology . \\nWe have a technology support agreement with Walter Pack Spain and Walter Pack Spain will be \\nour technology partner really in terms of advising us how to implement IME in the  listing IML \\nand IMF products that we  have in India.  \\nKarn Bhargava:  Walter Pack , Spain  will be helping you out with the development of the  product as well ? \\nK.A. Joseph:  Absolutely.  \\nModerator:  Our next question is from the line of Sh rinjan a Mitta l from Ratn aTraya Capital. Please go ahead.  \\nShrinjana Mittal:  Sir, two questions from my side. One is on Exotech  sales quarter -on-quarter was also slightly \\ndone. So what could be the reason for that ? \", \" SJS Enterprises  \\nJuly 27, 2023  \\n \\nDevanshi Dhruva:  So generally also if you will see Q2 and Q4 are usually stronger quarters for us due to festive \\nseason and seasonality. Y ou can't compare the Q oQ growth in terms of Q4 and Q1 . \\nSanjay Thapar : Exotech this year grew a little  lower  because the farm equipment demand was soft . So John \\nDeere is a n important customer. They export parts to North America and that demand was  \\nsubdued  plus of course there was some delays in launching of a new product by the sanitaryware \\nsegment , we supply to Geberit . So these two areas impacted a little bit the sales for  this quarter, \\nbut the demand for Q2 remains robust and we hope to achieve our sales  growth  trajectory at \\nExotech which of course is very, very strong demand.  \\nShrinjana Mittal:  Second question is on exports . Like you mentioned, I think around 11 % is the co ntribution. Just \\nwanted to see like what was it last quarter because you mentioned that the exports have grown \\nin this quarter ? \\nMahendra Naredi:  Last quarter our export was 7.9 % which has now gone up to  11%. \\nDevanshi Dhruva:  In fact the entire last year, if you will see because of the geopolitical issues in Europe as well as \\nmacroeconomic issues in North America, exports had been impacted. And overall for the year \\nin fact exports took a dip of almost 32% degrowth, but this year w e are seeing the demand \\ncoming back in Europe as well as we are winning new businesses on our export front . So that's \\nwhy we are seeing the growth coming back and export revenue has almost doubled this quarter \\nas compared to last year same quarter.  \\nShrinja na Mittal:  So like going forward like for the year organically we are guiding for around 20 %, 25% only for \\nexport business . Like what are we targeting on the growth plan?  \\nSanjay Thapar : We don't provide guidance specifically, but as I said earlier in my co mmentary , on QoQ basis, \\nexports has jumped up double , about 90% growth overall , this last quarter versus the quarter a \\nyear before. And moving forward, we feel that this momentum should continue. We expect \\ngrowth to return. So for us, Asia, EMEA  and South America have grown well. North America \\nand Europe still continue to be in the recovery mode. So it's a wait-and-watch  situation there. \\nBut overall we feel that we should come back to the  pre-disruption levels that were there last \\nyear… so we should come back to what we were a year ago.  \\nModerator:  Our next question is from the line of Ridhima Goyal from Acquaintbee  Ventures. Please go \\nahead.  \\nRidhima Goyal : Hi, Sanjay and hi Devanshi. Just one question from my end is what is the consumer durable on \\nthe overall revenue and what is the growth profile in this quarter for consumer durable  segment ? \\nDevanshi Dhruva:  Sorry, can you repeat the second part of  your question ? \\nRidhima Goyal:  What was the growth for this quarter in the consume r durables part?  \", \" SJS Enterprises  \\nJuly 27, 2023  \\n \\nDevanshi Dhruva:  So consumer durables was a little muted growth ; I would say almost about 2% - 3% and overall \\nas a percent of sales, it was somewhere around 15 % - 16% of our  sales.  \\nRidhima Goyal:  I know that you guys don't disclose your order book as such.  \\nDevanshi Dhruva:  Can you be a little louder ? \\nRidhima Goyal:  I know that you guys don't disclose your order book as such, but it would be great if you can \\ngive some  broader clarity like what is the overall order book in terms of val ue and also the \\nexecution time like is it executable in two, three  years or maybe five years ? \\nSanjay Thapar:  So consumer durables is a very important segment for us and we have made further inroads  by \\nthis Walter Pack acquisition where we've added a new co nsumer product line t o our portfolio \\nwhich is the Fa scia Plate that you have for mod ular switches.  So Walter Pack is a large supplier \\nof these  to, Legrand, which is a leader in the business and the demand is not just in India but \\nalso overseas. Also, on one hand, the SJS product portfolio has very bright potential because we \\nare underpenetrated in North America as I mentioned  earlier . So we are mak ing inroads . In South \\nAmerica we've already seen the results. We will add to our feet on the ground in North America \\nand Europe to accelerate that further. Plus, this new technology areas both in terms of the \\nLegrand business for mod ular switch plates , tha t's also consumer business and the IML \\nbusinesses that we could do with the likes of Whirlpool and the other appliance manufacturers . \\nSo that in the long or the medium to long term would be very large growth drivers for our \\nconsumer appliance business. Look at this company as a consolidated entity. That's what I would \\nencourage everybody to see. So our dependence on two wheelers have  come down . Two \\nwheeler s and four wheelers now are largely similar , thanks to the addition of Walter Pack  to our \\nbusiness and the consumer appliance business also will be significantly higher , thanks to a large \\nproportion of Walter Pack revenues going to the consumer businesses. So overall, I think we will \\ngrow at about 20 % - 25% as we  guided earlier in terms of the mi d-term growth guidance that \\nwe have given . \\nDevanshi Dhruva:  Also, if you'll notice, last year we added Mabe group and even I FB on our consumer appliances \\nfront. And those will also grow over a period of time because initially as we said that whenever \\nwe ac quire new customers, we have a smaller chunk of their sales. But going forward, maybe \\nafter a year or two , we'll start getting more business from them as well. So we'll keep on \\nincreasing our global presence as well as customer spread also in consumer appl iances .  \\nRidhima Goyal:  I understand your point, but my question was related to the order book. It would be great if you \\ncan disclose the value … what is your current order book overall ? \\nDevanshi Dhruva:  We do not give order book segment wise or anything. Overall , what we have guided for is 20 % \\nto 25% organic growth and of that almost 90% of our order book is confirmed for FY24  overall \\nSJS plus Exot ech consol business . \", \" SJS Enterprises  \\nJuly 27, 2023  \\n \\nRidhima Goyal:  Including WPI? \\nDevanshi Dhruva:  No, not including WP I, but on th e WP I front also , almost around 90% of the order book is \\nconfirmed for F Y24. \\nRidhima Goyal:  I need to understand was, do we have some common customers between WPI and SJS as a \\nwhole ? \\nSanjay Thapar:  Yes, we do.  But a very small overlap. So WPI supplies to Tata Motors  and we supply to Tata \\nMotors as well. But our content is much smaller. W PI are very large parts contributing almost \\nabout Rs.2,500 to Rs.3,500 content per vehicle . Our current supply from SJS just these dials  that \\nwe supply , and of course the optical plastic s part that we will do , will increase that quite well, \\nplus we do chrome plating , so that is some of it. So the common customers are Tata Motors, \\nMahindra for example, they don't supply too much. We have a large presence in Mahind ra. So \\nthere are lot of cross selling opportunities that exist because we will not cannibalize the business  \\nif that is the question.  \\nModerator:  Our next question is from the line of Rohan Ad vant from Multi Act. Please go ahead.  \\nRohan Advant:  My first question was on the technical support fees that Walter Pack pays to its parents. What \\nwas it earlier and what will it be now, now that we own it? And when you  calculated the pro \\nforma numbers, what h ave you considered there , if you can talk about in terms of say percentage \\nof sales ? \\nMahendra Naredi:  Earlier the technical fees paid by Walter Pack  was in the range of 3 .5% of the sales value. We \\nhave agreed for a fixed amount over a period of time. That was not a percentage of sales, but if \\nI say broadly on the sales, it will be around 1%.  \\nRohan Advant:  When you've done the pro forma calculation, you've considered 1% because that is what  has to \\nbe paid ? \\nMahendra Naredi:  That has been considered, yes.  \\nRoha n Advant:  Secondly, our guidance of 50% revenue growth and 40% profit growth, but Walter Pack is a \\nhigher margin business , so it is margin -accretive. So why would the profit growth be lower than \\nrevenue growth , what am I missing here?  \\nSanjay Thapar : As I mentioned earlier, so we are in a transformation stage. Think of it as the whole entity. So \\nthis guidance for 40% PAT is on the consolidated level of all these three businesses put together \\nfor us. As I said, we are entering many new exciting areas li ke optical plastics , cover glass, which \\nwe will do for the first time. In our last earnings call, I mentioned that we will be accelerating \\nour growth footprint . We are not so worried about EBITDA because we have a very consistent \\ntrack record. So typically  what happens is that when you start a new product or product line \", \" SJS Enterprises  \\nJuly 27, 2023  \\n \\nbefore you offer to a customer, you do a lot of trials internally. So there's a larger consumption \\nof raw materials, manpower, which is not billed to the customer. So that impacts the EBITD A to \\na certain extent in the short term. Also when we launch a product, we are extra careful in terms \\nof quality. So any efficiency improvement that comes in is once that  stabilizes . So our past track \\nrecord if you see SJS standalone we do close to about 3 0% 32% of the EBITDA  over the last \\nfive to six years and we've been steady in maintaining that. So these are new generation products \\nrequiring in the short term , additional materials, additional testing requirement , new manpower \\nbeing hired to create , to handle or to create competency in those areas. So these are the short \\nterm costs that may impact margins in the short term. That is what is behind the 40% guidance \\nthat we've done.  \\nMahendra Naredi:  And just to supplement here, one is the business side. Anot her is when we made the acquisition \\nof Walter Pack, we have taken the loans for that. So there will be interest cost on that plus our \\ninternal accrual or our cash balance has been used to fund this acquisition which was earlier \\ngenerating income and now th is income will be very negligible income in FY24. So all three \\nfacts will make the PAT a t 40% growth over last year.  \\nModerator:  Our next question is from the line of Amit Hiranandani from SMIFS Limited. Please go ahead.  \\nAmit Hiranandani : Just continuing with the WP I side, if you sir can  tell us more about going forward strategy in \\ndomestic and exports ? I understand export is almost zero for WPI. Is there any restriction from \\nWPI Spain that we can't go in certain countries or we can't acquire an y customer s. And on the \\nWPI side, on the revenue target if you can give for FY24 - FY25, please ? \\nSanjay Thapar : So as I said, the WPI is a great acquisition for us. There is a technology support agreement that \\nis available to us. There is a very clear understanding between us and the parent company that \\nwe are allowed to service the existing customers that we have. An d there are some areas that we \\nwere missing out earlier. I mentioned the cases of large IML, IMF parts to W hirlpool  and to \\nSamsung. These are very large companies globally and we don't do any IML part with them . So \\nthat is a great growth opportunity for us  moving forward. We are also, as I mentioned earlier, the \\nIME technology that we will ri de on that is something that we will do. So primarily , growth, I \\nthink we are very, very clear that there is going to be huge length of growth for the Walter P ack \\nbusin ess going forward. Wa lter Pack is not existent in many of the customers that SJS already \\nhas a strong relationship with. So this just adds some additional  opportunity for Wa lter Pack \\ntechnology to be used for these customers. So cross selling , exports and penetrating the Indian \\nmarket faster with new technology products like IME. So those are the growth vectors for Walter \\nPack.  \\nDevanshi Dhruva:  Overall, as a company for S JS and Exotech put together organic ally, we have mentioned that it \\nwill be growing at a  CAGR of 20 % to 25% and inorganic acquisitions will add to this growth \\nabove this 20 % to 25%. However, we won't be able to give any guidance in terms of Walter Pack \\ncurrently because the acquisition has just got completed. And we will work out the details on \", \" SJS Enterprises  \\nJuly 27, 2023  \\n \\nour strategy at least for the next three to five years and probably then we'll be able to  take your \\nquestion and give details later.  \\nAmit Hiranandani:  I'll just rephrase it. So at the optimum utilization capacity of WPI, how much revenue we can \\ngenerate?  \\nDevanshi Dhruva:  Currently , we are at a capacity utilization of 60 % to 70% and we can generate revenue close to \\nRs.200 crores.  \\nAmit Hiranandani:  Rs.200 crores you are saying at full utilization?  \\nDevanshi Dhruva:  Yes. \\nAmit Hiranandani:  One last qu estion from my side on the standalone side , so SJS I understand is trying to acquire \\nsome strategic customers which will of course benefit in the mid to long term. Can you please \\ntell us these customers are from domestic or international markets ? And secon dly, are we going \\nto see some impact on the margins due to the strategic step and sustainability of the margin if \\nyou can tell us on the annual basis for S JS stand alone please ? \\nSanjay Thapar : So these customers are both domestic and export customers and it is for the existing customers \\nit is new technologies. So I talked of optical plastic , optical glass where we are adding to our \\nmanagement bandwidth in terms of having some subject matter expert s who will support this  \\nprogram . We will of course have costs associated with that. So that is what is going to impact . \\nBut what customers that we are talking about are existing customers because our universe of \\ncustomers is very large. But we are opening new doors in terms of new technologies with them, \\nwhich is increasing the addressable market very, very quickly.  \\nAmit Hiranandani:  Just one request , from Q2 FY24, we are going to incorporate WPI in the consolidated numbers. \\nSo it's a request if the team ca n provide WP I's financials separately, please ? \\nModerator:  Our next question is from the line of Vishal Khurana, who's an investor. Please go ahead.  \\nVishal Khurana : My first question is, so we are almost  providing the aesthetics to almost every two wheeler OEM, \\nexcept for Hero . So what is really stopping us to onboard Hero with S JS? And who is the current \\nsupplier to Hero in aesthetics ? \\nSanjay Thapar : So Hero is a company that we've been pursuing. They li ke us, they visited and audited us . The \\nball is not in my court, it is in Hero 's court. So they have to take a call as to when to start buying \\nfrom us . They know  SJS very well, they understand that we have a strong capability. So just \\nwait-and-watch . So it  should happen sooner than later, that's  our hope . \\nDevanshi Dhruva:  Their current supplier is Classic Stripes . \", \" SJS Enterprises  \\nJuly 27, 2023  \\n \\nVishal Khurana:  Second question is in the previous quarter investor presentation, we had mentioned that we had \\nonboarded Foxconn, who will be making electric vehicles in India and we'll be supplying \\naesthetics to them. So may I know when they are going to put up that facil ity for this contract \\nmanufacturing of EVs  that they'll do ? \\nSanjay Thapar : No, no, Foxconn  is not going to make EV , Foxconn  is going to supply parts to EV. And we \\nannounced last quarter that we had won a business from Foxconn, which was in the area of the \\ndisplay screen of the EV . So they supplied to a company. I will not name it because the product \\nis still u nder development, but it should start production in Q2.  \\nVishal Khurana:  We also discussed about that we'll be entering into television and medical dev ices aesthetic \\nsegment. Is that correct?  \\nSanjay Thapar : We w on a business for some decorative deca ls for the television industry , so that we've done . \\nMedical devices , of course, the possibilit y is in terms of displays and in terms of overlays and \\nmaybe IML parts . So that is the market that we are mining. So we are in touch with customers \\nand we hope to grow that business as well.  \\nVishal Khurana:  How big can this TV opportunity be since we are manu facturing a lot of television and other \\nelectronic items in India now ? \\nSanjay Thapar : It is wait-and-watch . Our specialty is make long lasting durable aesthetic parts. So the \\nopportunity in other areas is larger. So television, while that's an opportunity , we have still not \\nsized to be honest, to say how large it could be. So at the moment , we just entered this last \\nquarter. So we will examine as we have discussions with the customers to see what more is  \\npossible . \\nModerator:  Ladies and gentlemen, that was t he last question of our question -and-answer session. I would \\nnow like to hand the conference over to the management for closing comments.  \\nDevanshi Dhruva:  Thank you everyone for joining us on this call. If any of the questions were left unanswered, \\nplease feel free to reach out to us and we'll answer it to the best of our abilities. Thank you.  \\nModerator:  On behalf of JM Financial, that concludes this conference. Thank you for joining us and you \\nmay now disconnect your lines.  \"]\n"
          ]
        }
      ]
    },
    {
      "cell_type": "code",
      "source": [
        "!pip install --upgrade llama-index\n",
        "!pip install llama-index-readers-file\n",
        "from llama_index.core.schema import Document\n",
        "\n",
        "\n",
        "documents = [Document(text=doc) for doc in documents]\n",
        "\n",
        "from llama_index.core import VectorStoreIndex\n",
        "\n",
        "index = VectorStoreIndex.from_documents(documents, settings=Settings)"
      ],
      "metadata": {
        "id": "TfOAGE8koSkk",
        "colab": {
          "base_uri": "https://localhost:8080/"
        },
        "outputId": "8a3d910e-03ff-47cf-88f9-39e3e7220c02",
        "collapsed": true
      },
      "execution_count": null,
      "outputs": [
        {
          "output_type": "stream",
          "name": "stdout",
          "text": [
            "Requirement already satisfied: llama-index in /usr/local/lib/python3.10/dist-packages (0.11.23)\n",
            "Requirement already satisfied: llama-index-agent-openai<0.4.0,>=0.3.4 in /usr/local/lib/python3.10/dist-packages (from llama-index) (0.3.4)\n",
            "Requirement already satisfied: llama-index-cli<0.4.0,>=0.3.1 in /usr/local/lib/python3.10/dist-packages (from llama-index) (0.3.1)\n",
            "Requirement already satisfied: llama-index-core<0.12.0,>=0.11.23 in /usr/local/lib/python3.10/dist-packages (from llama-index) (0.11.23)\n",
            "Requirement already satisfied: llama-index-embeddings-openai<0.3.0,>=0.2.4 in /usr/local/lib/python3.10/dist-packages (from llama-index) (0.2.5)\n",
            "Requirement already satisfied: llama-index-indices-managed-llama-cloud>=0.3.0 in /usr/local/lib/python3.10/dist-packages (from llama-index) (0.5.0)\n",
            "Requirement already satisfied: llama-index-legacy<0.10.0,>=0.9.48 in /usr/local/lib/python3.10/dist-packages (from llama-index) (0.9.48.post4)\n",
            "Requirement already satisfied: llama-index-llms-openai<0.3.0,>=0.2.10 in /usr/local/lib/python3.10/dist-packages (from llama-index) (0.2.16)\n",
            "Requirement already satisfied: llama-index-multi-modal-llms-openai<0.3.0,>=0.2.0 in /usr/local/lib/python3.10/dist-packages (from llama-index) (0.2.3)\n",
            "Requirement already satisfied: llama-index-program-openai<0.3.0,>=0.2.0 in /usr/local/lib/python3.10/dist-packages (from llama-index) (0.2.0)\n",
            "Requirement already satisfied: llama-index-question-gen-openai<0.3.0,>=0.2.0 in /usr/local/lib/python3.10/dist-packages (from llama-index) (0.2.0)\n",
            "Requirement already satisfied: llama-index-readers-file<0.4.0,>=0.3.0 in /usr/local/lib/python3.10/dist-packages (from llama-index) (0.3.0)\n",
            "Requirement already satisfied: llama-index-readers-llama-parse>=0.3.0 in /usr/local/lib/python3.10/dist-packages (from llama-index) (0.3.0)\n",
            "Requirement already satisfied: nltk>3.8.1 in /usr/local/lib/python3.10/dist-packages (from llama-index) (3.9.1)\n",
            "Requirement already satisfied: openai>=1.14.0 in /usr/local/lib/python3.10/dist-packages (from llama-index-agent-openai<0.4.0,>=0.3.4->llama-index) (1.54.4)\n",
            "Requirement already satisfied: PyYAML>=6.0.1 in /usr/local/lib/python3.10/dist-packages (from llama-index-core<0.12.0,>=0.11.23->llama-index) (6.0.2)\n",
            "Requirement already satisfied: SQLAlchemy>=1.4.49 in /usr/local/lib/python3.10/dist-packages (from SQLAlchemy[asyncio]>=1.4.49->llama-index-core<0.12.0,>=0.11.23->llama-index) (2.0.35)\n",
            "Requirement already satisfied: aiohttp<4.0.0,>=3.8.6 in /usr/local/lib/python3.10/dist-packages (from llama-index-core<0.12.0,>=0.11.23->llama-index) (3.10.10)\n",
            "Requirement already satisfied: dataclasses-json in /usr/local/lib/python3.10/dist-packages (from llama-index-core<0.12.0,>=0.11.23->llama-index) (0.6.7)\n",
            "Requirement already satisfied: deprecated>=1.2.9.3 in /usr/local/lib/python3.10/dist-packages (from llama-index-core<0.12.0,>=0.11.23->llama-index) (1.2.14)\n",
            "Requirement already satisfied: dirtyjson<2.0.0,>=1.0.8 in /usr/local/lib/python3.10/dist-packages (from llama-index-core<0.12.0,>=0.11.23->llama-index) (1.0.8)\n",
            "Requirement already satisfied: filetype<2.0.0,>=1.2.0 in /usr/local/lib/python3.10/dist-packages (from llama-index-core<0.12.0,>=0.11.23->llama-index) (1.2.0)\n",
            "Requirement already satisfied: fsspec>=2023.5.0 in /usr/local/lib/python3.10/dist-packages (from llama-index-core<0.12.0,>=0.11.23->llama-index) (2024.10.0)\n",
            "Requirement already satisfied: httpx in /usr/local/lib/python3.10/dist-packages (from llama-index-core<0.12.0,>=0.11.23->llama-index) (0.27.2)\n",
            "Requirement already satisfied: nest-asyncio<2.0.0,>=1.5.8 in /usr/local/lib/python3.10/dist-packages (from llama-index-core<0.12.0,>=0.11.23->llama-index) (1.6.0)\n",
            "Requirement already satisfied: networkx>=3.0 in /usr/local/lib/python3.10/dist-packages (from llama-index-core<0.12.0,>=0.11.23->llama-index) (3.4.2)\n",
            "Requirement already satisfied: numpy<2.0.0 in /usr/local/lib/python3.10/dist-packages (from llama-index-core<0.12.0,>=0.11.23->llama-index) (1.26.4)\n",
            "Requirement already satisfied: pillow>=9.0.0 in /usr/local/lib/python3.10/dist-packages (from llama-index-core<0.12.0,>=0.11.23->llama-index) (11.0.0)\n",
            "Requirement already satisfied: pydantic<3.0.0,>=2.7.0 in /usr/local/lib/python3.10/dist-packages (from llama-index-core<0.12.0,>=0.11.23->llama-index) (2.9.2)\n",
            "Requirement already satisfied: requests>=2.31.0 in /usr/local/lib/python3.10/dist-packages (from llama-index-core<0.12.0,>=0.11.23->llama-index) (2.32.3)\n",
            "Requirement already satisfied: tenacity!=8.4.0,<9.0.0,>=8.2.0 in /usr/local/lib/python3.10/dist-packages (from llama-index-core<0.12.0,>=0.11.23->llama-index) (8.5.0)\n",
            "Requirement already satisfied: tiktoken>=0.3.3 in /usr/local/lib/python3.10/dist-packages (from llama-index-core<0.12.0,>=0.11.23->llama-index) (0.8.0)\n",
            "Requirement already satisfied: tqdm<5.0.0,>=4.66.1 in /usr/local/lib/python3.10/dist-packages (from llama-index-core<0.12.0,>=0.11.23->llama-index) (4.66.6)\n",
            "Requirement already satisfied: typing-extensions>=4.5.0 in /usr/local/lib/python3.10/dist-packages (from llama-index-core<0.12.0,>=0.11.23->llama-index) (4.12.2)\n",
            "Requirement already satisfied: typing-inspect>=0.8.0 in /usr/local/lib/python3.10/dist-packages (from llama-index-core<0.12.0,>=0.11.23->llama-index) (0.9.0)\n",
            "Requirement already satisfied: wrapt in /usr/local/lib/python3.10/dist-packages (from llama-index-core<0.12.0,>=0.11.23->llama-index) (1.16.0)\n",
            "Requirement already satisfied: llama-cloud>=0.1.5 in /usr/local/lib/python3.10/dist-packages (from llama-index-indices-managed-llama-cloud>=0.3.0->llama-index) (0.1.5)\n",
            "Requirement already satisfied: pandas in /usr/local/lib/python3.10/dist-packages (from llama-index-legacy<0.10.0,>=0.9.48->llama-index) (2.2.2)\n",
            "Requirement already satisfied: beautifulsoup4<5.0.0,>=4.12.3 in /usr/local/lib/python3.10/dist-packages (from llama-index-readers-file<0.4.0,>=0.3.0->llama-index) (4.12.3)\n",
            "Requirement already satisfied: pypdf<6.0.0,>=5.1.0 in /usr/local/lib/python3.10/dist-packages (from llama-index-readers-file<0.4.0,>=0.3.0->llama-index) (5.1.0)\n",
            "Requirement already satisfied: striprtf<0.0.27,>=0.0.26 in /usr/local/lib/python3.10/dist-packages (from llama-index-readers-file<0.4.0,>=0.3.0->llama-index) (0.0.26)\n",
            "Requirement already satisfied: llama-parse>=0.5.0 in /usr/local/lib/python3.10/dist-packages (from llama-index-readers-llama-parse>=0.3.0->llama-index) (0.5.14)\n",
            "Requirement already satisfied: click in /usr/local/lib/python3.10/dist-packages (from nltk>3.8.1->llama-index) (8.1.7)\n",
            "Requirement already satisfied: joblib in /usr/local/lib/python3.10/dist-packages (from nltk>3.8.1->llama-index) (1.4.2)\n",
            "Requirement already satisfied: regex>=2021.8.3 in /usr/local/lib/python3.10/dist-packages (from nltk>3.8.1->llama-index) (2024.9.11)\n",
            "Requirement already satisfied: aiohappyeyeballs>=2.3.0 in /usr/local/lib/python3.10/dist-packages (from aiohttp<4.0.0,>=3.8.6->llama-index-core<0.12.0,>=0.11.23->llama-index) (2.4.3)\n",
            "Requirement already satisfied: aiosignal>=1.1.2 in /usr/local/lib/python3.10/dist-packages (from aiohttp<4.0.0,>=3.8.6->llama-index-core<0.12.0,>=0.11.23->llama-index) (1.3.1)\n",
            "Requirement already satisfied: attrs>=17.3.0 in /usr/local/lib/python3.10/dist-packages (from aiohttp<4.0.0,>=3.8.6->llama-index-core<0.12.0,>=0.11.23->llama-index) (24.2.0)\n",
            "Requirement already satisfied: frozenlist>=1.1.1 in /usr/local/lib/python3.10/dist-packages (from aiohttp<4.0.0,>=3.8.6->llama-index-core<0.12.0,>=0.11.23->llama-index) (1.5.0)\n",
            "Requirement already satisfied: multidict<7.0,>=4.5 in /usr/local/lib/python3.10/dist-packages (from aiohttp<4.0.0,>=3.8.6->llama-index-core<0.12.0,>=0.11.23->llama-index) (6.1.0)\n",
            "Requirement already satisfied: yarl<2.0,>=1.12.0 in /usr/local/lib/python3.10/dist-packages (from aiohttp<4.0.0,>=3.8.6->llama-index-core<0.12.0,>=0.11.23->llama-index) (1.17.1)\n",
            "Requirement already satisfied: async-timeout<5.0,>=4.0 in /usr/local/lib/python3.10/dist-packages (from aiohttp<4.0.0,>=3.8.6->llama-index-core<0.12.0,>=0.11.23->llama-index) (4.0.3)\n",
            "Requirement already satisfied: soupsieve>1.2 in /usr/local/lib/python3.10/dist-packages (from beautifulsoup4<5.0.0,>=4.12.3->llama-index-readers-file<0.4.0,>=0.3.0->llama-index) (2.6)\n",
            "Requirement already satisfied: anyio in /usr/local/lib/python3.10/dist-packages (from httpx->llama-index-core<0.12.0,>=0.11.23->llama-index) (3.7.1)\n",
            "Requirement already satisfied: certifi in /usr/local/lib/python3.10/dist-packages (from httpx->llama-index-core<0.12.0,>=0.11.23->llama-index) (2024.8.30)\n",
            "Requirement already satisfied: httpcore==1.* in /usr/local/lib/python3.10/dist-packages (from httpx->llama-index-core<0.12.0,>=0.11.23->llama-index) (1.0.6)\n",
            "Requirement already satisfied: idna in /usr/local/lib/python3.10/dist-packages (from httpx->llama-index-core<0.12.0,>=0.11.23->llama-index) (3.10)\n",
            "Requirement already satisfied: sniffio in /usr/local/lib/python3.10/dist-packages (from httpx->llama-index-core<0.12.0,>=0.11.23->llama-index) (1.3.1)\n",
            "Requirement already satisfied: h11<0.15,>=0.13 in /usr/local/lib/python3.10/dist-packages (from httpcore==1.*->httpx->llama-index-core<0.12.0,>=0.11.23->llama-index) (0.14.0)\n",
            "Requirement already satisfied: distro<2,>=1.7.0 in /usr/local/lib/python3.10/dist-packages (from openai>=1.14.0->llama-index-agent-openai<0.4.0,>=0.3.4->llama-index) (1.9.0)\n",
            "Requirement already satisfied: jiter<1,>=0.4.0 in /usr/local/lib/python3.10/dist-packages (from openai>=1.14.0->llama-index-agent-openai<0.4.0,>=0.3.4->llama-index) (0.7.1)\n",
            "Requirement already satisfied: annotated-types>=0.6.0 in /usr/local/lib/python3.10/dist-packages (from pydantic<3.0.0,>=2.7.0->llama-index-core<0.12.0,>=0.11.23->llama-index) (0.7.0)\n",
            "Requirement already satisfied: pydantic-core==2.23.4 in /usr/local/lib/python3.10/dist-packages (from pydantic<3.0.0,>=2.7.0->llama-index-core<0.12.0,>=0.11.23->llama-index) (2.23.4)\n",
            "Requirement already satisfied: charset-normalizer<4,>=2 in /usr/local/lib/python3.10/dist-packages (from requests>=2.31.0->llama-index-core<0.12.0,>=0.11.23->llama-index) (3.4.0)\n",
            "Requirement already satisfied: urllib3<3,>=1.21.1 in /usr/local/lib/python3.10/dist-packages (from requests>=2.31.0->llama-index-core<0.12.0,>=0.11.23->llama-index) (2.2.3)\n",
            "Requirement already satisfied: greenlet!=0.4.17 in /usr/local/lib/python3.10/dist-packages (from SQLAlchemy>=1.4.49->SQLAlchemy[asyncio]>=1.4.49->llama-index-core<0.12.0,>=0.11.23->llama-index) (3.1.1)\n",
            "Requirement already satisfied: mypy-extensions>=0.3.0 in /usr/local/lib/python3.10/dist-packages (from typing-inspect>=0.8.0->llama-index-core<0.12.0,>=0.11.23->llama-index) (1.0.0)\n",
            "Requirement already satisfied: marshmallow<4.0.0,>=3.18.0 in /usr/local/lib/python3.10/dist-packages (from dataclasses-json->llama-index-core<0.12.0,>=0.11.23->llama-index) (3.23.1)\n",
            "Requirement already satisfied: python-dateutil>=2.8.2 in /usr/local/lib/python3.10/dist-packages (from pandas->llama-index-legacy<0.10.0,>=0.9.48->llama-index) (2.8.2)\n",
            "Requirement already satisfied: pytz>=2020.1 in /usr/local/lib/python3.10/dist-packages (from pandas->llama-index-legacy<0.10.0,>=0.9.48->llama-index) (2024.2)\n",
            "Requirement already satisfied: tzdata>=2022.7 in /usr/local/lib/python3.10/dist-packages (from pandas->llama-index-legacy<0.10.0,>=0.9.48->llama-index) (2024.2)\n",
            "Requirement already satisfied: exceptiongroup in /usr/local/lib/python3.10/dist-packages (from anyio->httpx->llama-index-core<0.12.0,>=0.11.23->llama-index) (1.2.2)\n",
            "Requirement already satisfied: packaging>=17.0 in /usr/local/lib/python3.10/dist-packages (from marshmallow<4.0.0,>=3.18.0->dataclasses-json->llama-index-core<0.12.0,>=0.11.23->llama-index) (24.2)\n",
            "Requirement already satisfied: six>=1.5 in /usr/local/lib/python3.10/dist-packages (from python-dateutil>=2.8.2->pandas->llama-index-legacy<0.10.0,>=0.9.48->llama-index) (1.16.0)\n",
            "Requirement already satisfied: propcache>=0.2.0 in /usr/local/lib/python3.10/dist-packages (from yarl<2.0,>=1.12.0->aiohttp<4.0.0,>=3.8.6->llama-index-core<0.12.0,>=0.11.23->llama-index) (0.2.0)\n",
            "Requirement already satisfied: llama-index-readers-file in /usr/local/lib/python3.10/dist-packages (0.3.0)\n",
            "Requirement already satisfied: beautifulsoup4<5.0.0,>=4.12.3 in /usr/local/lib/python3.10/dist-packages (from llama-index-readers-file) (4.12.3)\n",
            "Requirement already satisfied: llama-index-core<0.12.0,>=0.11.0 in /usr/local/lib/python3.10/dist-packages (from llama-index-readers-file) (0.11.23)\n",
            "Requirement already satisfied: pandas in /usr/local/lib/python3.10/dist-packages (from llama-index-readers-file) (2.2.2)\n",
            "Requirement already satisfied: pypdf<6.0.0,>=5.1.0 in /usr/local/lib/python3.10/dist-packages (from llama-index-readers-file) (5.1.0)\n",
            "Requirement already satisfied: striprtf<0.0.27,>=0.0.26 in /usr/local/lib/python3.10/dist-packages (from llama-index-readers-file) (0.0.26)\n",
            "Requirement already satisfied: soupsieve>1.2 in /usr/local/lib/python3.10/dist-packages (from beautifulsoup4<5.0.0,>=4.12.3->llama-index-readers-file) (2.6)\n",
            "Requirement already satisfied: PyYAML>=6.0.1 in /usr/local/lib/python3.10/dist-packages (from llama-index-core<0.12.0,>=0.11.0->llama-index-readers-file) (6.0.2)\n",
            "Requirement already satisfied: SQLAlchemy>=1.4.49 in /usr/local/lib/python3.10/dist-packages (from SQLAlchemy[asyncio]>=1.4.49->llama-index-core<0.12.0,>=0.11.0->llama-index-readers-file) (2.0.35)\n",
            "Requirement already satisfied: aiohttp<4.0.0,>=3.8.6 in /usr/local/lib/python3.10/dist-packages (from llama-index-core<0.12.0,>=0.11.0->llama-index-readers-file) (3.10.10)\n",
            "Requirement already satisfied: dataclasses-json in /usr/local/lib/python3.10/dist-packages (from llama-index-core<0.12.0,>=0.11.0->llama-index-readers-file) (0.6.7)\n",
            "Requirement already satisfied: deprecated>=1.2.9.3 in /usr/local/lib/python3.10/dist-packages (from llama-index-core<0.12.0,>=0.11.0->llama-index-readers-file) (1.2.14)\n",
            "Requirement already satisfied: dirtyjson<2.0.0,>=1.0.8 in /usr/local/lib/python3.10/dist-packages (from llama-index-core<0.12.0,>=0.11.0->llama-index-readers-file) (1.0.8)\n",
            "Requirement already satisfied: filetype<2.0.0,>=1.2.0 in /usr/local/lib/python3.10/dist-packages (from llama-index-core<0.12.0,>=0.11.0->llama-index-readers-file) (1.2.0)\n",
            "Requirement already satisfied: fsspec>=2023.5.0 in /usr/local/lib/python3.10/dist-packages (from llama-index-core<0.12.0,>=0.11.0->llama-index-readers-file) (2024.10.0)\n",
            "Requirement already satisfied: httpx in /usr/local/lib/python3.10/dist-packages (from llama-index-core<0.12.0,>=0.11.0->llama-index-readers-file) (0.27.2)\n",
            "Requirement already satisfied: nest-asyncio<2.0.0,>=1.5.8 in /usr/local/lib/python3.10/dist-packages (from llama-index-core<0.12.0,>=0.11.0->llama-index-readers-file) (1.6.0)\n",
            "Requirement already satisfied: networkx>=3.0 in /usr/local/lib/python3.10/dist-packages (from llama-index-core<0.12.0,>=0.11.0->llama-index-readers-file) (3.4.2)\n",
            "Requirement already satisfied: nltk>3.8.1 in /usr/local/lib/python3.10/dist-packages (from llama-index-core<0.12.0,>=0.11.0->llama-index-readers-file) (3.9.1)\n",
            "Requirement already satisfied: numpy<2.0.0 in /usr/local/lib/python3.10/dist-packages (from llama-index-core<0.12.0,>=0.11.0->llama-index-readers-file) (1.26.4)\n",
            "Requirement already satisfied: pillow>=9.0.0 in /usr/local/lib/python3.10/dist-packages (from llama-index-core<0.12.0,>=0.11.0->llama-index-readers-file) (11.0.0)\n",
            "Requirement already satisfied: pydantic<3.0.0,>=2.7.0 in /usr/local/lib/python3.10/dist-packages (from llama-index-core<0.12.0,>=0.11.0->llama-index-readers-file) (2.9.2)\n",
            "Requirement already satisfied: requests>=2.31.0 in /usr/local/lib/python3.10/dist-packages (from llama-index-core<0.12.0,>=0.11.0->llama-index-readers-file) (2.32.3)\n",
            "Requirement already satisfied: tenacity!=8.4.0,<9.0.0,>=8.2.0 in /usr/local/lib/python3.10/dist-packages (from llama-index-core<0.12.0,>=0.11.0->llama-index-readers-file) (8.5.0)\n",
            "Requirement already satisfied: tiktoken>=0.3.3 in /usr/local/lib/python3.10/dist-packages (from llama-index-core<0.12.0,>=0.11.0->llama-index-readers-file) (0.8.0)\n",
            "Requirement already satisfied: tqdm<5.0.0,>=4.66.1 in /usr/local/lib/python3.10/dist-packages (from llama-index-core<0.12.0,>=0.11.0->llama-index-readers-file) (4.66.6)\n",
            "Requirement already satisfied: typing-extensions>=4.5.0 in /usr/local/lib/python3.10/dist-packages (from llama-index-core<0.12.0,>=0.11.0->llama-index-readers-file) (4.12.2)\n",
            "Requirement already satisfied: typing-inspect>=0.8.0 in /usr/local/lib/python3.10/dist-packages (from llama-index-core<0.12.0,>=0.11.0->llama-index-readers-file) (0.9.0)\n",
            "Requirement already satisfied: wrapt in /usr/local/lib/python3.10/dist-packages (from llama-index-core<0.12.0,>=0.11.0->llama-index-readers-file) (1.16.0)\n",
            "Requirement already satisfied: python-dateutil>=2.8.2 in /usr/local/lib/python3.10/dist-packages (from pandas->llama-index-readers-file) (2.8.2)\n",
            "Requirement already satisfied: pytz>=2020.1 in /usr/local/lib/python3.10/dist-packages (from pandas->llama-index-readers-file) (2024.2)\n",
            "Requirement already satisfied: tzdata>=2022.7 in /usr/local/lib/python3.10/dist-packages (from pandas->llama-index-readers-file) (2024.2)\n",
            "Requirement already satisfied: aiohappyeyeballs>=2.3.0 in /usr/local/lib/python3.10/dist-packages (from aiohttp<4.0.0,>=3.8.6->llama-index-core<0.12.0,>=0.11.0->llama-index-readers-file) (2.4.3)\n",
            "Requirement already satisfied: aiosignal>=1.1.2 in /usr/local/lib/python3.10/dist-packages (from aiohttp<4.0.0,>=3.8.6->llama-index-core<0.12.0,>=0.11.0->llama-index-readers-file) (1.3.1)\n",
            "Requirement already satisfied: attrs>=17.3.0 in /usr/local/lib/python3.10/dist-packages (from aiohttp<4.0.0,>=3.8.6->llama-index-core<0.12.0,>=0.11.0->llama-index-readers-file) (24.2.0)\n",
            "Requirement already satisfied: frozenlist>=1.1.1 in /usr/local/lib/python3.10/dist-packages (from aiohttp<4.0.0,>=3.8.6->llama-index-core<0.12.0,>=0.11.0->llama-index-readers-file) (1.5.0)\n",
            "Requirement already satisfied: multidict<7.0,>=4.5 in /usr/local/lib/python3.10/dist-packages (from aiohttp<4.0.0,>=3.8.6->llama-index-core<0.12.0,>=0.11.0->llama-index-readers-file) (6.1.0)\n",
            "Requirement already satisfied: yarl<2.0,>=1.12.0 in /usr/local/lib/python3.10/dist-packages (from aiohttp<4.0.0,>=3.8.6->llama-index-core<0.12.0,>=0.11.0->llama-index-readers-file) (1.17.1)\n",
            "Requirement already satisfied: async-timeout<5.0,>=4.0 in /usr/local/lib/python3.10/dist-packages (from aiohttp<4.0.0,>=3.8.6->llama-index-core<0.12.0,>=0.11.0->llama-index-readers-file) (4.0.3)\n",
            "Requirement already satisfied: click in /usr/local/lib/python3.10/dist-packages (from nltk>3.8.1->llama-index-core<0.12.0,>=0.11.0->llama-index-readers-file) (8.1.7)\n",
            "Requirement already satisfied: joblib in /usr/local/lib/python3.10/dist-packages (from nltk>3.8.1->llama-index-core<0.12.0,>=0.11.0->llama-index-readers-file) (1.4.2)\n",
            "Requirement already satisfied: regex>=2021.8.3 in /usr/local/lib/python3.10/dist-packages (from nltk>3.8.1->llama-index-core<0.12.0,>=0.11.0->llama-index-readers-file) (2024.9.11)\n",
            "Requirement already satisfied: annotated-types>=0.6.0 in /usr/local/lib/python3.10/dist-packages (from pydantic<3.0.0,>=2.7.0->llama-index-core<0.12.0,>=0.11.0->llama-index-readers-file) (0.7.0)\n",
            "Requirement already satisfied: pydantic-core==2.23.4 in /usr/local/lib/python3.10/dist-packages (from pydantic<3.0.0,>=2.7.0->llama-index-core<0.12.0,>=0.11.0->llama-index-readers-file) (2.23.4)\n",
            "Requirement already satisfied: six>=1.5 in /usr/local/lib/python3.10/dist-packages (from python-dateutil>=2.8.2->pandas->llama-index-readers-file) (1.16.0)\n",
            "Requirement already satisfied: charset-normalizer<4,>=2 in /usr/local/lib/python3.10/dist-packages (from requests>=2.31.0->llama-index-core<0.12.0,>=0.11.0->llama-index-readers-file) (3.4.0)\n",
            "Requirement already satisfied: idna<4,>=2.5 in /usr/local/lib/python3.10/dist-packages (from requests>=2.31.0->llama-index-core<0.12.0,>=0.11.0->llama-index-readers-file) (3.10)\n",
            "Requirement already satisfied: urllib3<3,>=1.21.1 in /usr/local/lib/python3.10/dist-packages (from requests>=2.31.0->llama-index-core<0.12.0,>=0.11.0->llama-index-readers-file) (2.2.3)\n",
            "Requirement already satisfied: certifi>=2017.4.17 in /usr/local/lib/python3.10/dist-packages (from requests>=2.31.0->llama-index-core<0.12.0,>=0.11.0->llama-index-readers-file) (2024.8.30)\n",
            "Requirement already satisfied: greenlet!=0.4.17 in /usr/local/lib/python3.10/dist-packages (from SQLAlchemy>=1.4.49->SQLAlchemy[asyncio]>=1.4.49->llama-index-core<0.12.0,>=0.11.0->llama-index-readers-file) (3.1.1)\n",
            "Requirement already satisfied: mypy-extensions>=0.3.0 in /usr/local/lib/python3.10/dist-packages (from typing-inspect>=0.8.0->llama-index-core<0.12.0,>=0.11.0->llama-index-readers-file) (1.0.0)\n",
            "Requirement already satisfied: marshmallow<4.0.0,>=3.18.0 in /usr/local/lib/python3.10/dist-packages (from dataclasses-json->llama-index-core<0.12.0,>=0.11.0->llama-index-readers-file) (3.23.1)\n",
            "Requirement already satisfied: anyio in /usr/local/lib/python3.10/dist-packages (from httpx->llama-index-core<0.12.0,>=0.11.0->llama-index-readers-file) (3.7.1)\n",
            "Requirement already satisfied: httpcore==1.* in /usr/local/lib/python3.10/dist-packages (from httpx->llama-index-core<0.12.0,>=0.11.0->llama-index-readers-file) (1.0.6)\n",
            "Requirement already satisfied: sniffio in /usr/local/lib/python3.10/dist-packages (from httpx->llama-index-core<0.12.0,>=0.11.0->llama-index-readers-file) (1.3.1)\n",
            "Requirement already satisfied: h11<0.15,>=0.13 in /usr/local/lib/python3.10/dist-packages (from httpcore==1.*->httpx->llama-index-core<0.12.0,>=0.11.0->llama-index-readers-file) (0.14.0)\n",
            "Requirement already satisfied: packaging>=17.0 in /usr/local/lib/python3.10/dist-packages (from marshmallow<4.0.0,>=3.18.0->dataclasses-json->llama-index-core<0.12.0,>=0.11.0->llama-index-readers-file) (24.2)\n",
            "Requirement already satisfied: propcache>=0.2.0 in /usr/local/lib/python3.10/dist-packages (from yarl<2.0,>=1.12.0->aiohttp<4.0.0,>=3.8.6->llama-index-core<0.12.0,>=0.11.0->llama-index-readers-file) (0.2.0)\n",
            "Requirement already satisfied: exceptiongroup in /usr/local/lib/python3.10/dist-packages (from anyio->httpx->llama-index-core<0.12.0,>=0.11.0->llama-index-readers-file) (1.2.2)\n"
          ]
        }
      ]
    },
    {
      "cell_type": "code",
      "source": [
        "index"
      ],
      "metadata": {
        "id": "LTArUvijoVGU",
        "colab": {
          "base_uri": "https://localhost:8080/"
        },
        "outputId": "a3c6a417-008f-4fda-d4e3-3b6dab939950"
      },
      "execution_count": null,
      "outputs": [
        {
          "output_type": "execute_result",
          "data": {
            "text/plain": [
              "<llama_index.core.indices.vector_store.base.VectorStoreIndex at 0x7d13284f6320>"
            ]
          },
          "metadata": {},
          "execution_count": 14
        }
      ]
    },
    {
      "cell_type": "code",
      "source": [
        "query_engine=index.as_query_engine()"
      ],
      "metadata": {
        "id": "3d_BLByFoWPU"
      },
      "execution_count": null,
      "outputs": []
    },
    {
      "cell_type": "code",
      "source": [
        "response=query_engine.query(\"from given context extract future growth prospects, key changes in the business, key triggers, important information that might have a material effect on next year's earnings and growth.\")"
      ],
      "metadata": {
        "id": "CbMdk9bfoYu7",
        "colab": {
          "base_uri": "https://localhost:8080/"
        },
        "outputId": "289d2d64-2d14-460a-82f8-b5720b466068"
      },
      "execution_count": null,
      "outputs": [
        {
          "output_type": "stream",
          "name": "stderr",
          "text": [
            "/usr/local/lib/python3.10/dist-packages/transformers/generation/configuration_utils.py:590: UserWarning: `do_sample` is set to `False`. However, `temperature` is set to `0.0` -- this flag is only used in sample-based generation modes. You should set `do_sample=True` or unset `temperature`.\n",
            "  warnings.warn(\n",
            "/usr/local/lib/python3.10/dist-packages/transformers/generation/configuration_utils.py:595: UserWarning: `do_sample` is set to `False`. However, `top_p` is set to `0.9` -- this flag is only used in sample-based generation modes. You should set `do_sample=True` or unset `top_p`.\n",
            "  warnings.warn(\n"
          ]
        }
      ]
    },
    {
      "cell_type": "code",
      "source": [
        "print(response)"
      ],
      "metadata": {
        "id": "oefqaXK_pYsO",
        "colab": {
          "base_uri": "https://localhost:8080/"
        },
        "outputId": "6e617407-88ff-4b9d-ee10-f2bf99220799"
      },
      "execution_count": null,
      "outputs": [
        {
          "output_type": "stream",
          "name": "stdout",
          "text": [
            "\n",
            "Based on the provided context, the future growth prospects of SJS Enterprises can be summarized as follows:\n",
            "\n",
            "1. New generation products: The company is investing in new products that require additional materials, testing, and manpower. This may impact margins in the short term but is expected to lead to long-term growth.\n",
            "2. Acquisition of Walter Pack India: The acquisition of Walter Pack India is expected to add growth opportunities for the company, particularly in the Indian market and through cross-selling, exports, and penetrating existing customers faster with new technology products.\n",
            "3. Technology support agreement: The company has a technology support agreement with the parent company of Walter Pack, which will allow it to service existing customers and expand into new areas.\n",
            "4. Inorganic acquisitions: The company plans to grow through inorganic acquisitions, which will add to the growth above the 20% to 25% organic growth rate.\n",
            "5. Strategic outlook: The company is focused on growth through new products, acquisitions, and cross-selling, with a strategic outlook to expand its presence in the Indian market and globally.\n",
            "\n"
          ]
        }
      ]
    }
  ]
}